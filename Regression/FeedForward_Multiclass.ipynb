{
  "nbformat": 4,
  "nbformat_minor": 0,
  "metadata": {
    "colab": {
      "provenance": []
    },
    "kernelspec": {
      "name": "python3",
      "display_name": "Python 3"
    },
    "language_info": {
      "name": "python"
    }
  },
  "cells": [
    {
      "cell_type": "code",
      "execution_count": 1,
      "metadata": {
        "id": "WhRPSW9UV5hl"
      },
      "outputs": [],
      "source": [
        "import random\n",
        "import matplotlib.pyplot as plt\n",
        "import matplotlib\n",
        "import numpy as np\n",
        "import tensorflow as tf\n",
        "\n",
        "from tensorflow.keras import layers\n",
        "from tensorflow.keras import Sequential\n",
        "from tensorflow.keras.layers import Dense, Dropout\n",
        "from tensorflow.keras.datasets import mnist\n",
        "from tensorflow.keras.datasets import fashion_mnist\n",
        "from tensorflow.keras.utils import to_categorical\n",
        "\n",
        "from matplotlib.ticker import (MultipleLocator, FormatStrFormatter)\n",
        "\n",
        "plt.rcParams['axes.titlesize'] = 16\n",
        "plt.rcParams['axes.labelsize'] = 14\n",
        "plt.rcParams['image.cmap'] = 'gray'"
      ]
    },
    {
      "cell_type": "markdown",
      "source": [
        "#**Seed Value:**\n",
        "####A seed value is a numerical input used to initialize a random number generator (RNG). It ensures that the RNG produces the same sequence of random numbers every time it is run with the same seed.\n",
        "###Purpose:\n",
        "1. Reproducibility: Seed values enable reproducibility of results, making it easier to debug and compare models.\n",
        "2. Consistency: Seed values ensure consistent random number generation across different runs.\n",
        "3. Testing: Seed values facilitate testing by allowing for predictable random number generation.\n",
        "###Types of Seed Values:\n",
        "1. Fixed Seed: A constant seed value used for all runs.\n",
        "2. Random Seed: A randomly generated seed value for each run.\n",
        "###Common Seed Values:\n",
        "1. 42: A popular choice for seed values, originating from Douglas Adams' book \"The Hitchhiker's Guide to the Galaxy.\"\n",
        "2. 0: A simple and common seed value.\n",
        "3. Time-based Seed: Using the current time as a seed value.\n",
        "###Impact on Machine Learning:\n",
        "1. Model Initialization: Seed values affect weight initialization in neural networks.\n",
        "2. Data Shuffling: Seed values influence data shuffling and batching.\n",
        "Random Search: Seed values impact random search and hyperparameter tuning."
      ],
      "metadata": {
        "id": "d38vUVFiWwb8"
      }
    },
    {
      "cell_type": "code",
      "source": [
        "SEED_VALUE = 42\n",
        "\n",
        "# Fix seed to make training deterministic.\n",
        "random.seed(SEED_VALUE)\n",
        "np.random.seed(SEED_VALUE)\n",
        "tf.random.set_seed(SEED_VALUE)"
      ],
      "metadata": {
        "id": "djNd0SqdWIx5"
      },
      "execution_count": 2,
      "outputs": []
    },
    {
      "cell_type": "markdown",
      "source": [
        "##Load and Split the MNIST Dataset\n",
        "The MNIST dataset contains 70,000 images partitioned into 60,000 for training and 10,000 for test. Reserving a portion of the data for validation can be accomplished by further partitioning the training data. As shown below, we carve out 10,000 samples from the training data to use for validation."
      ],
      "metadata": {
        "id": "MatdyevrXZw7"
      }
    },
    {
      "cell_type": "code",
      "source": [
        "(X_train_all, y_train_all), (X_test, y_test) = mnist.load_data()"
      ],
      "metadata": {
        "colab": {
          "base_uri": "https://localhost:8080/"
        },
        "id": "_rCUX66aWI04",
        "outputId": "5eb4025a-adfa-4f80-c81a-a72b01ce1b84"
      },
      "execution_count": 3,
      "outputs": [
        {
          "output_type": "stream",
          "name": "stdout",
          "text": [
            "Downloading data from https://storage.googleapis.com/tensorflow/tf-keras-datasets/mnist.npz\n",
            "\u001b[1m11490434/11490434\u001b[0m \u001b[32m━━━━━━━━━━━━━━━━━━━━\u001b[0m\u001b[37m\u001b[0m \u001b[1m1s\u001b[0m 0us/step\n"
          ]
        }
      ]
    },
    {
      "cell_type": "code",
      "source": [
        "X_train_all.shape,y_train_all.shape,X_test.shape,y_test.shape"
      ],
      "metadata": {
        "colab": {
          "base_uri": "https://localhost:8080/"
        },
        "id": "gVjkvCL5WI3t",
        "outputId": "3cd143d4-8c61-46a9-b393-1851b5f40ac1"
      },
      "execution_count": 6,
      "outputs": [
        {
          "output_type": "execute_result",
          "data": {
            "text/plain": [
              "((60000, 28, 28), (60000,), (10000, 28, 28), (10000,))"
            ]
          },
          "metadata": {},
          "execution_count": 6
        }
      ]
    },
    {
      "cell_type": "code",
      "source": [
        "X_valid = X_train_all[:10000]"
      ],
      "metadata": {
        "id": "5R4vfmO8WI6e"
      },
      "execution_count": 7,
      "outputs": []
    },
    {
      "cell_type": "code",
      "source": [
        "X_valid.shape"
      ],
      "metadata": {
        "colab": {
          "base_uri": "https://localhost:8080/"
        },
        "id": "pLPlmUODWJBl",
        "outputId": "22ab4ee2-5ecf-4d21-ddb8-667a184c6cf4"
      },
      "execution_count": 8,
      "outputs": [
        {
          "output_type": "execute_result",
          "data": {
            "text/plain": [
              "(10000, 28, 28)"
            ]
          },
          "metadata": {},
          "execution_count": 8
        }
      ]
    },
    {
      "cell_type": "code",
      "source": [
        "X_train = X_train_all[10000:]\n",
        "\n",
        "y_valid = y_train_all[:10000]\n",
        "y_train = y_train_all[10000:]\n",
        "\n",
        "print(X_train.shape)\n",
        "print(X_valid.shape)\n",
        "print(X_test.shape)"
      ],
      "metadata": {
        "colab": {
          "base_uri": "https://localhost:8080/"
        },
        "id": "gZ3PKWg2WJHV",
        "outputId": "4b64aab1-59ba-46cc-bfa6-445bcbdc3557"
      },
      "execution_count": 9,
      "outputs": [
        {
          "output_type": "stream",
          "name": "stdout",
          "text": [
            "(50000, 28, 28)\n",
            "(10000, 28, 28)\n",
            "(10000, 28, 28)\n"
          ]
        }
      ]
    },
    {
      "cell_type": "code",
      "source": [
        "plt.figure(figsize=(18, 5))\n",
        "for i in range(5):\n",
        "    plt.subplot(1, 5, i + 1)\n",
        "    plt.axis(True)\n",
        "    plt.imshow(X_train[i], cmap='gray')\n",
        "    plt.subplots_adjust(wspace=0.2, hspace=0.2)"
      ],
      "metadata": {
        "colab": {
          "base_uri": "https://localhost:8080/",
          "height": 296
        },
        "id": "mvC15FPyYR8g",
        "outputId": "f9dc8e08-5c90-4749-ddeb-1152d2bf9fa8"
      },
      "execution_count": 13,
      "outputs": [
        {
          "output_type": "display_data",
          "data": {
            "text/plain": [
              "<Figure size 1800x500 with 5 Axes>"
            ],
            "image/png": "[encoded data removed]"
          },
          "metadata": {}
        }
      ]
    },
    {
      "cell_type": "markdown",
      "source": [
        "#**Dataset Preprocessing**\n",
        "##Input Feature Transformation and Normalization\n",
        "Since we are now working with images as the input, we need to find some logical way to represent the image data as a set of features. A naive approach that actually works fairly well for this dataset is to just assume that the pixel intensities are the features. And one way to transform the image data into a set of features that we can process is to **flatten the 2D array into a 1D array.** The 28x28 input image thus becomes a 1D array containing **784 features.** Notice that we also **normalize the pixel intensities to be in the range [0, 1].** This is very common when working with image data which helps the model train more efficiently. Also, just to be clear, using the pixel intensities as features is a naive approach that we are using intentionally here to keep things simple. As we will see in subsequent posts, we will learn about convolutional neural networks (CNNs), which use more advanced techniques for representing and processing image data in neural networks."
      ],
      "metadata": {
        "id": "eTeQSYFGYuLJ"
      }
    },
    {
      "cell_type": "code",
      "source": [
        "X_train = X_train.reshape((X_train.shape[0], 28 * 28))\n",
        "X_train = X_train.astype(\"float32\") / 255\n",
        "\n",
        "X_test = X_test.reshape((X_test.shape[0], 28 * 28))\n",
        "X_test = X_test.astype(\"float32\") / 255\n",
        "\n",
        "X_valid = X_valid.reshape((X_valid.shape[0], 28 * 28))\n",
        "X_valid = X_valid.astype(\"float32\") / 255"
      ],
      "metadata": {
        "id": "wvmAjRXJYSEw"
      },
      "execution_count": 14,
      "outputs": []
    },
    {
      "cell_type": "markdown",
      "source": [
        "##**Label Encoding Options**\n",
        "When working with categorical data, the target labels need to be represented as numerical values prior to processing the data through machine learning algorithms. **Label encoding is the process of converting class labels from strings to numerical values.** We have a couple of options for how to numerically encode the labels for each class. We can use **ordinal integer encoding,** where an integer is assigned to each class, or we can use a technique called **one-hot encoding,** which uses a separate binary vector to encode each class label. Depending on the dataset, one approach might be preferred over the other, but for most situations, one-hot encoding is often used. Since this is an introductory post, we will briefly demonstrate what each encoding looks like so you are familiar with both representations.\n",
        "\n",
        "##**Integer Label Encoding**\n",
        "Datasets that contain categorical labels may represent the labels internally as strings or as integers. However, prior to processing the dataset through a neural network, the labels must have a numerical representation. When the dataset contains integer labels for categorical data, a class label file is provided that defines the mapping from class names to their integer representations in the dataset so the integers can be mapped back to class names when needed. As a concrete example, consider the dictionary mapping shown below for the Fashion MNIST dataset.\n",
        "\n",
        "\n",
        "0 T-shirt/top\n",
        "\n",
        "1 Trouser\n",
        "\n",
        "2 Pullover\n",
        "\n",
        "3 Dress\n",
        "\n",
        "4 Coat\n",
        "\n",
        "5 Sandal\n",
        "\n",
        "6 Shirt\n",
        "\n",
        "7 Sneaker\n",
        "\n",
        "8 Bag\n",
        "\n",
        "9 Ankle boot\n",
        "\n",
        "The Fashion MNIST dataset itself contains the integer label,s which we can verify this by loading the dataset and printing out some of the labels as shown in the output from the code cell below. This type of **label encoding** is called **Integer Encoding because unique integers are used to encode the class (string) labels.**\n",
        "\n",
        " However, when the **class labels have no relationship to one another,** it is often recommended that **One-Hot Encoding is used instead,** which is described in the next section."
      ],
      "metadata": {
        "id": "ruglM7veZQzT"
      }
    },
    {
      "cell_type": "code",
      "source": [
        "# Load the Fashion MNIST dataset.\n",
        "((X_train_fashion, y_train_fashion), (_, _)) = fashion_mnist.load_data()\n",
        "\n",
        "# The labels in the Fashion MNIST dataset are encoded as integers.\n",
        "print(y_train_fashion[0:9])"
      ],
      "metadata": {
        "colab": {
          "base_uri": "https://localhost:8080/"
        },
        "id": "xI3yvt7rYSHq",
        "outputId": "c91b3a3e-a359-4dc1-a4a8-d6a2b3e2695d"
      },
      "execution_count": 15,
      "outputs": [
        {
          "output_type": "stream",
          "name": "stdout",
          "text": [
            "Downloading data from https://storage.googleapis.com/tensorflow/tf-keras-datasets/train-labels-idx1-ubyte.gz\n",
            "\u001b[1m29515/29515\u001b[0m \u001b[32m━━━━━━━━━━━━━━━━━━━━\u001b[0m\u001b[37m\u001b[0m \u001b[1m0s\u001b[0m 0us/step\n",
            "Downloading data from https://storage.googleapis.com/tensorflow/tf-keras-datasets/train-images-idx3-ubyte.gz\n",
            "\u001b[1m26421880/26421880\u001b[0m \u001b[32m━━━━━━━━━━━━━━━━━━━━\u001b[0m\u001b[37m\u001b[0m \u001b[1m1s\u001b[0m 0us/step\n",
            "Downloading data from https://storage.googleapis.com/tensorflow/tf-keras-datasets/t10k-labels-idx1-ubyte.gz\n",
            "\u001b[1m5148/5148\u001b[0m \u001b[32m━━━━━━━━━━━━━━━━━━━━\u001b[0m\u001b[37m\u001b[0m \u001b[1m0s\u001b[0m 1us/step\n",
            "Downloading data from https://storage.googleapis.com/tensorflow/tf-keras-datasets/t10k-images-idx3-ubyte.gz\n",
            "\u001b[1m4422102/4422102\u001b[0m \u001b[32m━━━━━━━━━━━━━━━━━━━━\u001b[0m\u001b[37m\u001b[0m \u001b[1m1s\u001b[0m 0us/step\n",
            "[9 0 0 3 0 2 7 2 5]\n"
          ]
        }
      ]
    },
    {
      "cell_type": "markdown",
      "source": [
        "##**One-Hot Label Encoding**\n",
        "One-hot encoding is a technique that represents **categorical labels as one-hot encoded vectors.** So rather than representing the class labels as unique integers, we can represent **each label as a binary vector** using the **to_categorical()** function in Keras as a pre-processing step. In this case, each label is converted to a binary vector where the length of the vector is equal to the number of classes. **All entries are set to zero except for the element that corresponds to the integer label.**"
      ],
      "metadata": {
        "id": "YuB-A4HQeVP7"
      }
    },
    {
      "cell_type": "code",
      "source": [
        "y_train_onehot = to_categorical(y_train_fashion[0:9])\n",
        "print(y_train_onehot)"
      ],
      "metadata": {
        "colab": {
          "base_uri": "https://localhost:8080/"
        },
        "id": "8ZOVt373YSNd",
        "outputId": "54a8ad0e-6a1a-4beb-af06-e3f6727949cb"
      },
      "execution_count": 16,
      "outputs": [
        {
          "output_type": "stream",
          "name": "stdout",
          "text": [
            "[[0. 0. 0. 0. 0. 0. 0. 0. 0. 1.]\n",
            " [1. 0. 0. 0. 0. 0. 0. 0. 0. 0.]\n",
            " [1. 0. 0. 0. 0. 0. 0. 0. 0. 0.]\n",
            " [0. 0. 0. 1. 0. 0. 0. 0. 0. 0.]\n",
            " [1. 0. 0. 0. 0. 0. 0. 0. 0. 0.]\n",
            " [0. 0. 1. 0. 0. 0. 0. 0. 0. 0.]\n",
            " [0. 0. 0. 0. 0. 0. 0. 1. 0. 0.]\n",
            " [0. 0. 1. 0. 0. 0. 0. 0. 0. 0.]\n",
            " [0. 0. 0. 0. 0. 1. 0. 0. 0. 0.]]\n"
          ]
        }
      ]
    },
    {
      "cell_type": "code",
      "source": [
        "# Convert integer labels to one-hot encoded vectors.\n",
        "y_train = to_categorical(y_train)\n",
        "y_valid = to_categorical(y_valid)\n",
        "y_test  = to_categorical(y_test)"
      ],
      "metadata": {
        "id": "L5IZOa3sYSQj"
      },
      "execution_count": 17,
      "outputs": []
    },
    {
      "cell_type": "code",
      "source": [
        "y_train"
      ],
      "metadata": {
        "colab": {
          "base_uri": "https://localhost:8080/"
        },
        "id": "iay8zisaYSSt",
        "outputId": "275569ab-2d92-4f5e-e9f8-d028840e4951"
      },
      "execution_count": 18,
      "outputs": [
        {
          "output_type": "execute_result",
          "data": {
            "text/plain": [
              "array([[0., 0., 0., ..., 0., 0., 0.],\n",
              "       [0., 0., 0., ..., 0., 1., 0.],\n",
              "       [0., 0., 0., ..., 1., 0., 0.],\n",
              "       ...,\n",
              "       [0., 0., 0., ..., 0., 0., 0.],\n",
              "       [0., 0., 0., ..., 0., 0., 0.],\n",
              "       [0., 0., 0., ..., 0., 1., 0.]])"
            ]
          },
          "metadata": {},
          "execution_count": 18
        }
      ]
    },
    {
      "cell_type": "markdown",
      "source": [
        "#**Model Architecture**\n",
        "###**Deep Neural Network Architecture¶**\n",
        "The network architecture shown below has multiple layers. **An input layer, two hidden layers, and an output layer.** There are several things to note about this architecture.\n",
        "\n",
        "1. Input Data: The image input data is pre-processed (flattened) from a 2-Dimensional array [28x28] to a 1-Dimensional vector of length [784x1] where the elements in this input vector are the normalized pixel intensities. The input to the network is sometimes referred to as the input “layer” but it’s not technically a layer in the network because there are no trainable parameters associated with it.\n",
        "2. Hidden Layers: We have two hidden layers that contain some number of neurons (that we need to specify). Each of the neurons in these layers has a non-linear activation function (e.g., ReLU, Sigmoid, etc…).\n",
        "3. Output Layer: We now have ten neurons in the output layer to represent the ten different classes (digits: 0 to 9).\n",
        "4. Dense Layers: All the layers in the network are fully connected, meaning that each neuron in a given layer is fully connected (or dense) to each of the neurons in the previous layer. The weights associated with each layer are represented in bold to indicate that these are matrices that contain each of the weights for all the connections between adjacent layers in the network.\n",
        "5. Softmax Function: The values from each of the neurons in the output layer are passed through a softmax function to produce a probability score for each of the ten digits in the dataset.\n",
        "6. Network Output: The network output (𝑦′y′) is a vector of length ten that contains the probabilities of each output neuron. Predicting the class label simply requires passing (𝑦′y′) through the argmax function to determine the index of the predicted label.\n",
        "7. Loss Function: The loss function used is Cross Entropy Loss, which is generally the preferred loss function for classification problems. It is computed from the ground truth labels (𝑦y) and the output probabilities of the network (𝑦′y′). Note that 𝑦y and 𝑦′y′ are both vectors whose length is equal to the number of classes.\n",
        "\n",
        "Although the diagram looks quite a bit different from the single-layer perceptron network we studied previously, it is fundamentally very similar in terms of the processing that takes place during training and prediction.\n",
        "\n",
        "###We still **compute a loss** based on the predicted output of the network and the ground truth label of the inputs.\n",
        "\n",
        "###**Backpropagation** is used to compute the gradient of the loss with respect to the weights in the network.\n",
        "\n",
        "###**An optimizer** (which implements gradient descent) is used to update the weights in the neural network."
      ],
      "metadata": {
        "id": "LXih6OppfGHR"
      }
    },
    {
      "cell_type": "markdown",
      "source": [
        "![image.png](data:image/png;base64,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)"
      ],
      "metadata": {
        "id": "ClDkwy_Ef1aY"
      }
    },
    {
      "cell_type": "markdown",
      "source": [
        "##**Model Implementation**\n",
        "Here we use Keras to define the model architecture, which has two dense layers (each with 128 neurons) and a single output layer with 10 neurons. Each neuron in the output layer corresponds to a class label from the dataset (0 through 9), where the output of each represents the probability that the input image corresponds to the class associated with that neuron. For example, if the output from the 5th neuron is .87, then that means the probability that the input image is a 4 is 87% (since the first class is 0, the 5th neuron represents the digit 4).\n",
        "\n",
        "Notice that the **first hidden layer has an input shape of [784,1]** since the 28×28 image is flattened to a vector of length 784. The **neurons in each of the hidden layers have activation functions called “ReLU”** which stands for Rectified Linear Unit. The **neurons in the output layer are then passed through a “softmax” function which transforms (normalizes) the raw output, which can be interpreted as a probability** as described above.\n",
        "\n",
        "We will not cover the details of the softmax function or the cross entropy loss function in this post as these are more advanced topics and will be deferred to a post, but briefly, the softmax function normalizes the outputs from the network and converts them to probabilities. The cross-entropy loss function computes a loss between the predicted output probabilities and the ground truth labels. The further the predicted output probabilities are from the target labels, the higher the loss."
      ],
      "metadata": {
        "id": "VYKwZgo-f9rL"
      }
    },
    {
      "cell_type": "code",
      "source": [
        "#Define the Model\n",
        "# Instantiate the model.\n",
        "model = tf.keras.Sequential()\n",
        "\n",
        "# Build the model.\n",
        "model.add(Dense(128, activation='relu', input_shape=(X_train.shape[1],)))\n",
        "model.add(Dense(128, activation='relu'))\n",
        "model.add(Dense(10,  activation=\"softmax\"))\n",
        "\n",
        "# Display the model summary.\n",
        "model.summary()"
      ],
      "metadata": {
        "colab": {
          "base_uri": "https://localhost:8080/",
          "height": 280
        },
        "id": "NeKnz5eKfxPq",
        "outputId": "9533f566-d75a-4431-d817-e0d7bae91f56"
      },
      "execution_count": 19,
      "outputs": [
        {
          "output_type": "stream",
          "name": "stderr",
          "text": [
            "/usr/local/lib/python3.10/dist-packages/keras/src/layers/core/dense.py:87: UserWarning: Do not pass an `input_shape`/`input_dim` argument to a layer. When using Sequential models, prefer using an `Input(shape)` object as the first layer in the model instead.\n",
            "  super().__init__(activity_regularizer=activity_regularizer, **kwargs)\n"
          ]
        },
        {
          "output_type": "display_data",
          "data": {
            "text/plain": [
              "\u001b[1mModel: \"sequential\"\u001b[0m\n"
            ],
            "text/html": [
              "<pre style=\"white-space:pre;overflow-x:auto;line-height:normal;font-family:Menlo,'DejaVu Sans Mono',consolas,'Courier New',monospace\"><span style=\"font-weight: bold\">Model: \"sequential\"</span>\n",
              "</pre>\n"
            ]
          },
          "metadata": {}
        },
        {
          "output_type": "display_data",
          "data": {
            "text/plain": [
              "┏━━━━━━━━━━━━━━━━━━━━━━━━━━━━━━━━━━━━━━┳━━━━━━━━━━━━━━━━━━━━━━━━━━━━━┳━━━━━━━━━━━━━━━━━┓\n",
              "┃\u001b[1m \u001b[0m\u001b[1mLayer (type)                        \u001b[0m\u001b[1m \u001b[0m┃\u001b[1m \u001b[0m\u001b[1mOutput Shape               \u001b[0m\u001b[1m \u001b[0m┃\u001b[1m \u001b[0m\u001b[1m        Param #\u001b[0m\u001b[1m \u001b[0m┃\n",
              "┡━━━━━━━━━━━━━━━━━━━━━━━━━━━━━━━━━━━━━━╇━━━━━━━━━━━━━━━━━━━━━━━━━━━━━╇━━━━━━━━━━━━━━━━━┩\n",
              "│ dense (\u001b[38;5;33mDense\u001b[0m)                        │ (\u001b[38;5;45mNone\u001b[0m, \u001b[38;5;34m128\u001b[0m)                 │         \u001b[38;5;34m100,480\u001b[0m │\n",
              "├──────────────────────────────────────┼─────────────────────────────┼─────────────────┤\n",
              "│ dense_1 (\u001b[38;5;33mDense\u001b[0m)                      │ (\u001b[38;5;45mNone\u001b[0m, \u001b[38;5;34m128\u001b[0m)                 │          \u001b[38;5;34m16,512\u001b[0m │\n",
              "├──────────────────────────────────────┼─────────────────────────────┼─────────────────┤\n",
              "│ dense_2 (\u001b[38;5;33mDense\u001b[0m)                      │ (\u001b[38;5;45mNone\u001b[0m, \u001b[38;5;34m10\u001b[0m)                  │           \u001b[38;5;34m1,290\u001b[0m │\n",
              "└──────────────────────────────────────┴─────────────────────────────┴─────────────────┘\n"
            ],
            "text/html": [
              "<pre style=\"white-space:pre;overflow-x:auto;line-height:normal;font-family:Menlo,'DejaVu Sans Mono',consolas,'Courier New',monospace\">┏━━━━━━━━━━━━━━━━━━━━━━━━━━━━━━━━━━━━━━┳━━━━━━━━━━━━━━━━━━━━━━━━━━━━━┳━━━━━━━━━━━━━━━━━┓\n",
              "┃<span style=\"font-weight: bold\"> Layer (type)                         </span>┃<span style=\"font-weight: bold\"> Output Shape                </span>┃<span style=\"font-weight: bold\">         Param # </span>┃\n",
              "┡━━━━━━━━━━━━━━━━━━━━━━━━━━━━━━━━━━━━━━╇━━━━━━━━━━━━━━━━━━━━━━━━━━━━━╇━━━━━━━━━━━━━━━━━┩\n",
              "│ dense (<span style=\"color: #0087ff; text-decoration-color: #0087ff\">Dense</span>)                        │ (<span style=\"color: #00d7ff; text-decoration-color: #00d7ff\">None</span>, <span style=\"color: #00af00; text-decoration-color: #00af00\">128</span>)                 │         <span style=\"color: #00af00; text-decoration-color: #00af00\">100,480</span> │\n",
              "├──────────────────────────────────────┼─────────────────────────────┼─────────────────┤\n",
              "│ dense_1 (<span style=\"color: #0087ff; text-decoration-color: #0087ff\">Dense</span>)                      │ (<span style=\"color: #00d7ff; text-decoration-color: #00d7ff\">None</span>, <span style=\"color: #00af00; text-decoration-color: #00af00\">128</span>)                 │          <span style=\"color: #00af00; text-decoration-color: #00af00\">16,512</span> │\n",
              "├──────────────────────────────────────┼─────────────────────────────┼─────────────────┤\n",
              "│ dense_2 (<span style=\"color: #0087ff; text-decoration-color: #0087ff\">Dense</span>)                      │ (<span style=\"color: #00d7ff; text-decoration-color: #00d7ff\">None</span>, <span style=\"color: #00af00; text-decoration-color: #00af00\">10</span>)                  │           <span style=\"color: #00af00; text-decoration-color: #00af00\">1,290</span> │\n",
              "└──────────────────────────────────────┴─────────────────────────────┴─────────────────┘\n",
              "</pre>\n"
            ]
          },
          "metadata": {}
        },
        {
          "output_type": "display_data",
          "data": {
            "text/plain": [
              "\u001b[1m Total params: \u001b[0m\u001b[38;5;34m118,282\u001b[0m (462.04 KB)\n"
            ],
            "text/html": [
              "<pre style=\"white-space:pre;overflow-x:auto;line-height:normal;font-family:Menlo,'DejaVu Sans Mono',consolas,'Courier New',monospace\"><span style=\"font-weight: bold\"> Total params: </span><span style=\"color: #00af00; text-decoration-color: #00af00\">118,282</span> (462.04 KB)\n",
              "</pre>\n"
            ]
          },
          "metadata": {}
        },
        {
          "output_type": "display_data",
          "data": {
            "text/plain": [
              "\u001b[1m Trainable params: \u001b[0m\u001b[38;5;34m118,282\u001b[0m (462.04 KB)\n"
            ],
            "text/html": [
              "<pre style=\"white-space:pre;overflow-x:auto;line-height:normal;font-family:Menlo,'DejaVu Sans Mono',consolas,'Courier New',monospace\"><span style=\"font-weight: bold\"> Trainable params: </span><span style=\"color: #00af00; text-decoration-color: #00af00\">118,282</span> (462.04 KB)\n",
              "</pre>\n"
            ]
          },
          "metadata": {}
        },
        {
          "output_type": "display_data",
          "data": {
            "text/plain": [
              "\u001b[1m Non-trainable params: \u001b[0m\u001b[38;5;34m0\u001b[0m (0.00 B)\n"
            ],
            "text/html": [
              "<pre style=\"white-space:pre;overflow-x:auto;line-height:normal;font-family:Menlo,'DejaVu Sans Mono',consolas,'Courier New',monospace\"><span style=\"font-weight: bold\"> Non-trainable params: </span><span style=\"color: #00af00; text-decoration-color: #00af00\">0</span> (0.00 B)\n",
              "</pre>\n"
            ]
          },
          "metadata": {}
        }
      ]
    },
    {
      "cell_type": "markdown",
      "source": [
        "#**Compile the Model**\n",
        "This step defines the optimizer and the loss function that will be used in the training loop. This is also where we can specify any additional metrics to track.\n",
        "\n",
        "1. Optimizer: Here, we will use the **RMSProp optimizer** in Keras.\n",
        "\n",
        "2. Loss Function: As mentioned above, the preferred loss function for classification problems is Cross Entropy. But depending on how the labels are encoded, we’ll need to specify the proper form of the cross entropy loss function. If the **labels are one-hot encoded,** then you should specify the loss function as **categorical_crossentropy,** and if the **labels are integer encoded,** then you should use **sparse_categorical_crossentropy.** When performing **binary classification**, you should use **binary_crossentropy** as the loss function. Since we are using one-hot encoding in this example, we will specify the loss function as categorical_crossentropy.\n",
        "\n",
        "3. Metrics: Finally, we also specify accuracy as an additional metric to record during training so that we can plot it after training is completed. The training loss and validation loss are automatically recorded, so there is no need to specify those."
      ],
      "metadata": {
        "id": "JayfvpYrghNQ"
      }
    },
    {
      "cell_type": "code",
      "source": [
        "model.compile(optimizer=\"rmsprop\",\n",
        "              loss=\"categorical_crossentropy\",\n",
        "              metrics=[\"accuracy\"])"
      ],
      "metadata": {
        "id": "HjPWb7vgfxSo"
      },
      "execution_count": 20,
      "outputs": []
    },
    {
      "cell_type": "markdown",
      "source": [
        "##**Train the Model**\n",
        "To train the model, we call the fit() the method in Keras. Notice that since we split the original training data into train and validation components, we need to explicitly specify the **validation dataset using validation_data=(X_valid, y_valid)).** Recall from an earlier post in this series on linear regression that we also have the option to use the **validation_split** argument to automatically withhold a random portion of the training data for use as the validation data. So here, we’re demonstrating how to explicitly use a separate validation dataset"
      ],
      "metadata": {
        "id": "0UlrObE6hJ1-"
      }
    },
    {
      "cell_type": "code",
      "source": [
        "training_results = model.fit(X_train,\n",
        "                             y_train,\n",
        "                             epochs=21,\n",
        "                             batch_size=64,\n",
        "                             validation_data=(X_valid, y_valid));"
      ],
      "metadata": {
        "colab": {
          "base_uri": "https://localhost:8080/"
        },
        "id": "b8cy6GuofxWr",
        "outputId": "1ae8f150-ed62-4a4f-db92-f1d978bfffb5"
      },
      "execution_count": 21,
      "outputs": [
        {
          "output_type": "stream",
          "name": "stdout",
          "text": [
            "Epoch 1/21\n",
            "\u001b[1m782/782\u001b[0m \u001b[32m━━━━━━━━━━━━━━━━━━━━\u001b[0m\u001b[37m\u001b[0m \u001b[1m6s\u001b[0m 6ms/step - accuracy: 0.8643 - loss: 0.4780 - val_accuracy: 0.9450 - val_loss: 0.1755\n",
            "Epoch 2/21\n",
            "\u001b[1m782/782\u001b[0m \u001b[32m━━━━━━━━━━━━━━━━━━━━\u001b[0m\u001b[37m\u001b[0m \u001b[1m4s\u001b[0m 5ms/step - accuracy: 0.9601 - loss: 0.1360 - val_accuracy: 0.9606 - val_loss: 0.1299\n",
            "Epoch 3/21\n",
            "\u001b[1m782/782\u001b[0m \u001b[32m━━━━━━━━━━━━━━━━━━━━\u001b[0m\u001b[37m\u001b[0m \u001b[1m4s\u001b[0m 5ms/step - accuracy: 0.9746 - loss: 0.0893 - val_accuracy: 0.9658 - val_loss: 0.1137\n",
            "Epoch 4/21\n",
            "\u001b[1m782/782\u001b[0m \u001b[32m━━━━━━━━━━━━━━━━━━━━\u001b[0m\u001b[37m\u001b[0m \u001b[1m6s\u001b[0m 6ms/step - accuracy: 0.9814 - loss: 0.0649 - val_accuracy: 0.9691 - val_loss: 0.1105\n",
            "Epoch 5/21\n",
            "\u001b[1m782/782\u001b[0m \u001b[32m━━━━━━━━━━━━━━━━━━━━\u001b[0m\u001b[37m\u001b[0m \u001b[1m4s\u001b[0m 5ms/step - accuracy: 0.9863 - loss: 0.0487 - val_accuracy: 0.9715 - val_loss: 0.1104\n",
            "Epoch 6/21\n",
            "\u001b[1m782/782\u001b[0m \u001b[32m━━━━━━━━━━━━━━━━━━━━\u001b[0m\u001b[37m\u001b[0m \u001b[1m4s\u001b[0m 5ms/step - accuracy: 0.9894 - loss: 0.0385 - val_accuracy: 0.9717 - val_loss: 0.1157\n",
            "Epoch 7/21\n",
            "\u001b[1m782/782\u001b[0m \u001b[32m━━━━━━━━━━━━━━━━━━━━\u001b[0m\u001b[37m\u001b[0m \u001b[1m6s\u001b[0m 7ms/step - accuracy: 0.9921 - loss: 0.0293 - val_accuracy: 0.9692 - val_loss: 0.1311\n",
            "Epoch 8/21\n",
            "\u001b[1m782/782\u001b[0m \u001b[32m━━━━━━━━━━━━━━━━━━━━\u001b[0m\u001b[37m\u001b[0m \u001b[1m9s\u001b[0m 5ms/step - accuracy: 0.9935 - loss: 0.0243 - val_accuracy: 0.9714 - val_loss: 0.1345\n",
            "Epoch 9/21\n",
            "\u001b[1m782/782\u001b[0m \u001b[32m━━━━━━━━━━━━━━━━━━━━\u001b[0m\u001b[37m\u001b[0m \u001b[1m6s\u001b[0m 6ms/step - accuracy: 0.9946 - loss: 0.0196 - val_accuracy: 0.9732 - val_loss: 0.1316\n",
            "Epoch 10/21\n",
            "\u001b[1m782/782\u001b[0m \u001b[32m━━━━━━━━━━━━━━━━━━━━\u001b[0m\u001b[37m\u001b[0m \u001b[1m4s\u001b[0m 5ms/step - accuracy: 0.9956 - loss: 0.0156 - val_accuracy: 0.9733 - val_loss: 0.1338\n",
            "Epoch 11/21\n",
            "\u001b[1m782/782\u001b[0m \u001b[32m━━━━━━━━━━━━━━━━━━━━\u001b[0m\u001b[37m\u001b[0m \u001b[1m5s\u001b[0m 5ms/step - accuracy: 0.9968 - loss: 0.0121 - val_accuracy: 0.9697 - val_loss: 0.1635\n",
            "Epoch 12/21\n",
            "\u001b[1m782/782\u001b[0m \u001b[32m━━━━━━━━━━━━━━━━━━━━\u001b[0m\u001b[37m\u001b[0m \u001b[1m5s\u001b[0m 5ms/step - accuracy: 0.9966 - loss: 0.0112 - val_accuracy: 0.9705 - val_loss: 0.1805\n",
            "Epoch 13/21\n",
            "\u001b[1m782/782\u001b[0m \u001b[32m━━━━━━━━━━━━━━━━━━━━\u001b[0m\u001b[37m\u001b[0m \u001b[1m4s\u001b[0m 5ms/step - accuracy: 0.9966 - loss: 0.0101 - val_accuracy: 0.9720 - val_loss: 0.1590\n",
            "Epoch 14/21\n",
            "\u001b[1m782/782\u001b[0m \u001b[32m━━━━━━━━━━━━━━━━━━━━\u001b[0m\u001b[37m\u001b[0m \u001b[1m4s\u001b[0m 5ms/step - accuracy: 0.9977 - loss: 0.0076 - val_accuracy: 0.9729 - val_loss: 0.1572\n",
            "Epoch 15/21\n",
            "\u001b[1m782/782\u001b[0m \u001b[32m━━━━━━━━━━━━━━━━━━━━\u001b[0m\u001b[37m\u001b[0m \u001b[1m7s\u001b[0m 8ms/step - accuracy: 0.9976 - loss: 0.0081 - val_accuracy: 0.9730 - val_loss: 0.1660\n",
            "Epoch 16/21\n",
            "\u001b[1m782/782\u001b[0m \u001b[32m━━━━━━━━━━━━━━━━━━━━\u001b[0m\u001b[37m\u001b[0m \u001b[1m4s\u001b[0m 5ms/step - accuracy: 0.9976 - loss: 0.0072 - val_accuracy: 0.9765 - val_loss: 0.1508\n",
            "Epoch 17/21\n",
            "\u001b[1m782/782\u001b[0m \u001b[32m━━━━━━━━━━━━━━━━━━━━\u001b[0m\u001b[37m\u001b[0m \u001b[1m5s\u001b[0m 6ms/step - accuracy: 0.9985 - loss: 0.0048 - val_accuracy: 0.9764 - val_loss: 0.1523\n",
            "Epoch 18/21\n",
            "\u001b[1m782/782\u001b[0m \u001b[32m━━━━━━━━━━━━━━━━━━━━\u001b[0m\u001b[37m\u001b[0m \u001b[1m4s\u001b[0m 5ms/step - accuracy: 0.9984 - loss: 0.0051 - val_accuracy: 0.9711 - val_loss: 0.2137\n",
            "Epoch 19/21\n",
            "\u001b[1m782/782\u001b[0m \u001b[32m━━━━━━━━━━━━━━━━━━━━\u001b[0m\u001b[37m\u001b[0m \u001b[1m5s\u001b[0m 5ms/step - accuracy: 0.9983 - loss: 0.0050 - val_accuracy: 0.9738 - val_loss: 0.2051\n",
            "Epoch 20/21\n",
            "\u001b[1m782/782\u001b[0m \u001b[32m━━━━━━━━━━━━━━━━━━━━\u001b[0m\u001b[37m\u001b[0m \u001b[1m5s\u001b[0m 7ms/step - accuracy: 0.9988 - loss: 0.0041 - val_accuracy: 0.9752 - val_loss: 0.1951\n",
            "Epoch 21/21\n",
            "\u001b[1m782/782\u001b[0m \u001b[32m━━━━━━━━━━━━━━━━━━━━\u001b[0m\u001b[37m\u001b[0m \u001b[1m9s\u001b[0m 5ms/step - accuracy: 0.9981 - loss: 0.0053 - val_accuracy: 0.9743 - val_loss: 0.1942\n"
          ]
        }
      ]
    },
    {
      "cell_type": "code",
      "source": [
        "#Plot the Training Results\n",
        "def plot_results(metrics, title=None, ylabel=None, ylim=None, metric_name=None, color=None):\n",
        "\n",
        "    fig, ax = plt.subplots(figsize=(15, 4))\n",
        "\n",
        "    if not (isinstance(metric_name, list) or isinstance(metric_name, tuple)):\n",
        "        metrics = [metrics,]\n",
        "        metric_name = [metric_name,]\n",
        "\n",
        "    for idx, metric in enumerate(metrics):\n",
        "        ax.plot(metric, color=color[idx])\n",
        "\n",
        "    plt.xlabel(\"Epoch\")\n",
        "    plt.ylabel(ylabel)\n",
        "    plt.title(title)\n",
        "    plt.xlim([0, 20])\n",
        "    plt.ylim(ylim)\n",
        "    # Tailor x-axis tick marks\n",
        "    ax.xaxis.set_major_locator(MultipleLocator(5))\n",
        "    ax.xaxis.set_major_formatter(FormatStrFormatter('%d'))\n",
        "    ax.xaxis.set_minor_locator(MultipleLocator(1))\n",
        "    plt.grid(True)\n",
        "    plt.legend(metric_name)\n",
        "    plt.show()\n",
        "    plt.close()"
      ],
      "metadata": {
        "id": "7ylMpZxGh4nO"
      },
      "execution_count": 22,
      "outputs": []
    },
    {
      "cell_type": "markdown",
      "source": [
        "In the first plot below, we see that the loss for both training and validation both start to decline initially, but **after about five epochs, the validation loss starts to increase steadily, while the training loss continues to decline and nearly reaches zero after 20 epochs. This kind of behavior indicates that the model is doing an excellent job on the training dataset but doesn’t do as well when presented with images that it’s never seen before from the validation dataset.** We see a similar trend in the second plot, which shows that the training accuracy nearly reaches 100% while the validation accuracy is closer to 98%. Even though 98% is quite good, the model is overfitting on the training data. This is a very common problem in Machine Learning, and several techniques can be used to mitigate this, which will be covered in future posts."
      ],
      "metadata": {
        "id": "TUhOjDeLiMhQ"
      }
    },
    {
      "cell_type": "code",
      "source": [
        "# Retrieve training results.\n",
        "train_loss = training_results.history[\"loss\"]\n",
        "train_acc  = training_results.history[\"accuracy\"]\n",
        "valid_loss = training_results.history[\"val_loss\"]\n",
        "valid_acc  = training_results.history[\"val_accuracy\"]\n",
        "\n",
        "plot_results([ train_loss, valid_loss ],\n",
        "            ylabel=\"Loss\",\n",
        "            ylim = [0.0, 0.5],\n",
        "            metric_name=[\"Training Loss\", \"Validation Loss\"],\n",
        "            color=[\"g\", \"b\"]);\n",
        "\n",
        "plot_results([ train_acc, valid_acc ],\n",
        "            ylabel=\"Accuracy\",\n",
        "            ylim = [0.9, 1.0],\n",
        "            metric_name=[\"Training Accuracy\", \"Validation Accuracy\"],\n",
        "            color=[\"g\", \"b\"])"
      ],
      "metadata": {
        "colab": {
          "base_uri": "https://localhost:8080/",
          "height": 779
        },
        "id": "la_ENjjBiChP",
        "outputId": "69c6f110-c9c9-4db7-8140-90136386d9a5"
      },
      "execution_count": 23,
      "outputs": [
        {
          "output_type": "display_data",
          "data": {
            "text/plain": [
              "<Figure size 1500x400 with 1 Axes>"
            ],
            "image/png": "[encoded data removed]"
          },
          "metadata": {}
        },
        {
          "output_type": "display_data",
          "data": {
            "text/plain": [
              "<Figure size 1500x400 with 1 Axes>"
            ],
            "image/png": "[encoded data removed]"
          },
          "metadata": {}
        }
      ]
    },
    {
      "cell_type": "markdown",
      "source": [
        "##**Model Evaluation**\n",
        "###Make Predictions on Sample Test Images\n",
        "We can now predict the results for all the test images, as shown in the code below. Here, we call the **predict() method to retrieve all the predictions, and then we select a specific index from the test set and print out the predicted scores for each class.** You can experiment with the code below by setting the test index to various values and see how the highest score is usually associated with the correct value indicated by the ground truth."
      ],
      "metadata": {
        "id": "bkGcO1Lkiba7"
      }
    },
    {
      "cell_type": "code",
      "source": [
        "y_test.shape"
      ],
      "metadata": {
        "colab": {
          "base_uri": "https://localhost:8080/"
        },
        "id": "LcrZOqFKiu39",
        "outputId": "29fe1987-4b00-439a-f072-62191cc0b0f3"
      },
      "execution_count": 27,
      "outputs": [
        {
          "output_type": "execute_result",
          "data": {
            "text/plain": [
              "(10000, 10)"
            ]
          },
          "metadata": {},
          "execution_count": 27
        }
      ]
    },
    {
      "cell_type": "code",
      "source": [
        "predictions = model.predict(X_test)\n",
        "index = 0 # up to 9999\n",
        "print('Ground truth for test digit: ',y_test[index])\n",
        "print('\\n');\n",
        "print('Predictions for each class:\\n')\n",
        "for i in range(10):\n",
        "    print('digit:', i, ' probability: ', predictions[index][i])"
      ],
      "metadata": {
        "colab": {
          "base_uri": "https://localhost:8080/"
        },
        "id": "cpmSQBFIiCq0",
        "outputId": "590345ec-d466-4dd1-8e63-aba2fb634476"
      },
      "execution_count": 24,
      "outputs": [
        {
          "output_type": "stream",
          "name": "stdout",
          "text": [
            "\u001b[1m313/313\u001b[0m \u001b[32m━━━━━━━━━━━━━━━━━━━━\u001b[0m\u001b[37m\u001b[0m \u001b[1m1s\u001b[0m 2ms/step\n",
            "Ground truth for test digit:  [0. 0. 0. 0. 0. 0. 0. 1. 0. 0.]\n",
            "\n",
            "\n",
            "Predictions for each class:\n",
            "\n",
            "digit: 0  probability:  8.729837e-25\n",
            "digit: 1  probability:  3.617277e-21\n",
            "digit: 2  probability:  3.460681e-17\n",
            "digit: 3  probability:  6.1899135e-16\n",
            "digit: 4  probability:  8.43316e-30\n",
            "digit: 5  probability:  5.053907e-25\n",
            "digit: 6  probability:  2.6305837e-36\n",
            "digit: 7  probability:  0.99999994\n",
            "digit: 8  probability:  2.8177708e-22\n",
            "digit: 9  probability:  4.4525763e-18\n"
          ]
        }
      ]
    },
    {
      "cell_type": "markdown",
      "source": [
        "##**Confusion Matrix**\n",
        "A confusion matrix is a very common metric that is used to summarize the results of a classification problem. The information is presented in the form of a table or matrix where **one axis represents the ground truth labels for each class, and the other axis represents the predicted labels** from the network. The entries in the table represent the number of instances from an experiment (which are sometimes represented as percentages rather than counts). Generating a confusion matrix in TensorFlow is accomplished by calling the function **tf.math.confusion_matrix(),** which takes two required arguments which are the list of **ground truth labels and the associated predicted labels.**"
      ],
      "metadata": {
        "id": "_IzVyzPPjJBn"
      }
    },
    {
      "cell_type": "code",
      "source": [
        "# Generate predictions for the test dataset.\n",
        "predictions = model.predict(X_test)\n",
        "\n",
        "# For each sample image in the test dataset, select the class label with the highest probability.\n",
        "predicted_labels = [np.argmax(i) for i in predictions]"
      ],
      "metadata": {
        "colab": {
          "base_uri": "https://localhost:8080/"
        },
        "id": "qHWaMRfmiCuD",
        "outputId": "0395b455-e58d-4e09-b5e8-0d6ca1b5f52b"
      },
      "execution_count": 28,
      "outputs": [
        {
          "output_type": "stream",
          "name": "stdout",
          "text": [
            "\u001b[1m313/313\u001b[0m \u001b[32m━━━━━━━━━━━━━━━━━━━━\u001b[0m\u001b[37m\u001b[0m \u001b[1m1s\u001b[0m 3ms/step\n"
          ]
        }
      ]
    },
    {
      "cell_type": "code",
      "source": [
        "predicted_labels"
      ],
      "metadata": {
        "colab": {
          "base_uri": "https://localhost:8080/"
        },
        "id": "1wGjevYLiC4w",
        "outputId": "84cdf42a-a97b-4146-b827-85e303f9e641"
      },
      "execution_count": 29,
      "outputs": [
        {
          "output_type": "execute_result",
          "data": {
            "text/plain": [
              "[7,\n",
              " 2,\n",
              " 1,\n",
              " 0,\n",
              " 4,\n",
              " 1,\n",
              " 4,\n",
              " 9,\n",
              " 5,\n",
              " 9,\n",
              " 0,\n",
              " 6,\n",
              " 9,\n",
              " 0,\n",
              " 1,\n",
              " 5,\n",
              " 9,\n",
              " 7,\n",
              " 8,\n",
              " 4,\n",
              " 9,\n",
              " 6,\n",
              " 6,\n",
              " 5,\n",
              " 4,\n",
              " 0,\n",
              " 7,\n",
              " 4,\n",
              " 0,\n",
              " 1,\n",
              " 3,\n",
              " 1,\n",
              " 3,\n",
              " 4,\n",
              " 7,\n",
              " 2,\n",
              " 7,\n",
              " 1,\n",
              " 2,\n",
              " 1,\n",
              " 1,\n",
              " 7,\n",
              " 4,\n",
              " 2,\n",
              " 3,\n",
              " 5,\n",
              " 1,\n",
              " 2,\n",
              " 4,\n",
              " 4,\n",
              " 6,\n",
              " 3,\n",
              " 5,\n",
              " 5,\n",
              " 6,\n",
              " 0,\n",
              " 4,\n",
              " 1,\n",
              " 9,\n",
              " 5,\n",
              " 7,\n",
              " 8,\n",
              " 9,\n",
              " 3,\n",
              " 7,\n",
              " 4,\n",
              " 6,\n",
              " 4,\n",
              " 3,\n",
              " 0,\n",
              " 7,\n",
              " 0,\n",
              " 2,\n",
              " 9,\n",
              " 1,\n",
              " 7,\n",
              " 3,\n",
              " 2,\n",
              " 9,\n",
              " 7,\n",
              " 7,\n",
              " 6,\n",
              " 2,\n",
              " 7,\n",
              " 8,\n",
              " 4,\n",
              " 7,\n",
              " 3,\n",
              " 6,\n",
              " 1,\n",
              " 3,\n",
              " 6,\n",
              " 9,\n",
              " 3,\n",
              " 1,\n",
              " 4,\n",
              " 1,\n",
              " 7,\n",
              " 6,\n",
              " 9,\n",
              " 6,\n",
              " 0,\n",
              " 5,\n",
              " 4,\n",
              " 9,\n",
              " 9,\n",
              " 2,\n",
              " 1,\n",
              " 9,\n",
              " 4,\n",
              " 8,\n",
              " 7,\n",
              " 3,\n",
              " 9,\n",
              " 7,\n",
              " 9,\n",
              " 4,\n",
              " 4,\n",
              " 9,\n",
              " 2,\n",
              " 5,\n",
              " 4,\n",
              " 7,\n",
              " 6,\n",
              " 7,\n",
              " 9,\n",
              " 0,\n",
              " 5,\n",
              " 8,\n",
              " 5,\n",
              " 6,\n",
              " 6,\n",
              " 5,\n",
              " 7,\n",
              " 8,\n",
              " 1,\n",
              " 0,\n",
              " 1,\n",
              " 6,\n",
              " 4,\n",
              " 6,\n",
              " 7,\n",
              " 3,\n",
              " 1,\n",
              " 7,\n",
              " 1,\n",
              " 8,\n",
              " 2,\n",
              " 0,\n",
              " 2,\n",
              " 9,\n",
              " 9,\n",
              " 5,\n",
              " 5,\n",
              " 1,\n",
              " 5,\n",
              " 6,\n",
              " 0,\n",
              " 3,\n",
              " 4,\n",
              " 4,\n",
              " 6,\n",
              " 5,\n",
              " 4,\n",
              " 6,\n",
              " 5,\n",
              " 4,\n",
              " 5,\n",
              " 1,\n",
              " 4,\n",
              " 4,\n",
              " 7,\n",
              " 2,\n",
              " 3,\n",
              " 2,\n",
              " 7,\n",
              " 1,\n",
              " 8,\n",
              " 1,\n",
              " 8,\n",
              " 1,\n",
              " 8,\n",
              " 5,\n",
              " 0,\n",
              " 8,\n",
              " 9,\n",
              " 2,\n",
              " 5,\n",
              " 0,\n",
              " 1,\n",
              " 1,\n",
              " 1,\n",
              " 0,\n",
              " 9,\n",
              " 0,\n",
              " 3,\n",
              " 1,\n",
              " 6,\n",
              " 4,\n",
              " 2,\n",
              " 3,\n",
              " 6,\n",
              " 1,\n",
              " 1,\n",
              " 1,\n",
              " 3,\n",
              " 9,\n",
              " 5,\n",
              " 2,\n",
              " 9,\n",
              " 4,\n",
              " 5,\n",
              " 9,\n",
              " 3,\n",
              " 9,\n",
              " 0,\n",
              " 3,\n",
              " 6,\n",
              " 5,\n",
              " 5,\n",
              " 7,\n",
              " 2,\n",
              " 2,\n",
              " 7,\n",
              " 1,\n",
              " 2,\n",
              " 8,\n",
              " 4,\n",
              " 1,\n",
              " 7,\n",
              " 3,\n",
              " 3,\n",
              " 8,\n",
              " 8,\n",
              " 7,\n",
              " 9,\n",
              " 2,\n",
              " 2,\n",
              " 4,\n",
              " 1,\n",
              " 5,\n",
              " 9,\n",
              " 8,\n",
              " 7,\n",
              " 2,\n",
              " 3,\n",
              " 0,\n",
              " 6,\n",
              " 4,\n",
              " 2,\n",
              " 4,\n",
              " 1,\n",
              " 9,\n",
              " 5,\n",
              " 7,\n",
              " 7,\n",
              " 2,\n",
              " 8,\n",
              " 2,\n",
              " 0,\n",
              " 8,\n",
              " 5,\n",
              " 7,\n",
              " 7,\n",
              " 4,\n",
              " 1,\n",
              " 8,\n",
              " 1,\n",
              " 8,\n",
              " 0,\n",
              " 3,\n",
              " 0,\n",
              " 1,\n",
              " 9,\n",
              " 9,\n",
              " 4,\n",
              " 1,\n",
              " 8,\n",
              " 2,\n",
              " 1,\n",
              " 2,\n",
              " 9,\n",
              " 7,\n",
              " 5,\n",
              " 9,\n",
              " 2,\n",
              " 6,\n",
              " 4,\n",
              " 1,\n",
              " 5,\n",
              " 8,\n",
              " 2,\n",
              " 9,\n",
              " 2,\n",
              " 0,\n",
              " 4,\n",
              " 0,\n",
              " 0,\n",
              " 2,\n",
              " 8,\n",
              " 1,\n",
              " 7,\n",
              " 1,\n",
              " 2,\n",
              " 4,\n",
              " 0,\n",
              " 2,\n",
              " 7,\n",
              " 4,\n",
              " 3,\n",
              " 3,\n",
              " 0,\n",
              " 0,\n",
              " 3,\n",
              " 1,\n",
              " 9,\n",
              " 6,\n",
              " 5,\n",
              " 2,\n",
              " 5,\n",
              " 9,\n",
              " 7,\n",
              " 9,\n",
              " 3,\n",
              " 0,\n",
              " 4,\n",
              " 1,\n",
              " 0,\n",
              " 7,\n",
              " 1,\n",
              " 1,\n",
              " 2,\n",
              " 1,\n",
              " 5,\n",
              " 3,\n",
              " 3,\n",
              " 9,\n",
              " 7,\n",
              " 8,\n",
              " 6,\n",
              " 3,\n",
              " 6,\n",
              " 1,\n",
              " 3,\n",
              " 8,\n",
              " 1,\n",
              " 0,\n",
              " 5,\n",
              " 1,\n",
              " 3,\n",
              " 1,\n",
              " 5,\n",
              " 5,\n",
              " 6,\n",
              " 1,\n",
              " 8,\n",
              " 5,\n",
              " 1,\n",
              " 7,\n",
              " 9,\n",
              " 4,\n",
              " 6,\n",
              " 2,\n",
              " 2,\n",
              " 5,\n",
              " 0,\n",
              " 6,\n",
              " 5,\n",
              " 6,\n",
              " 3,\n",
              " 7,\n",
              " 2,\n",
              " 0,\n",
              " 8,\n",
              " 8,\n",
              " 5,\n",
              " 4,\n",
              " 1,\n",
              " 1,\n",
              " 4,\n",
              " 0,\n",
              " 7,\n",
              " 3,\n",
              " 7,\n",
              " 6,\n",
              " 1,\n",
              " 6,\n",
              " 2,\n",
              " 1,\n",
              " 9,\n",
              " 2,\n",
              " 8,\n",
              " 6,\n",
              " 1,\n",
              " 9,\n",
              " 5,\n",
              " 2,\n",
              " 5,\n",
              " 4,\n",
              " 4,\n",
              " 2,\n",
              " 8,\n",
              " 3,\n",
              " 8,\n",
              " 2,\n",
              " 4,\n",
              " 5,\n",
              " 0,\n",
              " 3,\n",
              " 1,\n",
              " 7,\n",
              " 7,\n",
              " 5,\n",
              " 7,\n",
              " 9,\n",
              " 7,\n",
              " 1,\n",
              " 9,\n",
              " 2,\n",
              " 1,\n",
              " 4,\n",
              " 2,\n",
              " 9,\n",
              " 2,\n",
              " 0,\n",
              " 4,\n",
              " 9,\n",
              " 1,\n",
              " 4,\n",
              " 8,\n",
              " 1,\n",
              " 8,\n",
              " 4,\n",
              " 5,\n",
              " 9,\n",
              " 8,\n",
              " 8,\n",
              " 3,\n",
              " 7,\n",
              " 6,\n",
              " 0,\n",
              " 0,\n",
              " 3,\n",
              " 0,\n",
              " 2,\n",
              " 0,\n",
              " 6,\n",
              " 9,\n",
              " 9,\n",
              " 3,\n",
              " 3,\n",
              " 3,\n",
              " 2,\n",
              " 3,\n",
              " 9,\n",
              " 1,\n",
              " 1,\n",
              " 6,\n",
              " 8,\n",
              " 0,\n",
              " 5,\n",
              " 6,\n",
              " 6,\n",
              " 6,\n",
              " 3,\n",
              " 8,\n",
              " 8,\n",
              " 2,\n",
              " 7,\n",
              " 5,\n",
              " 8,\n",
              " 9,\n",
              " 6,\n",
              " 1,\n",
              " 8,\n",
              " 4,\n",
              " 1,\n",
              " 2,\n",
              " 5,\n",
              " 9,\n",
              " 1,\n",
              " 9,\n",
              " 7,\n",
              " 5,\n",
              " 4,\n",
              " 0,\n",
              " 8,\n",
              " 9,\n",
              " 9,\n",
              " 1,\n",
              " 0,\n",
              " 5,\n",
              " 2,\n",
              " 3,\n",
              " 7,\n",
              " 2,\n",
              " 9,\n",
              " 4,\n",
              " 0,\n",
              " 6,\n",
              " 3,\n",
              " 9,\n",
              " 5,\n",
              " 2,\n",
              " 1,\n",
              " 3,\n",
              " 1,\n",
              " 3,\n",
              " 6,\n",
              " 5,\n",
              " 7,\n",
              " 4,\n",
              " 2,\n",
              " 2,\n",
              " 6,\n",
              " 3,\n",
              " 2,\n",
              " 6,\n",
              " 5,\n",
              " 4,\n",
              " 8,\n",
              " 9,\n",
              " 7,\n",
              " 1,\n",
              " 3,\n",
              " 0,\n",
              " 3,\n",
              " 8,\n",
              " 3,\n",
              " 1,\n",
              " 9,\n",
              " 3,\n",
              " 4,\n",
              " 4,\n",
              " 6,\n",
              " 4,\n",
              " 2,\n",
              " 1,\n",
              " 8,\n",
              " 2,\n",
              " 5,\n",
              " 4,\n",
              " 8,\n",
              " 8,\n",
              " 4,\n",
              " 0,\n",
              " 0,\n",
              " 2,\n",
              " 3,\n",
              " 2,\n",
              " 7,\n",
              " 7,\n",
              " 0,\n",
              " 8,\n",
              " 7,\n",
              " 4,\n",
              " 4,\n",
              " 7,\n",
              " 9,\n",
              " 6,\n",
              " 9,\n",
              " 0,\n",
              " 9,\n",
              " 8,\n",
              " 0,\n",
              " 4,\n",
              " 6,\n",
              " 0,\n",
              " 6,\n",
              " 3,\n",
              " 5,\n",
              " 4,\n",
              " 8,\n",
              " 3,\n",
              " 3,\n",
              " 9,\n",
              " 3,\n",
              " 3,\n",
              " 3,\n",
              " 7,\n",
              " 8,\n",
              " 0,\n",
              " 2,\n",
              " 7,\n",
              " 1,\n",
              " 7,\n",
              " 0,\n",
              " 6,\n",
              " 5,\n",
              " 4,\n",
              " 3,\n",
              " 8,\n",
              " 0,\n",
              " 9,\n",
              " 6,\n",
              " 3,\n",
              " 8,\n",
              " 0,\n",
              " 9,\n",
              " 9,\n",
              " 6,\n",
              " 8,\n",
              " 6,\n",
              " 8,\n",
              " 5,\n",
              " 7,\n",
              " 8,\n",
              " 6,\n",
              " 0,\n",
              " 2,\n",
              " 6,\n",
              " 0,\n",
              " 2,\n",
              " 2,\n",
              " 3,\n",
              " 1,\n",
              " 9,\n",
              " 7,\n",
              " 5,\n",
              " 8,\n",
              " 0,\n",
              " 8,\n",
              " 4,\n",
              " 6,\n",
              " 2,\n",
              " 6,\n",
              " 7,\n",
              " 9,\n",
              " 3,\n",
              " 2,\n",
              " 9,\n",
              " 8,\n",
              " 2,\n",
              " 2,\n",
              " 9,\n",
              " 2,\n",
              " 7,\n",
              " 3,\n",
              " 5,\n",
              " 9,\n",
              " 1,\n",
              " 8,\n",
              " 0,\n",
              " 2,\n",
              " 0,\n",
              " 5,\n",
              " 2,\n",
              " 1,\n",
              " 3,\n",
              " 7,\n",
              " 6,\n",
              " 7,\n",
              " 1,\n",
              " 2,\n",
              " 5,\n",
              " 8,\n",
              " 0,\n",
              " 3,\n",
              " 7,\n",
              " 1,\n",
              " 4,\n",
              " 0,\n",
              " 9,\n",
              " 1,\n",
              " 8,\n",
              " 6,\n",
              " 7,\n",
              " 7,\n",
              " 4,\n",
              " 3,\n",
              " 4,\n",
              " 9,\n",
              " 1,\n",
              " 9,\n",
              " 3,\n",
              " 1,\n",
              " 7,\n",
              " 3,\n",
              " 9,\n",
              " 7,\n",
              " 6,\n",
              " 9,\n",
              " 1,\n",
              " 3,\n",
              " 7,\n",
              " 8,\n",
              " 3,\n",
              " 3,\n",
              " 6,\n",
              " 7,\n",
              " 2,\n",
              " 4,\n",
              " 5,\n",
              " 8,\n",
              " 5,\n",
              " 1,\n",
              " 1,\n",
              " 4,\n",
              " 4,\n",
              " 3,\n",
              " 1,\n",
              " 0,\n",
              " 7,\n",
              " 7,\n",
              " 0,\n",
              " 7,\n",
              " 9,\n",
              " 4,\n",
              " 4,\n",
              " 8,\n",
              " 5,\n",
              " 5,\n",
              " 4,\n",
              " 0,\n",
              " 8,\n",
              " 2,\n",
              " 1,\n",
              " 0,\n",
              " 8,\n",
              " 4,\n",
              " 8,\n",
              " 0,\n",
              " 4,\n",
              " 0,\n",
              " 6,\n",
              " 1,\n",
              " 7,\n",
              " 3,\n",
              " 2,\n",
              " 6,\n",
              " 7,\n",
              " 2,\n",
              " 6,\n",
              " 9,\n",
              " 3,\n",
              " 1,\n",
              " 4,\n",
              " 6,\n",
              " 2,\n",
              " 5,\n",
              " 4,\n",
              " 2,\n",
              " 0,\n",
              " 6,\n",
              " 2,\n",
              " 1,\n",
              " 7,\n",
              " 3,\n",
              " 4,\n",
              " 1,\n",
              " 0,\n",
              " 5,\n",
              " 4,\n",
              " 3,\n",
              " 1,\n",
              " 1,\n",
              " 7,\n",
              " 4,\n",
              " 9,\n",
              " 9,\n",
              " 4,\n",
              " 8,\n",
              " 4,\n",
              " 0,\n",
              " 2,\n",
              " 4,\n",
              " 5,\n",
              " 1,\n",
              " 1,\n",
              " 6,\n",
              " 4,\n",
              " 7,\n",
              " 1,\n",
              " 9,\n",
              " 4,\n",
              " 2,\n",
              " 4,\n",
              " 1,\n",
              " 5,\n",
              " 5,\n",
              " 3,\n",
              " 8,\n",
              " 3,\n",
              " 1,\n",
              " 4,\n",
              " 5,\n",
              " 6,\n",
              " 8,\n",
              " 9,\n",
              " 4,\n",
              " 1,\n",
              " 5,\n",
              " 3,\n",
              " 8,\n",
              " 0,\n",
              " 1,\n",
              " 2,\n",
              " 5,\n",
              " 1,\n",
              " 2,\n",
              " 8,\n",
              " 3,\n",
              " 4,\n",
              " 4,\n",
              " 0,\n",
              " 8,\n",
              " 8,\n",
              " 3,\n",
              " 3,\n",
              " 1,\n",
              " 7,\n",
              " 3,\n",
              " 5,\n",
              " 9,\n",
              " 6,\n",
              " 3,\n",
              " 2,\n",
              " 6,\n",
              " 1,\n",
              " 3,\n",
              " 6,\n",
              " 0,\n",
              " 7,\n",
              " 2,\n",
              " 1,\n",
              " 7,\n",
              " 1,\n",
              " 4,\n",
              " 2,\n",
              " 4,\n",
              " 2,\n",
              " 1,\n",
              " 7,\n",
              " 9,\n",
              " 6,\n",
              " 1,\n",
              " 1,\n",
              " 2,\n",
              " 4,\n",
              " 8,\n",
              " 1,\n",
              " 7,\n",
              " 7,\n",
              " 4,\n",
              " 8,\n",
              " 0,\n",
              " 9,\n",
              " 3,\n",
              " 1,\n",
              " 3,\n",
              " 1,\n",
              " 0,\n",
              " 7,\n",
              " 7,\n",
              " 0,\n",
              " 3,\n",
              " 5,\n",
              " 5,\n",
              " 2,\n",
              " 7,\n",
              " 6,\n",
              " 6,\n",
              " 9,\n",
              " 2,\n",
              " 8,\n",
              " 3,\n",
              " 5,\n",
              " 2,\n",
              " 2,\n",
              " 5,\n",
              " 6,\n",
              " 0,\n",
              " 8,\n",
              " 2,\n",
              " 9,\n",
              " 2,\n",
              " 8,\n",
              " 8,\n",
              " 8,\n",
              " 8,\n",
              " 7,\n",
              " 4,\n",
              " 9,\n",
              " 5,\n",
              " 0,\n",
              " 6,\n",
              " 6,\n",
              " 3,\n",
              " 2,\n",
              " 1,\n",
              " 3,\n",
              " 2,\n",
              " 2,\n",
              " 9,\n",
              " 3,\n",
              " 2,\n",
              " 0,\n",
              " 5,\n",
              " 7,\n",
              " 8,\n",
              " 1,\n",
              " 4,\n",
              " 4,\n",
              " 6,\n",
              " 0,\n",
              " 2,\n",
              " 9,\n",
              " 1,\n",
              " 4,\n",
              " 7,\n",
              " 4,\n",
              " 7,\n",
              " 3,\n",
              " 9,\n",
              " 8,\n",
              " 8,\n",
              " 4,\n",
              " 7,\n",
              " 1,\n",
              " 2,\n",
              " 1,\n",
              " 2,\n",
              " 2,\n",
              " 3,\n",
              " 2,\n",
              " 3,\n",
              " 2,\n",
              " 3,\n",
              " 9,\n",
              " 1,\n",
              " 7,\n",
              " 4,\n",
              " 0,\n",
              " 3,\n",
              " 5,\n",
              " 5,\n",
              " 8,\n",
              " 6,\n",
              " 3,\n",
              " 2,\n",
              " 6,\n",
              " 7,\n",
              " 6,\n",
              " 6,\n",
              " 3,\n",
              " 2,\n",
              " 7,\n",
              " 9,\n",
              " 1,\n",
              " 1,\n",
              " 7,\n",
              " 7,\n",
              " 6,\n",
              " 4,\n",
              " 9,\n",
              " 5,\n",
              " 1,\n",
              " 3,\n",
              " 3,\n",
              " 4,\n",
              " 7,\n",
              " 8,\n",
              " 9,\n",
              " 1,\n",
              " 1,\n",
              " 0,\n",
              " 9,\n",
              " 1,\n",
              " 4,\n",
              " 4,\n",
              " 5,\n",
              " 4,\n",
              " 0,\n",
              " 6,\n",
              " 2,\n",
              " 2,\n",
              " 3,\n",
              " 1,\n",
              " 5,\n",
              " 1,\n",
              " 2,\n",
              " 0,\n",
              " 3,\n",
              " 8,\n",
              " 1,\n",
              " 2,\n",
              " 6,\n",
              " 7,\n",
              " 1,\n",
              " 6,\n",
              " 2,\n",
              " 3,\n",
              " 9,\n",
              " 0,\n",
              " 1,\n",
              " 2,\n",
              " 2,\n",
              " 0,\n",
              " 8,\n",
              " 9,\n",
              " ...]"
            ]
          },
          "metadata": {},
          "execution_count": 29
        }
      ]
    },
    {
      "cell_type": "code",
      "source": [
        "# Convert one-hot encoded labels to integers.\n",
        "y_test_integer_labels = tf.argmax(y_test, axis=1)\n",
        "\n",
        "# Generate a confusion matrix for the test dataset.\n",
        "cm = tf.math.confusion_matrix(labels=y_test_integer_labels, predictions=predicted_labels)\n",
        "\n",
        "# Plot the confusion matrix as a heatmap.\n",
        "plt.figure(figsize=[15, 8])\n",
        "import seaborn as sn\n",
        "sn.heatmap(cm, annot=True, fmt='d', annot_kws={\"size\": 14})\n",
        "plt.xlabel('Predicted')\n",
        "plt.ylabel('Truth')\n",
        "plt.show()"
      ],
      "metadata": {
        "colab": {
          "base_uri": "https://localhost:8080/",
          "height": 701
        },
        "id": "V9wzKPM8jmes",
        "outputId": "0d1a3335-5d43-4084-de13-eaaf80beecb5"
      },
      "execution_count": 30,
      "outputs": [
        {
          "output_type": "display_data",
          "data": {
            "text/plain": [
              "<Figure size 1500x800 with 2 Axes>"
            ],
            "image/png": "[encoded data removed]"
          },
          "metadata": {}
        }
      ]
    },
    {
      "cell_type": "code",
      "source": [],
      "metadata": {
        "id": "5XbVqhsZjmuq"
      },
      "execution_count": null,
      "outputs": []
    },
    {
      "cell_type": "code",
      "source": [],
      "metadata": {
        "id": "GLCjHoqkjmzi"
      },
      "execution_count": null,
      "outputs": []
    },
    {
      "cell_type": "code",
      "source": [],
      "metadata": {
        "id": "NYttOIF3jm2n"
      },
      "execution_count": null,
      "outputs": []
    }
  ]
}