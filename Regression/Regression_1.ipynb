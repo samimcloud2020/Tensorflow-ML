{
  "nbformat": 4,
  "nbformat_minor": 0,
  "metadata": {
    "colab": {
      "provenance": []
    },
    "kernelspec": {
      "name": "python3",
      "display_name": "Python 3"
    },
    "language_info": {
      "name": "python"
    }
  },
  "cells": [
    {
      "cell_type": "markdown",
      "source": [
        "#**Explanation:**\n",
        "1. Data Generation: We generate sample data with 10 features and 1 target variable.\n",
        "2. Data Split: We split the data into training and validation sets.\n",
        "3. Standardization: We standardize the features using StandardScaler.\n",
        "4. Model Architecture: We define a neural network with two hidden layers.\n",
        "5. Learning Rate Scheduler: We define a custom learning rate scheduler using lr_scheduler.\n",
        "6. Callbacks: We define callbacks for learning rate scheduling, early stopping, and model checkpointing.\n",
        "7. Model Compilation: We compile the model with Adam optimizer and mean squared error loss.\n",
        "8. Model Training: We train the model with the defined callbacks.\n",
        "#**Callbacks Used:**\n",
        "####**LearningRateScheduler:** Adjusts the learning rate based on the epoch.\n",
        "####**EarlyStopping:** Stops training when the validation loss stops improving.\n",
        "####**ModelCheckpoint:** Saves the best model based on validation loss.\n",
        "#**Tips and Variations:**\n",
        "1. Experiment with different model architectures.\n",
        "2. Try different optimizers and learning rate schedules.\n",
        "3. Use other callbacks like TensorBoard or ReduceLROnPlateau.\n",
        "4. Monitor training and validation metrics.\n",
        "5. Use techniques like batch normalization or dropout regularization.\n"
      ],
      "metadata": {
        "id": "MhzFgu7z8Yjy"
      }
    },
    {
      "cell_type": "code",
      "source": [
        "# Import necessary libraries\n",
        "import numpy as np\n",
        "import pandas as pd\n",
        "import tensorflow as tf\n",
        "from tensorflow import keras\n",
        "from sklearn.model_selection import train_test_split\n",
        "from sklearn.preprocessing import StandardScaler\n",
        "import matplotlib.pyplot as plt\n",
        "\n",
        "# Generate sample data\n",
        "#We generate sample data with 10 features and 1 target variable.\n",
        "np.random.seed(0)\n",
        "X = np.random.rand(1000, 10)\n",
        "y = 3 * X[:, 0] + 2 * X[:, 1] + np.random.randn(1000)\n",
        "\n"
      ],
      "metadata": {
        "id": "v4XnLH0q8Vef"
      },
      "execution_count": 15,
      "outputs": []
    },
    {
      "cell_type": "code",
      "source": [
        "X.shape, y.shape"
      ],
      "metadata": {
        "colab": {
          "base_uri": "https://localhost:8080/"
        },
        "id": "xZdoAQ_Q7Y_E",
        "outputId": "ae284c8e-612c-4aad-abc8-099f0d963028"
      },
      "execution_count": 16,
      "outputs": [
        {
          "output_type": "execute_result",
          "data": {
            "text/plain": [
              "((1000, 10), (1000,))"
            ]
          },
          "metadata": {},
          "execution_count": 16
        }
      ]
    },
    {
      "cell_type": "code",
      "source": [
        "X"
      ],
      "metadata": {
        "colab": {
          "base_uri": "https://localhost:8080/"
        },
        "id": "lXpRSDrm7z7x",
        "outputId": "d6e20ed0-4890-48ca-bda3-694c14949549"
      },
      "execution_count": 17,
      "outputs": [
        {
          "output_type": "execute_result",
          "data": {
            "text/plain": [
              "array([[0.5488135 , 0.71518937, 0.60276338, ..., 0.891773  , 0.96366276,\n",
              "        0.38344152],\n",
              "       [0.79172504, 0.52889492, 0.56804456, ..., 0.83261985, 0.77815675,\n",
              "        0.87001215],\n",
              "       [0.97861834, 0.79915856, 0.46147936, ..., 0.94466892, 0.52184832,\n",
              "        0.41466194],\n",
              "       ...,\n",
              "       [0.40931658, 0.8162211 , 0.01154924, ..., 0.3767429 , 0.69770858,\n",
              "        0.84842039],\n",
              "       [0.47831657, 0.84636004, 0.54831934, ..., 0.76534181, 0.52550272,\n",
              "        0.9910432 ],\n",
              "       [0.69498333, 0.19460689, 0.11403676, ..., 0.75842952, 0.02378743,\n",
              "        0.81357508]])"
            ]
          },
          "metadata": {},
          "execution_count": 17
        }
      ]
    },
    {
      "cell_type": "code",
      "source": [
        "y"
      ],
      "metadata": {
        "colab": {
          "base_uri": "https://localhost:8080/"
        },
        "id": "W5Ucivlr74v2",
        "outputId": "de063db0-4c74-4759-f6a0-7bf7dbb8389a"
      },
      "execution_count": 18,
      "outputs": [
        {
          "output_type": "execute_result",
          "data": {
            "text/plain": [
              "array([ 2.35099892,  3.99644047,  4.09854007,  2.23758167, -0.36868522,\n",
              "        2.37369897,  1.24106446,  3.3292267 ,  1.40220019,  2.55600055,\n",
              "        2.42803382,  3.42426824,  3.03548523,  2.69746564,  2.8834712 ,\n",
              "        3.09993705,  3.76748305,  1.7734206 ,  2.54648137,  1.61480633,\n",
              "        2.10135727,  4.68652814,  3.55874744,  2.25808345,  3.61864575,\n",
              "        3.28740968,  1.55658739,  4.37280601,  2.94263042,  1.70232033,\n",
              "        4.13378714,  2.90817259, -0.58671211,  2.30181786,  1.19131663,\n",
              "        1.00006915,  1.6209367 ,  1.03762454,  3.33040939,  1.89809834,\n",
              "        2.0667526 , -0.25380731,  6.22108817,  0.42596494,  2.91884577,\n",
              "        3.55955018,  1.63572134,  2.78845536,  1.84711116, -0.24823627,\n",
              "        1.61877843,  0.89694955,  2.28198854, -0.01071286,  0.04837022,\n",
              "        1.07671533,  2.25289684,  2.92409923,  1.28410805,  3.23105044,\n",
              "        0.17565827,  1.97376487,  0.96149501, -0.20944133,  3.51191773,\n",
              "        3.35952143,  4.18442918,  3.89867455,  3.18504031,  2.48706802,\n",
              "        1.44032366,  0.07953422,  2.29713639,  2.65350791,  3.83129079,\n",
              "        3.72409044,  2.16514047,  2.7076782 ,  0.41597891,  2.3413865 ,\n",
              "        1.06855895,  2.45031515,  0.86592665,  1.14484399,  2.44508129,\n",
              "        3.54331087,  4.26079903,  2.8700571 ,  1.50592642,  1.85826781,\n",
              "        2.45634642,  2.24943746,  3.05264591,  0.8882929 ,  1.3347162 ,\n",
              "        2.10447248,  2.43896787,  2.83332068,  5.44228234,  0.49246435,\n",
              "        0.72618425,  2.89827046,  3.05697454,  1.1895898 ,  0.45449333,\n",
              "        1.5547275 ,  2.66255191,  2.80679548,  3.93642826,  1.44525   ,\n",
              "        3.73673665,  2.48041803,  4.14334413, -1.11156859,  0.98866125,\n",
              "        1.07710147,  2.08689683,  0.41646742,  3.12362558,  5.1547576 ,\n",
              "        3.17805308,  1.41082894,  4.80513998,  1.60318606,  0.36111198,\n",
              "        2.63667704,  3.60980712,  0.99695224,  4.7638011 ,  4.43947165,\n",
              "        1.08521334, -0.31003983,  0.67590258,  2.23310155,  1.53348654,\n",
              "        0.29867299,  2.08046402,  4.1403854 ,  2.49349714,  1.61502312,\n",
              "        1.63628646,  1.45862465,  2.28270668,  1.14055051,  2.55836161,\n",
              "        2.8305891 ,  3.92558328,  1.13163054,  0.498639  ,  2.52134224,\n",
              "        4.01220545,  0.79257847,  4.63603122,  3.75650771,  1.0196236 ,\n",
              "        3.62881656,  1.89678535,  1.76227741,  2.86755783,  3.95962053,\n",
              "        3.87304617,  3.77488338,  1.38644017,  2.64449901,  1.6644451 ,\n",
              "        1.984538  ,  1.16738052,  2.69351533,  3.48021771,  2.70139937,\n",
              "        4.84604546,  0.17463911,  3.30587187,  2.00372742,  4.92673052,\n",
              "        2.85080284,  3.90233328,  3.684899  ,  3.99481762,  2.60704239,\n",
              "        1.31967568,  2.59691458,  2.33347409,  0.58948115,  2.48370315,\n",
              "        0.81266606,  3.67562698,  3.53909622,  2.82502832,  3.22647084,\n",
              "        4.11312384,  0.90714874, -0.77259362,  2.76827617,  4.07131451,\n",
              "        3.72473705,  2.61720922,  3.39989565,  4.45011592,  2.67433461,\n",
              "        5.92905798,  1.43753366,  0.31740623,  2.84706143,  1.15829498,\n",
              "        4.23785852,  2.69260467,  2.58000454,  1.56664247,  1.77046797,\n",
              "        1.01057809,  0.43766771,  3.40997822,  1.27049595,  3.75752647,\n",
              "        2.84017064,  1.33580209,  1.68652   ,  2.52776024,  4.81968624,\n",
              "        1.34373124,  3.28425958,  3.43540283,  2.81385579,  1.63851611,\n",
              "        5.11219045,  2.08085465,  2.00441211,  1.69997506,  1.36340625,\n",
              "        3.99370608,  4.43278301,  0.20301653,  1.58047288, -0.63157593,\n",
              "       -0.80566238,  2.15286087,  2.15999575,  0.29017904,  3.60058842,\n",
              "        4.1352688 ,  1.21872742,  2.19672685,  1.57299133,  0.69444284,\n",
              "        3.74385553,  2.61660534,  3.09069138,  0.09398546,  2.75153127,\n",
              "        3.32747778,  2.94375233,  2.70539143,  2.10774973,  1.5819619 ,\n",
              "        2.41391098,  4.01624294,  4.41031514,  3.87021413,  1.27989735,\n",
              "        0.65764837,  2.74138892,  0.67014088,  2.26212134,  4.75729971,\n",
              "        4.34753743,  3.96503011,  4.31349122,  4.35923303,  3.22942959,\n",
              "        3.00754226,  3.02364519,  5.37207669,  2.79924303,  1.12373102,\n",
              "        1.70396846,  1.48783425,  2.69180761,  0.56697057,  3.91317565,\n",
              "        0.97244064,  1.36518104,  3.25267792,  1.19574624,  2.21743828,\n",
              "        0.94174469,  2.78771538,  1.86251867,  2.91182277,  2.32873226,\n",
              "        0.2192815 ,  0.38179478,  3.5959788 ,  4.00934394,  0.93293083,\n",
              "        3.51884652,  2.43209339,  1.93059683,  0.92833103,  1.44886428,\n",
              "        0.37643357,  3.22314303,  2.92993611,  2.32561626,  2.75263672,\n",
              "        1.32187766,  3.87057735,  1.56563657,  1.33445557,  3.61445454,\n",
              "        3.10260624,  0.92978992,  3.61527152,  2.95188496,  2.06168024,\n",
              "        1.2323386 ,  1.63617953,  3.39791459,  2.75197828,  0.67301245,\n",
              "        3.39303735,  2.37792598, -0.03588166,  0.23886603, -1.25416615,\n",
              "       -0.07043663,  2.98406841,  1.13869678,  0.18092165,  0.09287602,\n",
              "        1.48125837,  3.81306136,  1.44374966,  4.50328934,  4.36513127,\n",
              "        2.22694196,  4.65169222,  2.1123943 ,  2.59561694,  4.01545121,\n",
              "        3.97165667,  3.13735044,  3.01392896,  0.09238536,  2.24967537,\n",
              "        2.16507161,  2.48265816,  2.32657909,  3.64590774,  4.94797521,\n",
              "        3.26479468,  4.22938658,  3.41121379,  0.59549673,  2.7353035 ,\n",
              "        1.43111856,  1.99351299,  1.86791554,  3.941383  ,  2.05127733,\n",
              "        4.43145721,  3.45611344,  3.08488921, -0.59264909,  3.17408472,\n",
              "        2.40514396,  1.51073389,  4.64337429, -0.42682064,  1.05529295,\n",
              "        2.7461946 ,  3.00652402,  1.07899327,  0.71711163,  1.81972544,\n",
              "        1.9633507 ,  2.1714744 ,  4.04312702,  4.5706466 ,  4.30864242,\n",
              "        2.65271811,  3.19437823,  1.87805429,  2.52311136,  0.60728959,\n",
              "        1.13544821,  2.70933346,  2.82326147,  3.57350055,  2.27832593,\n",
              "        1.38526527,  2.21041696,  1.91639665,  1.95624176,  4.55854664,\n",
              "        3.49861386,  4.55131661,  2.8451175 ,  0.79442198,  1.9244985 ,\n",
              "        1.67676852,  0.09634741,  3.76627522,  2.45551747,  3.95102382,\n",
              "        3.69654435,  2.10217519,  3.99756551,  3.15959498,  2.85919161,\n",
              "        1.45760235,  2.90088486,  3.26259931,  2.69523463,  4.06626104,\n",
              "        4.93715419,  1.35822193,  1.53371135,  3.95474902,  3.49095534,\n",
              "        2.95811012,  6.0739013 ,  4.85107107,  2.72311664,  3.17871963,\n",
              "       -0.36739276,  3.71086618,  4.19164563,  2.10177252,  3.57148534,\n",
              "        3.03743309,  1.98130212,  1.38880253,  1.80145966,  3.33307076,\n",
              "        0.68624134,  1.87011146,  3.0542882 ,  3.1243152 ,  2.80755983,\n",
              "        1.8823358 ,  4.34123612,  0.95203612,  1.44254234,  1.07085347,\n",
              "        3.88555247, -0.65514412,  1.51138906,  4.5880806 ,  1.5169057 ,\n",
              "        2.64487428,  2.89510696,  3.04531217,  2.29204916,  3.01543709,\n",
              "        3.99637639, -0.05424503,  0.94150997,  2.5595016 ,  1.77706469,\n",
              "        2.54754504,  3.09112117,  2.52812629,  5.45609142,  1.4370734 ,\n",
              "        0.70009762, -0.11670407,  2.26556737,  1.58678453,  1.10134607,\n",
              "        1.65695818,  3.00352569,  4.65236919,  3.13049724, -0.58005637,\n",
              "        3.96582795,  0.02995905,  1.00488345,  1.12698651,  4.1934212 ,\n",
              "        3.33448247,  0.38088988,  0.03377852,  2.28214158,  2.34757403,\n",
              "        2.51031597,  2.01096958,  3.47892449,  2.93767034,  3.35716053,\n",
              "        4.05444067,  2.98899698,  1.96362191,  2.07256944,  2.56119244,\n",
              "        3.07384318,  3.13794781,  4.35783565,  4.87454049, -0.33608403,\n",
              "        1.91047887,  4.88815178,  2.44832614,  2.73248456,  0.04108086,\n",
              "        0.93286074,  2.65851706,  2.78724332,  3.98783431,  4.13950491,\n",
              "        2.91804718,  2.71791008,  0.10058652,  2.51355739,  3.01844565,\n",
              "        1.06168046,  1.85017219,  2.64783913,  1.20716012,  4.06131476,\n",
              "        1.58685472, -0.6180485 ,  3.28878371,  0.6001563 ,  3.59673389,\n",
              "        1.05476271,  4.1646507 ,  3.77556042,  2.31420476,  2.79208755,\n",
              "        2.21871113,  1.57894898,  1.21697799,  3.10056586,  2.30649729,\n",
              "        6.1794835 ,  2.97501645,  4.570651  ,  0.08740885,  4.84909824,\n",
              "        3.55087278,  3.93423948,  1.7973347 ,  2.38970463,  2.8180173 ,\n",
              "        3.22048121,  2.31023246,  3.66829444,  4.13266655,  4.33869054,\n",
              "        3.99845161, -0.75273447,  2.67419733,  1.3695845 ,  3.09983493,\n",
              "        2.89870272,  4.18688354,  2.21249249,  2.08642018,  1.72035599,\n",
              "        1.55937743,  4.92048379,  1.81998667,  2.44746204,  0.66389952,\n",
              "       -0.78878226,  2.76628379, -0.43314093,  2.33309939,  2.2377625 ,\n",
              "        1.37641146,  1.44169837,  2.00067185,  3.53169253,  1.20324894,\n",
              "        3.93364685,  2.45689117,  2.76989681,  3.94376685,  4.02072719,\n",
              "        2.89063477,  1.22264265,  0.05768143,  3.17618845,  1.01958956,\n",
              "        2.6578788 ,  1.35889287,  2.55805207,  1.47231295,  1.08183857,\n",
              "        0.78041771,  2.87919629,  3.95227111,  2.46732612,  3.65066846,\n",
              "        4.7579529 ,  5.03603621,  0.62982308,  3.95736202,  0.57223751,\n",
              "        2.52030124,  1.94402406,  2.10618501,  0.75233245,  2.90655691,\n",
              "        2.67428352,  3.2839911 , -1.25233484,  0.74168625, -0.57585168,\n",
              "        2.900512  ,  1.25597934,  1.64110477,  1.40710861, -0.01205716,\n",
              "        0.73847789,  0.68348269,  0.8877285 ,  1.47271001,  1.92736043,\n",
              "        2.76876604,  0.37445718,  1.21504953, -0.21474703,  2.52152928,\n",
              "        2.2252682 ,  4.74197644,  2.85860186,  2.79226438,  3.21969045,\n",
              "        5.28213345,  0.26396108,  3.87112041,  2.14764923,  0.57734221,\n",
              "        3.78539508,  3.71863566,  2.46810268,  3.67453893,  4.28919696,\n",
              "        3.11580525,  3.12353561,  2.67665342,  2.76171774,  0.67074803,\n",
              "        1.16744661,  4.3314104 ,  4.32081805, -0.26656499,  0.03182547,\n",
              "        4.12223069,  1.4664503 ,  1.83996523,  3.20114014,  1.36468442,\n",
              "        2.79855659,  4.41734877,  3.37083136,  3.45197174,  3.358905  ,\n",
              "        2.28738862,  3.20626061,  2.10179207,  5.53779726,  3.40248186,\n",
              "       -0.2943302 ,  0.58011643, -1.23264801,  3.23971269,  3.64980044,\n",
              "        3.00069818,  2.50557915,  0.22770887,  3.53531405,  0.56722977,\n",
              "        2.90699722,  3.51671909,  3.53157375,  3.93580907,  1.28535   ,\n",
              "        0.72047473,  2.3995716 ,  3.67618518,  1.23519538,  3.57531849,\n",
              "        3.01047467,  1.87858518,  1.82733428,  1.36760873,  4.7040913 ,\n",
              "        3.76460474,  4.65439871,  3.03842853,  0.63780967,  2.16861848,\n",
              "        2.06802729,  1.7748692 ,  2.61677285,  2.80161808,  5.34206086,\n",
              "        2.24641111,  2.58656714,  1.67557975,  3.6377734 ,  3.36476812,\n",
              "        0.78118885,  4.37395443,  3.06030642,  3.15262844,  2.75406148,\n",
              "        2.31559882,  1.43767615,  0.88678505,  3.61557363,  0.69444567,\n",
              "        2.43549742,  4.12814383,  3.35099112,  2.8766656 ,  2.51599996,\n",
              "        3.07172391,  2.11165571,  3.01597863,  2.03976358,  1.7277251 ,\n",
              "        1.66504097,  3.48196772,  1.92069145,  0.28224257,  1.33251785,\n",
              "        1.6943325 ,  2.46751433,  2.00803664,  1.0155637 ,  1.73059911,\n",
              "        3.52655648,  2.70030159,  3.75366315,  1.01143155,  2.2702472 ,\n",
              "        2.86910733,  5.07011332,  1.98986496,  2.91346291,  1.00701372,\n",
              "        4.45698747,  1.88981975,  4.13802011,  0.92324862,  1.11720095,\n",
              "        1.65324497,  2.84232151,  3.30196636,  3.41599642,  4.10973631,\n",
              "        2.50407389, -0.98486132,  1.17485029,  0.79474648,  2.44058836,\n",
              "        1.39070618,  0.44935379,  3.32221622,  2.0219795 ,  3.72810813,\n",
              "        3.31292361,  2.31771598, -0.66848209,  3.37034345,  1.45637434,\n",
              "        3.60862904,  0.39658321,  1.61006218,  3.29543286,  4.80782977,\n",
              "        2.9153164 ,  2.66772676,  1.84960927,  0.99441733,  3.28620907,\n",
              "        3.78335701,  2.21362549,  3.01138489,  5.12275559,  3.13396715,\n",
              "        0.01968055,  0.35728862,  1.20707086,  2.55914768,  4.12477878,\n",
              "        1.16987098, -0.77180993, -0.30011598,  0.75155511,  1.44063296,\n",
              "        2.53345942,  3.60953561,  2.11799299,  1.97316244,  2.06072794,\n",
              "        4.25315367,  1.54023298,  1.08610077,  3.23437278,  0.78408822,\n",
              "        2.3639029 ,  0.74093542,  1.93469102,  1.61936753,  0.65991566,\n",
              "        1.04275805,  3.95857471,  2.99686416,  3.38396375,  1.88591512,\n",
              "        1.06289001,  3.52232891,  1.91506722,  2.90686001,  2.49006061,\n",
              "        1.60898132,  0.99245953,  3.44714807,  2.85777448,  2.51375447,\n",
              "        2.33927535, -0.01754394,  1.14588812,  3.45471772,  4.03731425,\n",
              "        4.42720205,  2.09774295,  1.76949996,  1.79131818,  3.38757011,\n",
              "        2.053181  ,  2.32677415,  4.74263661,  2.38697132,  4.9927441 ,\n",
              "        4.90739806,  1.52708316,  2.13025501,  2.11681597,  2.56816611,\n",
              "        4.85261513,  3.92072031,  4.14166883,  0.57977255,  2.29856077,\n",
              "        3.92224532,  0.70251206,  0.07917065,  1.60649589,  2.00488586,\n",
              "        0.60100314,  2.59365418,  0.8995615 ,  3.35883985,  1.592319  ,\n",
              "        3.06169718,  4.42375766,  3.14394658,  0.35420663,  1.39896179,\n",
              "        1.5308738 ,  2.63308313,  4.00610841, -0.4776397 ,  4.14794601,\n",
              "        4.70111955,  4.00868706,  0.95905649,  1.72488155,  2.32485794,\n",
              "        0.57157779,  0.55590249,  2.69097799,  3.66224942,  0.48728828,\n",
              "        2.30557454,  3.33429445,  2.72562736,  2.40512896,  2.50611343,\n",
              "        1.64729836,  3.98106021,  3.81509803,  1.1877625 ,  3.18849913,\n",
              "        1.11330014,  3.26104034,  5.05520084,  4.67676959,  3.8609802 ,\n",
              "        4.85552366,  1.53543805,  4.48164251,  2.89429381,  3.76540361,\n",
              "        5.32586348,  2.49696332,  2.71694573,  1.54800386,  2.08539666,\n",
              "        5.18539562, -0.22916367,  4.10216419,  1.51294767,  0.29933745,\n",
              "       -1.97001389, -0.19142517,  0.94893474,  3.56036362,  4.49776849,\n",
              "        1.93850854,  2.22236158,  3.37806181,  1.59178046,  0.99111242,\n",
              "        3.72769494,  1.43128686,  2.39103048,  2.2567954 , -0.83208117,\n",
              "        2.38703294,  1.61166695,  3.74210049,  2.7628784 ,  3.56502431,\n",
              "        0.08047764, -0.79119036,  3.02164169,  0.8268849 ,  1.88843133,\n",
              "        2.42421615,  2.08192911,  3.68440356,  2.40241295,  3.32069721,\n",
              "        3.42778509,  2.66915095,  0.17027126,  0.06917622,  0.78872516,\n",
              "        2.29404941,  3.39799398,  2.52003166,  1.4011869 ,  2.29725038,\n",
              "        1.69951767,  1.9246244 ,  2.74863095,  3.51589788,  1.1708071 ,\n",
              "        2.26277301,  2.50541716,  1.27236732,  2.91587348,  1.40746602,\n",
              "        1.23551098,  1.54337022,  2.55525182,  2.36083305,  3.24049537,\n",
              "        4.07109316,  3.43099047,  1.78806776,  1.51466401,  3.92109533,\n",
              "        3.14771624,  2.58580561,  0.94891967,  2.95662541,  4.51531716,\n",
              "        4.6297714 ,  1.05225692,  2.41820324,  2.93849102,  1.48735896,\n",
              "        2.11152264, -1.227467  ,  0.69765561,  4.63480435,  3.22784789,\n",
              "        3.69953705,  1.27015193,  2.90016666,  0.01786602,  2.09916965,\n",
              "        4.08587566,  0.80222564,  2.98510154,  2.01185444,  3.86853183,\n",
              "       -0.28855037,  4.25299132,  3.59272176,  4.36116467,  3.8400758 ])"
            ]
          },
          "metadata": {},
          "execution_count": 18
        }
      ]
    },
    {
      "cell_type": "markdown",
      "source": [
        "#**WHAT DO YOU MEAN BY FIT??**\n",
        "\n",
        "###Fitting a model or transformer to training data means estimating its parameters or learning its relationships from the training data.\n",
        "#What happens during fitting:\n",
        "1. **Parameter estimation:** The model or transformer estimates its parameters (e.g., weights, biases) from the training data.\n",
        "2. **Learning relationships:** The model or transformer learns patterns and relationships within the training data.\n",
        "\n",
        "#Types of fitting:\n",
        "1. Supervised learning: Models learn to predict target variables from input features.\n",
        "2. Unsupervised learning: Models learn patterns or structure in the data without target variables.\n",
        "#Examples of fitting:\n",
        "1. Linear Regression: Estimates coefficients (weights) to predict continuous target variables.\n",
        "2. Decision Trees: Learns split points and leaf values to classify or regress target variables.\n",
        "3. StandardScaler: Estimates mean and standard deviation to standardize features.\n",
        "#Why fitting is important:\n",
        "1. Accurate predictions: Fitting enables models to make accurate predictions on unseen data.\n",
        "3. Generalization: Fitting helps models generalize to new, unseen data.\n",
        "Improved performance: Fitting optimizes model parameters for better performance."
      ],
      "metadata": {
        "id": "SzKbbQilVFh2"
      }
    },
    {
      "cell_type": "markdown",
      "source": [
        "#**FIT_TRANSFORM  VS TRANSFORM**\n",
        "####fit_transform and transform are two essential methods in scikit-learn's preprocessing module.\n",
        "#fit_transform:\n",
        "1. **Fits** the transformer to the data: estimates parameters (e.g., mean, variance) from the data.\n",
        "\n",
        "2. **Transforms** the data: applies the estimated parameters to transform the data.\n",
        "\n",
        "#transform:\n",
        "Applies the already estimated parameters to transform new data.\n",
        "\n",
        "#Key differences:\n",
        "\n",
        "1. **Estimation:** fit_transform estimates parameters, while transform uses existing estimates.\n",
        "\n",
        "2. **Data:** fit_transform is used on training data, while transform is used on testing or new data."
      ],
      "metadata": {
        "id": "Jy6lkD5f_eNv"
      }
    },
    {
      "cell_type": "markdown",
      "source": [
        "####fit_transform estimates the mean and scale from X_train and transforms it.\n",
        "###transform applies the estimated mean and scale to transform X_test.\n",
        "#Best Practices:\n",
        "1. Use fit_transform on training data.\n",
        "2. Use transform on testing or new data.\n",
        "3. Avoid using fit_transform on testing data.\n",
        "#Common Methods:\n",
        "\n",
        "StandardScaler\n",
        "\n",
        "MinMaxScaler\n",
        "\n",
        "RobustScaler\n",
        "\n",
        "LabelEncoder\n",
        "\n",
        "OneHotEncoder"
      ],
      "metadata": {
        "id": "lhebDN9kAY5W"
      }
    },
    {
      "cell_type": "markdown",
      "source": [
        "#Additional Tips:\n",
        "1. Use pipelines: Streamline preprocessing and modeling with pipelines.\n",
        "2. Validate: Use techniques like cross-validation to ensure generalization.\n",
        "3. Monitor: Track performance metrics and data distributions.\n",
        "#Key Takeaways:\n",
        "1. Separate preprocessing: Keep training and testing data separate.\n",
        "2. Avoid data leakage: Prevent testing data from influencing training.\n",
        "3. Ensure generalization: Validate models on unseen data.\n",
        "#Common Mistakes:\n",
        "1. Fitting on testing data\n",
        "2. Not validating models\n",
        "3. Ignoring data leakage\n",
        "#Best Practices:\n",
        "1. Use fit for training data\n",
        "2. Use transform for testing data\n",
        "3. Validate models regularly"
      ],
      "metadata": {
        "id": "5IolhwKoWITP"
      }
    },
    {
      "cell_type": "code",
      "source": [
        "# Split data into training and validation sets\n",
        "X_train, X_val, y_train, y_val = train_test_split(X, y, test_size=0.1, random_state=42)"
      ],
      "metadata": {
        "id": "vDWHNvqLMwEI"
      },
      "execution_count": 19,
      "outputs": []
    },
    {
      "cell_type": "code",
      "source": [
        "X_train.shape, X_val.shape, y_train.shape, y_val.shape"
      ],
      "metadata": {
        "colab": {
          "base_uri": "https://localhost:8080/"
        },
        "id": "dfKjZfEp_KY2",
        "outputId": "09b492ba-9a72-400b-a69f-4adbd9045bce"
      },
      "execution_count": 20,
      "outputs": [
        {
          "output_type": "execute_result",
          "data": {
            "text/plain": [
              "((900, 10), (100, 10), (900,), (100,))"
            ]
          },
          "metadata": {},
          "execution_count": 20
        }
      ]
    },
    {
      "cell_type": "code",
      "source": [
        "X_train"
      ],
      "metadata": {
        "colab": {
          "base_uri": "https://localhost:8080/"
        },
        "id": "90jn3Rn1B6Hc",
        "outputId": "838ba4a4-10ff-47d2-d9ea-65ac7d1f9582"
      },
      "execution_count": 21,
      "outputs": [
        {
          "output_type": "execute_result",
          "data": {
            "text/plain": [
              "array([[0.92942836, 0.74454269, 0.54600978, ..., 0.21404058, 0.17231153,\n",
              "        0.80879638],\n",
              "       [0.99217751, 0.58912362, 0.92344193, ..., 0.83596457, 0.42889809,\n",
              "        0.7129967 ],\n",
              "       [0.11753796, 0.48128344, 0.81640963, ..., 0.8943867 , 0.91612422,\n",
              "        0.50463316],\n",
              "       ...,\n",
              "       [0.12348677, 0.46224728, 0.65483252, ..., 0.1750099 , 0.90756512,\n",
              "        0.4832537 ],\n",
              "       [0.04252509, 0.43254571, 0.41248046, ..., 0.88636533, 0.6679426 ,\n",
              "        0.42244379],\n",
              "       [0.23583422, 0.6204999 , 0.63962224, ..., 0.18534859, 0.99581529,\n",
              "        0.12935576]])"
            ]
          },
          "metadata": {},
          "execution_count": 21
        }
      ]
    },
    {
      "cell_type": "code",
      "source": [
        "# Standardize features\n",
        "scaler = StandardScaler()\n",
        "X_train = scaler.fit_transform(X_train)\n",
        "X_val = scaler.transform(X_val)\n"
      ],
      "metadata": {
        "id": "I0NU0T2CBzEL"
      },
      "execution_count": 30,
      "outputs": []
    },
    {
      "cell_type": "code",
      "source": [
        "# Define model architecture\n",
        "model = keras.Sequential([\n",
        "    keras.layers.Dense(64, activation='relu', input_shape=(10,)),\n",
        "    keras.layers.Dense(32, activation='relu'),\n",
        "    keras.layers.Dense(1)\n",
        "])\n",
        "\n",
        "# Define learning rate scheduler\n",
        "def lr_scheduler(epoch):\n",
        "    if epoch < 50:\n",
        "        return 0.001\n",
        "    elif epoch < 100:\n",
        "        return 0.0005\n",
        "    else:\n",
        "        return 0.0001\n",
        "\n",
        "# Define callbacks\n",
        "callbacks = [\n",
        "    keras.callbacks.LearningRateScheduler(lr_scheduler),\n",
        "    keras.callbacks.EarlyStopping(patience=20, min_delta=0.001),\n",
        "    keras.callbacks.ModelCheckpoint('best_model.keras', save_best_only=True)\n",
        "]\n",
        "\n",
        "# Compile model\n",
        "model.compile(optimizer='adam', loss='mean_squared_error')\n",
        "\n",
        "# Train model\n",
        "history = model.fit(X_train, y_train,\n",
        "                    epochs=150,\n",
        "                    batch_size=128,\n",
        "                    validation_data=(X_val, y_val),\n",
        "                    callbacks=callbacks,\n",
        "                    verbose=1)\n",
        "\n"
      ],
      "metadata": {
        "colab": {
          "base_uri": "https://localhost:8080/"
        },
        "id": "tf9kWs2F_H0x",
        "outputId": "a7b129b4-a1ed-4bda-a9ea-bbe041164847"
      },
      "execution_count": 32,
      "outputs": [
        {
          "output_type": "stream",
          "name": "stderr",
          "text": [
            "/usr/local/lib/python3.10/dist-packages/keras/src/layers/core/dense.py:87: UserWarning: Do not pass an `input_shape`/`input_dim` argument to a layer. When using Sequential models, prefer using an `Input(shape)` object as the first layer in the model instead.\n",
            "  super().__init__(activity_regularizer=activity_regularizer, **kwargs)\n"
          ]
        },
        {
          "output_type": "stream",
          "name": "stdout",
          "text": [
            "Epoch 1/150\n",
            "\u001b[1m8/8\u001b[0m \u001b[32m━━━━━━━━━━━━━━━━━━━━\u001b[0m\u001b[37m\u001b[0m \u001b[1m3s\u001b[0m 96ms/step - loss: 5.2979 - val_loss: 3.7336 - learning_rate: 0.0010\n",
            "Epoch 2/150\n",
            "\u001b[1m8/8\u001b[0m \u001b[32m━━━━━━━━━━━━━━━━━━━━\u001b[0m\u001b[37m\u001b[0m \u001b[1m1s\u001b[0m 9ms/step - loss: 3.8836 - val_loss: 2.6242 - learning_rate: 0.0010\n",
            "Epoch 3/150\n",
            "\u001b[1m8/8\u001b[0m \u001b[32m━━━━━━━━━━━━━━━━━━━━\u001b[0m\u001b[37m\u001b[0m \u001b[1m0s\u001b[0m 8ms/step - loss: 2.7913 - val_loss: 1.9717 - learning_rate: 0.0010\n",
            "Epoch 4/150\n",
            "\u001b[1m8/8\u001b[0m \u001b[32m━━━━━━━━━━━━━━━━━━━━\u001b[0m\u001b[37m\u001b[0m \u001b[1m0s\u001b[0m 8ms/step - loss: 2.1691 - val_loss: 1.6638 - learning_rate: 0.0010\n",
            "Epoch 5/150\n",
            "\u001b[1m8/8\u001b[0m \u001b[32m━━━━━━━━━━━━━━━━━━━━\u001b[0m\u001b[37m\u001b[0m \u001b[1m0s\u001b[0m 8ms/step - loss: 1.9014 - val_loss: 1.5444 - learning_rate: 0.0010\n",
            "Epoch 6/150\n",
            "\u001b[1m8/8\u001b[0m \u001b[32m━━━━━━━━━━━━━━━━━━━━\u001b[0m\u001b[37m\u001b[0m \u001b[1m0s\u001b[0m 8ms/step - loss: 1.6762 - val_loss: 1.4523 - learning_rate: 0.0010\n",
            "Epoch 7/150\n",
            "\u001b[1m8/8\u001b[0m \u001b[32m━━━━━━━━━━━━━━━━━━━━\u001b[0m\u001b[37m\u001b[0m \u001b[1m0s\u001b[0m 8ms/step - loss: 1.5366 - val_loss: 1.3257 - learning_rate: 0.0010\n",
            "Epoch 8/150\n",
            "\u001b[1m8/8\u001b[0m \u001b[32m━━━━━━━━━━━━━━━━━━━━\u001b[0m\u001b[37m\u001b[0m \u001b[1m0s\u001b[0m 9ms/step - loss: 1.4067 - val_loss: 1.2150 - learning_rate: 0.0010\n",
            "Epoch 9/150\n",
            "\u001b[1m8/8\u001b[0m \u001b[32m━━━━━━━━━━━━━━━━━━━━\u001b[0m\u001b[37m\u001b[0m \u001b[1m0s\u001b[0m 10ms/step - loss: 1.2948 - val_loss: 1.1458 - learning_rate: 0.0010\n",
            "Epoch 10/150\n",
            "\u001b[1m8/8\u001b[0m \u001b[32m━━━━━━━━━━━━━━━━━━━━\u001b[0m\u001b[37m\u001b[0m \u001b[1m0s\u001b[0m 8ms/step - loss: 1.2187 - val_loss: 1.1113 - learning_rate: 0.0010\n",
            "Epoch 11/150\n",
            "\u001b[1m8/8\u001b[0m \u001b[32m━━━━━━━━━━━━━━━━━━━━\u001b[0m\u001b[37m\u001b[0m \u001b[1m0s\u001b[0m 8ms/step - loss: 1.2436 - val_loss: 1.0874 - learning_rate: 0.0010\n",
            "Epoch 12/150\n",
            "\u001b[1m8/8\u001b[0m \u001b[32m━━━━━━━━━━━━━━━━━━━━\u001b[0m\u001b[37m\u001b[0m \u001b[1m0s\u001b[0m 9ms/step - loss: 1.1176 - val_loss: 1.0714 - learning_rate: 0.0010\n",
            "Epoch 13/150\n",
            "\u001b[1m8/8\u001b[0m \u001b[32m━━━━━━━━━━━━━━━━━━━━\u001b[0m\u001b[37m\u001b[0m \u001b[1m0s\u001b[0m 8ms/step - loss: 1.1539 - val_loss: 1.0713 - learning_rate: 0.0010\n",
            "Epoch 14/150\n",
            "\u001b[1m8/8\u001b[0m \u001b[32m━━━━━━━━━━━━━━━━━━━━\u001b[0m\u001b[37m\u001b[0m \u001b[1m0s\u001b[0m 11ms/step - loss: 1.1227 - val_loss: 1.0513 - learning_rate: 0.0010\n",
            "Epoch 15/150\n",
            "\u001b[1m8/8\u001b[0m \u001b[32m━━━━━━━━━━━━━━━━━━━━\u001b[0m\u001b[37m\u001b[0m \u001b[1m0s\u001b[0m 8ms/step - loss: 1.0732 - val_loss: 1.0352 - learning_rate: 0.0010\n",
            "Epoch 16/150\n",
            "\u001b[1m8/8\u001b[0m \u001b[32m━━━━━━━━━━━━━━━━━━━━\u001b[0m\u001b[37m\u001b[0m \u001b[1m0s\u001b[0m 9ms/step - loss: 1.0332 - val_loss: 1.0207 - learning_rate: 0.0010\n",
            "Epoch 17/150\n",
            "\u001b[1m8/8\u001b[0m \u001b[32m━━━━━━━━━━━━━━━━━━━━\u001b[0m\u001b[37m\u001b[0m \u001b[1m0s\u001b[0m 9ms/step - loss: 1.0458 - val_loss: 1.0143 - learning_rate: 0.0010\n",
            "Epoch 18/150\n",
            "\u001b[1m8/8\u001b[0m \u001b[32m━━━━━━━━━━━━━━━━━━━━\u001b[0m\u001b[37m\u001b[0m \u001b[1m0s\u001b[0m 5ms/step - loss: 1.0195 - val_loss: 1.0216 - learning_rate: 0.0010\n",
            "Epoch 19/150\n",
            "\u001b[1m8/8\u001b[0m \u001b[32m━━━━━━━━━━━━━━━━━━━━\u001b[0m\u001b[37m\u001b[0m \u001b[1m0s\u001b[0m 5ms/step - loss: 1.0348 - val_loss: 1.0252 - learning_rate: 0.0010\n",
            "Epoch 20/150\n",
            "\u001b[1m8/8\u001b[0m \u001b[32m━━━━━━━━━━━━━━━━━━━━\u001b[0m\u001b[37m\u001b[0m \u001b[1m0s\u001b[0m 5ms/step - loss: 1.0086 - val_loss: 1.0215 - learning_rate: 0.0010\n",
            "Epoch 21/150\n",
            "\u001b[1m8/8\u001b[0m \u001b[32m━━━━━━━━━━━━━━━━━━━━\u001b[0m\u001b[37m\u001b[0m \u001b[1m0s\u001b[0m 5ms/step - loss: 0.9925 - val_loss: 1.0213 - learning_rate: 0.0010\n",
            "Epoch 22/150\n",
            "\u001b[1m8/8\u001b[0m \u001b[32m━━━━━━━━━━━━━━━━━━━━\u001b[0m\u001b[37m\u001b[0m \u001b[1m0s\u001b[0m 5ms/step - loss: 1.0341 - val_loss: 1.0226 - learning_rate: 0.0010\n",
            "Epoch 23/150\n",
            "\u001b[1m8/8\u001b[0m \u001b[32m━━━━━━━━━━━━━━━━━━━━\u001b[0m\u001b[37m\u001b[0m \u001b[1m0s\u001b[0m 5ms/step - loss: 1.0714 - val_loss: 1.0247 - learning_rate: 0.0010\n",
            "Epoch 24/150\n",
            "\u001b[1m8/8\u001b[0m \u001b[32m━━━━━━━━━━━━━━━━━━━━\u001b[0m\u001b[37m\u001b[0m \u001b[1m0s\u001b[0m 5ms/step - loss: 1.0476 - val_loss: 1.0179 - learning_rate: 0.0010\n",
            "Epoch 25/150\n",
            "\u001b[1m8/8\u001b[0m \u001b[32m━━━━━━━━━━━━━━━━━━━━\u001b[0m\u001b[37m\u001b[0m \u001b[1m0s\u001b[0m 5ms/step - loss: 1.0471 - val_loss: 1.0161 - learning_rate: 0.0010\n",
            "Epoch 26/150\n",
            "\u001b[1m8/8\u001b[0m \u001b[32m━━━━━━━━━━━━━━━━━━━━\u001b[0m\u001b[37m\u001b[0m \u001b[1m0s\u001b[0m 8ms/step - loss: 1.0202 - val_loss: 1.0100 - learning_rate: 0.0010\n",
            "Epoch 27/150\n",
            "\u001b[1m8/8\u001b[0m \u001b[32m━━━━━━━━━━━━━━━━━━━━\u001b[0m\u001b[37m\u001b[0m \u001b[1m0s\u001b[0m 10ms/step - loss: 0.9673 - val_loss: 1.0047 - learning_rate: 0.0010\n",
            "Epoch 28/150\n",
            "\u001b[1m8/8\u001b[0m \u001b[32m━━━━━━━━━━━━━━━━━━━━\u001b[0m\u001b[37m\u001b[0m \u001b[1m0s\u001b[0m 9ms/step - loss: 0.9619 - val_loss: 0.9997 - learning_rate: 0.0010\n",
            "Epoch 29/150\n",
            "\u001b[1m8/8\u001b[0m \u001b[32m━━━━━━━━━━━━━━━━━━━━\u001b[0m\u001b[37m\u001b[0m \u001b[1m0s\u001b[0m 8ms/step - loss: 0.9719 - val_loss: 0.9796 - learning_rate: 0.0010\n",
            "Epoch 30/150\n",
            "\u001b[1m8/8\u001b[0m \u001b[32m━━━━━━━━━━━━━━━━━━━━\u001b[0m\u001b[37m\u001b[0m \u001b[1m0s\u001b[0m 8ms/step - loss: 0.9592 - val_loss: 0.9587 - learning_rate: 0.0010\n",
            "Epoch 31/150\n",
            "\u001b[1m8/8\u001b[0m \u001b[32m━━━━━━━━━━━━━━━━━━━━\u001b[0m\u001b[37m\u001b[0m \u001b[1m0s\u001b[0m 8ms/step - loss: 0.9223 - val_loss: 0.9586 - learning_rate: 0.0010\n",
            "Epoch 32/150\n",
            "\u001b[1m8/8\u001b[0m \u001b[32m━━━━━━━━━━━━━━━━━━━━\u001b[0m\u001b[37m\u001b[0m \u001b[1m0s\u001b[0m 6ms/step - loss: 0.9206 - val_loss: 0.9685 - learning_rate: 0.0010\n",
            "Epoch 33/150\n",
            "\u001b[1m8/8\u001b[0m \u001b[32m━━━━━━━━━━━━━━━━━━━━\u001b[0m\u001b[37m\u001b[0m \u001b[1m0s\u001b[0m 5ms/step - loss: 0.9505 - val_loss: 0.9736 - learning_rate: 0.0010\n",
            "Epoch 34/150\n",
            "\u001b[1m8/8\u001b[0m \u001b[32m━━━━━━━━━━━━━━━━━━━━\u001b[0m\u001b[37m\u001b[0m \u001b[1m0s\u001b[0m 6ms/step - loss: 0.9264 - val_loss: 0.9783 - learning_rate: 0.0010\n",
            "Epoch 35/150\n",
            "\u001b[1m8/8\u001b[0m \u001b[32m━━━━━━━━━━━━━━━━━━━━\u001b[0m\u001b[37m\u001b[0m \u001b[1m0s\u001b[0m 5ms/step - loss: 0.9434 - val_loss: 0.9740 - learning_rate: 0.0010\n",
            "Epoch 36/150\n",
            "\u001b[1m8/8\u001b[0m \u001b[32m━━━━━━━━━━━━━━━━━━━━\u001b[0m\u001b[37m\u001b[0m \u001b[1m0s\u001b[0m 6ms/step - loss: 0.9438 - val_loss: 0.9770 - learning_rate: 0.0010\n",
            "Epoch 37/150\n",
            "\u001b[1m8/8\u001b[0m \u001b[32m━━━━━━━━━━━━━━━━━━━━\u001b[0m\u001b[37m\u001b[0m \u001b[1m0s\u001b[0m 7ms/step - loss: 0.9237 - val_loss: 0.9786 - learning_rate: 0.0010\n",
            "Epoch 38/150\n",
            "\u001b[1m8/8\u001b[0m \u001b[32m━━━━━━━━━━━━━━━━━━━━\u001b[0m\u001b[37m\u001b[0m \u001b[1m0s\u001b[0m 5ms/step - loss: 0.9365 - val_loss: 0.9871 - learning_rate: 0.0010\n",
            "Epoch 39/150\n",
            "\u001b[1m8/8\u001b[0m \u001b[32m━━━━━━━━━━━━━━━━━━━━\u001b[0m\u001b[37m\u001b[0m \u001b[1m0s\u001b[0m 6ms/step - loss: 0.8830 - val_loss: 0.9827 - learning_rate: 0.0010\n",
            "Epoch 40/150\n",
            "\u001b[1m8/8\u001b[0m \u001b[32m━━━━━━━━━━━━━━━━━━━━\u001b[0m\u001b[37m\u001b[0m \u001b[1m0s\u001b[0m 6ms/step - loss: 0.8776 - val_loss: 0.9655 - learning_rate: 0.0010\n",
            "Epoch 41/150\n",
            "\u001b[1m8/8\u001b[0m \u001b[32m━━━━━━━━━━━━━━━━━━━━\u001b[0m\u001b[37m\u001b[0m \u001b[1m0s\u001b[0m 5ms/step - loss: 0.9060 - val_loss: 0.9653 - learning_rate: 0.0010\n",
            "Epoch 42/150\n",
            "\u001b[1m8/8\u001b[0m \u001b[32m━━━━━━━━━━━━━━━━━━━━\u001b[0m\u001b[37m\u001b[0m \u001b[1m0s\u001b[0m 8ms/step - loss: 0.9394 - val_loss: 0.9582 - learning_rate: 0.0010\n",
            "Epoch 43/150\n",
            "\u001b[1m8/8\u001b[0m \u001b[32m━━━━━━━━━━━━━━━━━━━━\u001b[0m\u001b[37m\u001b[0m \u001b[1m0s\u001b[0m 6ms/step - loss: 0.9061 - val_loss: 0.9634 - learning_rate: 0.0010\n",
            "Epoch 44/150\n",
            "\u001b[1m8/8\u001b[0m \u001b[32m━━━━━━━━━━━━━━━━━━━━\u001b[0m\u001b[37m\u001b[0m \u001b[1m0s\u001b[0m 6ms/step - loss: 0.9288 - val_loss: 0.9659 - learning_rate: 0.0010\n",
            "Epoch 45/150\n",
            "\u001b[1m8/8\u001b[0m \u001b[32m━━━━━━━━━━━━━━━━━━━━\u001b[0m\u001b[37m\u001b[0m \u001b[1m0s\u001b[0m 5ms/step - loss: 0.8968 - val_loss: 0.9643 - learning_rate: 0.0010\n",
            "Epoch 46/150\n",
            "\u001b[1m8/8\u001b[0m \u001b[32m━━━━━━━━━━━━━━━━━━━━\u001b[0m\u001b[37m\u001b[0m \u001b[1m0s\u001b[0m 8ms/step - loss: 0.9210 - val_loss: 0.9535 - learning_rate: 0.0010\n",
            "Epoch 47/150\n",
            "\u001b[1m8/8\u001b[0m \u001b[32m━━━━━━━━━━━━━━━━━━━━\u001b[0m\u001b[37m\u001b[0m \u001b[1m0s\u001b[0m 11ms/step - loss: 0.9643 - val_loss: 0.9517 - learning_rate: 0.0010\n",
            "Epoch 48/150\n",
            "\u001b[1m8/8\u001b[0m \u001b[32m━━━━━━━━━━━━━━━━━━━━\u001b[0m\u001b[37m\u001b[0m \u001b[1m0s\u001b[0m 10ms/step - loss: 0.9208 - val_loss: 0.9318 - learning_rate: 0.0010\n",
            "Epoch 49/150\n",
            "\u001b[1m8/8\u001b[0m \u001b[32m━━━━━━━━━━━━━━━━━━━━\u001b[0m\u001b[37m\u001b[0m \u001b[1m0s\u001b[0m 9ms/step - loss: 0.8478 - val_loss: 0.9137 - learning_rate: 0.0010\n",
            "Epoch 50/150\n",
            "\u001b[1m8/8\u001b[0m \u001b[32m━━━━━━━━━━━━━━━━━━━━\u001b[0m\u001b[37m\u001b[0m \u001b[1m0s\u001b[0m 6ms/step - loss: 0.8986 - val_loss: 0.9148 - learning_rate: 0.0010\n",
            "Epoch 51/150\n",
            "\u001b[1m8/8\u001b[0m \u001b[32m━━━━━━━━━━━━━━━━━━━━\u001b[0m\u001b[37m\u001b[0m \u001b[1m0s\u001b[0m 8ms/step - loss: 0.8709 - val_loss: 0.9036 - learning_rate: 5.0000e-04\n",
            "Epoch 52/150\n",
            "\u001b[1m8/8\u001b[0m \u001b[32m━━━━━━━━━━━━━━━━━━━━\u001b[0m\u001b[37m\u001b[0m \u001b[1m0s\u001b[0m 8ms/step - loss: 0.9060 - val_loss: 0.9024 - learning_rate: 5.0000e-04\n",
            "Epoch 53/150\n",
            "\u001b[1m8/8\u001b[0m \u001b[32m━━━━━━━━━━━━━━━━━━━━\u001b[0m\u001b[37m\u001b[0m \u001b[1m0s\u001b[0m 6ms/step - loss: 0.9225 - val_loss: 0.9085 - learning_rate: 5.0000e-04\n",
            "Epoch 54/150\n",
            "\u001b[1m8/8\u001b[0m \u001b[32m━━━━━━━━━━━━━━━━━━━━\u001b[0m\u001b[37m\u001b[0m \u001b[1m0s\u001b[0m 6ms/step - loss: 0.9105 - val_loss: 0.9106 - learning_rate: 5.0000e-04\n",
            "Epoch 55/150\n",
            "\u001b[1m8/8\u001b[0m \u001b[32m━━━━━━━━━━━━━━━━━━━━\u001b[0m\u001b[37m\u001b[0m \u001b[1m0s\u001b[0m 6ms/step - loss: 0.8639 - val_loss: 0.9190 - learning_rate: 5.0000e-04\n",
            "Epoch 56/150\n",
            "\u001b[1m8/8\u001b[0m \u001b[32m━━━━━━━━━━━━━━━━━━━━\u001b[0m\u001b[37m\u001b[0m \u001b[1m0s\u001b[0m 6ms/step - loss: 0.9438 - val_loss: 0.9209 - learning_rate: 5.0000e-04\n",
            "Epoch 57/150\n",
            "\u001b[1m8/8\u001b[0m \u001b[32m━━━━━━━━━━━━━━━━━━━━\u001b[0m\u001b[37m\u001b[0m \u001b[1m0s\u001b[0m 6ms/step - loss: 0.8580 - val_loss: 0.9180 - learning_rate: 5.0000e-04\n",
            "Epoch 58/150\n",
            "\u001b[1m8/8\u001b[0m \u001b[32m━━━━━━━━━━━━━━━━━━━━\u001b[0m\u001b[37m\u001b[0m \u001b[1m0s\u001b[0m 6ms/step - loss: 0.8941 - val_loss: 0.9105 - learning_rate: 5.0000e-04\n",
            "Epoch 59/150\n",
            "\u001b[1m8/8\u001b[0m \u001b[32m━━━━━━━━━━━━━━━━━━━━\u001b[0m\u001b[37m\u001b[0m \u001b[1m0s\u001b[0m 6ms/step - loss: 0.8637 - val_loss: 0.9069 - learning_rate: 5.0000e-04\n",
            "Epoch 60/150\n",
            "\u001b[1m8/8\u001b[0m \u001b[32m━━━━━━━━━━━━━━━━━━━━\u001b[0m\u001b[37m\u001b[0m \u001b[1m0s\u001b[0m 6ms/step - loss: 0.8864 - val_loss: 0.9134 - learning_rate: 5.0000e-04\n",
            "Epoch 61/150\n",
            "\u001b[1m8/8\u001b[0m \u001b[32m━━━━━━━━━━━━━━━━━━━━\u001b[0m\u001b[37m\u001b[0m \u001b[1m0s\u001b[0m 6ms/step - loss: 0.8257 - val_loss: 0.9128 - learning_rate: 5.0000e-04\n",
            "Epoch 62/150\n",
            "\u001b[1m8/8\u001b[0m \u001b[32m━━━━━━━━━━━━━━━━━━━━\u001b[0m\u001b[37m\u001b[0m \u001b[1m0s\u001b[0m 6ms/step - loss: 0.8645 - val_loss: 0.9134 - learning_rate: 5.0000e-04\n",
            "Epoch 63/150\n",
            "\u001b[1m8/8\u001b[0m \u001b[32m━━━━━━━━━━━━━━━━━━━━\u001b[0m\u001b[37m\u001b[0m \u001b[1m0s\u001b[0m 6ms/step - loss: 0.8554 - val_loss: 0.9118 - learning_rate: 5.0000e-04\n",
            "Epoch 64/150\n",
            "\u001b[1m8/8\u001b[0m \u001b[32m━━━━━━━━━━━━━━━━━━━━\u001b[0m\u001b[37m\u001b[0m \u001b[1m0s\u001b[0m 6ms/step - loss: 0.8258 - val_loss: 0.9111 - learning_rate: 5.0000e-04\n",
            "Epoch 65/150\n",
            "\u001b[1m8/8\u001b[0m \u001b[32m━━━━━━━━━━━━━━━━━━━━\u001b[0m\u001b[37m\u001b[0m \u001b[1m0s\u001b[0m 5ms/step - loss: 0.8476 - val_loss: 0.9081 - learning_rate: 5.0000e-04\n",
            "Epoch 66/150\n",
            "\u001b[1m8/8\u001b[0m \u001b[32m━━━━━━━━━━━━━━━━━━━━\u001b[0m\u001b[37m\u001b[0m \u001b[1m0s\u001b[0m 6ms/step - loss: 0.8343 - val_loss: 0.9072 - learning_rate: 5.0000e-04\n",
            "Epoch 67/150\n",
            "\u001b[1m8/8\u001b[0m \u001b[32m━━━━━━━━━━━━━━━━━━━━\u001b[0m\u001b[37m\u001b[0m \u001b[1m0s\u001b[0m 6ms/step - loss: 0.8301 - val_loss: 0.9193 - learning_rate: 5.0000e-04\n",
            "Epoch 68/150\n",
            "\u001b[1m8/8\u001b[0m \u001b[32m━━━━━━━━━━━━━━━━━━━━\u001b[0m\u001b[37m\u001b[0m \u001b[1m0s\u001b[0m 7ms/step - loss: 0.8621 - val_loss: 0.9169 - learning_rate: 5.0000e-04\n",
            "Epoch 69/150\n",
            "\u001b[1m8/8\u001b[0m \u001b[32m━━━━━━━━━━━━━━━━━━━━\u001b[0m\u001b[37m\u001b[0m \u001b[1m0s\u001b[0m 7ms/step - loss: 0.8382 - val_loss: 0.9122 - learning_rate: 5.0000e-04\n",
            "Epoch 70/150\n",
            "\u001b[1m8/8\u001b[0m \u001b[32m━━━━━━━━━━━━━━━━━━━━\u001b[0m\u001b[37m\u001b[0m \u001b[1m0s\u001b[0m 6ms/step - loss: 0.8526 - val_loss: 0.9122 - learning_rate: 5.0000e-04\n",
            "Epoch 71/150\n",
            "\u001b[1m8/8\u001b[0m \u001b[32m━━━━━━━━━━━━━━━━━━━━\u001b[0m\u001b[37m\u001b[0m \u001b[1m0s\u001b[0m 6ms/step - loss: 0.8264 - val_loss: 0.9122 - learning_rate: 5.0000e-04\n",
            "Epoch 72/150\n",
            "\u001b[1m8/8\u001b[0m \u001b[32m━━━━━━━━━━━━━━━━━━━━\u001b[0m\u001b[37m\u001b[0m \u001b[1m0s\u001b[0m 5ms/step - loss: 0.8428 - val_loss: 0.9171 - learning_rate: 5.0000e-04\n"
          ]
        }
      ]
    },
    {
      "cell_type": "code",
      "source": [
        "# Plot training and validation loss\n",
        "plt.plot(history.history['loss'], label='Training Loss')\n",
        "plt.plot(history.history['val_loss'], label='Validation Loss')\n",
        "plt.legend()\n",
        "plt.show()"
      ],
      "metadata": {
        "colab": {
          "base_uri": "https://localhost:8080/",
          "height": 430
        },
        "id": "WjfI7eRUMwG1",
        "outputId": "a093f63c-9fe9-4f11-babf-12d15bf334d4"
      },
      "execution_count": 33,
      "outputs": [
        {
          "output_type": "display_data",
          "data": {
            "text/plain": [
              "<Figure size 640x480 with 1 Axes>"
            ],
            "image/png": "[encoded data removed]"
          },
          "metadata": {}
        }
      ]
    },
    {
      "cell_type": "code",
      "source": [],
      "metadata": {
        "id": "SweC785IMwKw"
      },
      "execution_count": null,
      "outputs": []
    }
  ]
}