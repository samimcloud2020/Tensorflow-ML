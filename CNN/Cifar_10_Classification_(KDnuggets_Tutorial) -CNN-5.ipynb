{
  "cells": [
    {
      "cell_type": "markdown",
      "source": [
        "## Importing Libraries"
      ],
      "metadata": {
        "id": "fCNzHU8yD0wK"
      }
    },
    {
      "cell_type": "markdown",
      "source": [
        "##**Data augmentation is a crucial technique to artificially increase the size of your training dataset.**\n",
        "###**ImageDataGenerator:**\n",
        "Use ImageDataGenerator from TensorFlow to apply random transformations:"
      ],
      "metadata": {
        "id": "8GKEckR7Pn5l"
      }
    },
    {
      "cell_type": "code",
      "source": [
        "from tensorflow.keras.preprocessing.image import ImageDataGenerator\n",
        "\n",
        "# Define data augmentation parameters\n",
        "datagen = ImageDataGenerator(\n",
        "    rotation_range=30,\n",
        "    width_shift_range=0.2,\n",
        "    height_shift_range=0.2,\n",
        "    shear_range=30,\n",
        "    zoom_range=0.2,\n",
        "    horizontal_flip=True,\n",
        "    fill_mode='nearest'\n",
        ")\n",
        "\n",
        "# Flow training data through generator\n",
        "train_generator = datagen.flow(\n",
        "    x_train,\n",
        "    y_train,\n",
        "    batch_size=128,\n",
        "    seed=42\n",
        ")\n",
        "\n",
        "# Flow validation data through generator (without augmentation)\n",
        "validation_generator = ImageDataGenerator().flow(\n",
        "    x_test,\n",
        "    y_test,\n",
        "    batch_size=128,\n",
        "    seed=42\n",
        ")"
      ],
      "metadata": {
        "id": "04ozptggPyRa"
      },
      "execution_count": null,
      "outputs": []
    },
    {
      "cell_type": "markdown",
      "source": [
        "##**Data Augmentation Parameters:**\n",
        "1. rotation_range: Rotate images up to 30 degrees.\n",
        "2. width_shift_range and height_shift_range: Shift images horizontally/vertically up to 20%.\n",
        "3. shear_range: Apply shear transformation up to 30 degrees.\n",
        "4. zoom_range: Randomly zoom images up to 20%.\n",
        "5. horizontal_flip: Flip images horizontally."
      ],
      "metadata": {
        "id": "lQzF0SzqP49X"
      }
    },
    {
      "cell_type": "markdown",
      "source": [
        "##**Train Model:**\n",
        "Pass generators to model.fit:"
      ],
      "metadata": {
        "id": "8cc3SgqVQPAq"
      }
    },
    {
      "cell_type": "code",
      "source": [
        "history = model.fit(\n",
        "    train_generator,\n",
        "    epochs=15,\n",
        "    validation_data=validation_generator,\n",
        "    callbacks=[early_stopping, reduce_lr]\n",
        ")"
      ],
      "metadata": {
        "id": "0q3qfxeoQOWE"
      },
      "execution_count": null,
      "outputs": []
    },
    {
      "cell_type": "markdown",
      "source": [
        "##**Why Data Augmentation?**\n",
        "Data augmentation is a technique to artificially increase the size of your training dataset by applying random transformations to existing images.\n",
        "###**Advantages:**\n",
        "1. Improved Model Generalization: Augmented data helps models learn invariant features, improving performance on unseen data.\n",
        "2. Reduced Overfitting: Increased dataset size reduces overfitting by providing more diverse training examples.\n",
        "3. Increased Robustness: Models become more robust to variations in orientation, scale, and lighting.\n",
        "4. Better Handling of Class Imbalance: Augmentation can balance class distributions, reducing bias.\n",
        "###**Disadvantages:**\n",
        "1. Computational Overhead: Augmentation increases computational requirements for training.\n",
        "2. Risk of Over-Augmentation: Excessive augmentation can lead to degraded model performance.\n",
        "3. Potential for Unrealistic Examples: Aggressive augmentation may produce unrealistic images.\n",
        "###**Common Data Augmentation Techniques:**\n",
        "1. Rotation: Rotate images by a certain angle.\n",
        "2. Flipping: Flip images horizontally or vertically.\n",
        "3. Scaling: Resize images.\n",
        "4. Translation: Shift images horizontally or vertically.\n",
        "5. Color Jittering: Apply random color transformations.\n",
        "6. Noise Injection: Add random noise to images.\n",
        "7. Cutout: Randomly remove rectangular regions.\n",
        "###**ImageDataGenerator Parameters:**\n",
        "1. rotation_range: Rotate images up to a specified angle.\n",
        "2. width_shift_range and height_shift_range: Shift images horizontally/vertically.\n",
        "3. shear_range: Apply shear transformation.\n",
        "4. zoom_range: Randomly zoom images.\n",
        "5. horizontal_flip: Flip images horizontally.\n",
        "###**Best Practices:**\n",
        "1. Start with Mild Augmentation: Gradually increase augmentation intensity.\n",
        "2. Monitor Performance: Validate model performance on a separate dataset.\n",
        "3. Use Transfer Learning: Leverage pre-trained models.\n",
        "###**Real-World Applications:**\n",
        "1. Self-Driving Cars: Augment data for object detection and recognition.\n",
        "2. Medical Imaging: Enhance robustness for disease diagnosis.\n",
        "3. Facial Recognition: Improve accuracy with pose and lighting variations.\n",
        "Code Example:\n",
        "Python\n",
        "from tensorflow.keras.preprocessing.image import ImageDataGenerator\n",
        "\n",
        "\n",
        "datagen = ImageDataGenerator(\n",
        "\n",
        "    rotation_range=30,\n",
        "\n",
        "    width_shift_range=0.2,\n",
        "\n",
        "    height_shift_range=0.2,\n",
        "\n",
        "    shear_range=30,\n",
        "\n",
        "    zoom_range=0.2,\n",
        "\n",
        "    horizontal_flip=True)"
      ],
      "metadata": {
        "id": "Mmb6jrpfRVR5"
      }
    },
    {
      "cell_type": "markdown",
      "source": [
        "##**MaxPooling2D vs GlobalMaxPooling2D**\n",
        "#**MaxPooling2D:**\n",
        "1. Spatial Downsampling: Reduces spatial dimensions of feature maps.\n",
        "2. Local Max Pooling: Takes maximum value across each window (e.g., 2x2).\n",
        "3. Output Shape: Reduced spatial dimensions, but same number of channels.\n",
        "#**GlobalMaxPooling2D:**\n",
        "1. Global Downsampling: Collapses entire spatial dimensions into a single value.\n",
        "2. Global Max Pooling: Takes maximum value across entire feature map.\n",
        "3. Output Shape: 1D vector with same number of channels.\n",
        "#**Key Differences:**\n",
        "1. Spatial Information: MaxPooling2D retains some spatial information, while GlobalMaxPooling2D discards it.\n",
        "2. Output Dimensions: MaxPooling2D reduces spatial dimensions, while GlobalMaxPooling2D collapses them entirely.\n",
        "#**Use Cases:**\n",
        "###**MaxPooling2D:**\n",
        "1. Convolutional Neural Networks (CNNs) for image classification.\n",
        "2. Object detection tasks requiring spatial information.\n",
        "###**GlobalMaxPooling2D:**\n",
        "1. Image classification tasks where spatial information is irrelevant.\n",
        "2. Transfer learning, where pre-trained models are fine-tuned.\n",
        "#**Code Example:**\n",
        "\n",
        "from tensorflow.keras.layers import MaxPooling2D, GlobalMaxPooling2D\n",
        "\n",
        "# MaxPooling2D\n",
        "\n",
        "model.add(Conv2D(32, (3, 3), activation='relu'))\n",
        "\n",
        "model.add(MaxPooling2D((2, 2)))\n",
        "\n",
        "# GlobalMaxPooling2D\n",
        "\n",
        "model.add(Conv2D(32, (3, 3), activation='relu'))\n",
        "\n",
        "model.add(GlobalMaxPooling2D())\n",
        "\n",
        "##**Additional Pooling Layers:**\n",
        "1. AveragePooling2D: Takes average value across each window.\n",
        "2. GlobalAveragePooling2D: Takes average value across entire feature map.\n",
        "##**Best Practices:**\n",
        "1. Use MaxPooling2D for tasks requiring spatial information.\n",
        "2. Use GlobalMaxPooling2D for tasks where spatial information is irrelevant.\n",
        "3. Experiment with different pooling layers and configurations."
      ],
      "metadata": {
        "id": "p_48ps0xT7Xj"
      }
    },
    {
      "cell_type": "code",
      "source": [
        "model = Sequential()\n",
        "\n",
        "model.add(Conv2D(32, (3, 3), padding=\"same\", activation=\"relu\", input_shape=(32, 32, 3)))\n",
        "model.add(Conv2D(32, (3, 3), padding=\"same\", activation=\"relu\"))\n",
        "model.add(MaxPooling2D((2, 2)))\n",
        "model.add(Dropout(0.25))\n",
        "\n",
        "model.add(Conv2D(64, (3, 3), padding=\"same\", activation=\"relu\"))\n",
        "model.add(Conv2D(64, (3, 3), padding=\"same\", activation=\"relu\"))\n",
        "model.add(MaxPooling2D((2, 2)))\n",
        "model.add(Dropout(0.25))\n",
        "\n",
        "model.add(Conv2D(96, (3, 3), padding=\"same\", activation=\"relu\"))\n",
        "model.add(Conv2D(96, (3, 3), padding=\"same\", activation=\"relu\"))\n",
        "model.add(MaxPooling2D((2, 2)))\n",
        "\n",
        "model.add(Flatten())\n",
        "model.add(Dropout(0.4))\n",
        "model.add(Dense(256, activation=\"relu\"))\n",
        "model.add(Dropout(0.4))\n",
        "model.add(Dense(128, activation=\"relu\"))\n",
        "model.add(Dropout(0.4))\n",
        "model.add(Dense(nc, activation=\"softmax\"))"
      ],
      "metadata": {
        "id": "FjdRKEcfbrP2"
      },
      "execution_count": null,
      "outputs": []
    },
    {
      "cell_type": "markdown",
      "source": [
        "####**Here's a detailed breakdown of each layer, including parameters, neurons, input shape, and output shape:**\n",
        "#**Layer 1: Conv2D (32)**\n",
        "1. Input Shape: (32, 32, 3)\n",
        "2. Output Shape: (32, 32, 32)\n",
        "3. Number of Neurons: 32 x 32 x 32 = 32,768\n",
        "4. Number of Parameters: 896 (32 filters x 3 x 3 kernel x 3 input channels + 32 biases)\n",
        "5. Kernel Size: 3x3\n",
        "6. Activation: ReLU\n",
        "#**Layer 2: Conv2D (32)**\n",
        "1. Input Shape: (32, 32, 32)\n",
        "2. Output Shape: (32, 32, 32)\n",
        "3. Number of Neurons: 32 x 32 x 32 = 32,768\n",
        "4. Number of Parameters: 9,216 (32 filters x 32 input channels x 3 x 3 kernel + 32 biases)\n",
        "5. Kernel Size: 3x3\n",
        "6. Activation: ReLU\n",
        "#**Layer 3: MaxPooling2D**\n",
        "1. Input Shape: (32, 32, 32)\n",
        "2. Output Shape: (16, 16, 32)\n",
        "3. Number of Neurons: 16 x 16 x 32 = 8,192\n",
        "4. Number of Parameters: 0\n",
        "5. Pool Size: 2x2\n",
        "#**Layer 4: Dropout (0.25)**\n",
        "1. Input Shape: (16, 16, 32)\n",
        "2. Output Shape: (16, 16, 32)\n",
        "3. Number of Neurons: 6,144 (75% of 8,192)\n",
        "4. Number of Parameters: 0\n",
        "#**Layer 5: Conv2D (64)**\n",
        "1. Input Shape: (16, 16, 32)\n",
        "2. Output Shape: (16, 16, 64)\n",
        "3. Number of Neurons: 16 x 16 x 64 = 16,384\n",
        "4. Number of Parameters: 18,432 (64 filters x 32 input channels x 3 x 3 kernel + 64 biases)\n",
        "5. Kernel Size: 3x3\n",
        "6. Activation: ReLU\n",
        "#**Layer 6: Conv2D (64)**\n",
        "1. Input Shape: (16, 16, 64)\n",
        "2. Output Shape: (16, 16, 64)\n",
        "3. Number of Neurons: 16 x 16 x 64 = 16,384\n",
        "4. Number of Parameters: 36,864 (64 filters x 64 input channels x 3 x 3 kernel + 64 biases)\n",
        "5. Kernel Size: 3x3\n",
        "6. Activation: ReLU\n",
        "#**Layer 7: MaxPooling2D**\n",
        "1. Input Shape: (16, 16, 64)\n",
        "2. Output Shape: (8, 8, 64)\n",
        "3. Number of Neurons: 8 x 8 x 64 = 4,096\n",
        "4. Number of Parameters: 0\n",
        "5. Pool Size: 2x2\n",
        "#**Layer 8: Dropout (0.25)**\n",
        "1. Input Shape: (8, 8, 64)\n",
        "2. Output Shape: (8, 8, 64)\n",
        "3. Number of Neurons: 3,072 (75% of 4,096)\n",
        "4. Number of Parameters: 0\n",
        "#**Layer 9: Conv2D (96)**\n",
        "1. Input Shape: (8, 8, 64)\n",
        "2. Output Shape: (8, 8, 96)\n",
        "3. Number of Neurons: 8 x 8 x 96 = 6,144\n",
        "4. Number of Parameters: 55,296 (96 filters x 64 input channels x 3 x 3 kernel + 96 biases)\n",
        "5. Kernel Size: 3x3\n",
        "6. Activation: ReLU\n",
        "#**Layer 10: Conv2D (96)**\n",
        "1. Input Shape: (8, 8, 96)\n",
        "2. Output Shape: (8, 8, 96)\n",
        "3. Number of Neurons: 8 x 8 x 96 = 6,144\n",
        "4. Number of Parameters: 110,592 (96 filters x 96 input channels x 3 x 3 kernel + 96 biases)\n",
        "5. Kernel Size: 3x3\n",
        "6. Activation: ReLU\n",
        "#**Layer 11: MaxPooling2D**\n",
        "1. Input Shape: (8, 8, 96)\n",
        "2. Output Shape: (4, 4, 96)\n",
        "3. Number of Neurons: 4 x 4 x 96 = 1,536\n",
        "4. Number of Parameters: 0\n",
        "5. Pool Size: 2x2\n",
        "6. Stride: 2x2\n",
        "#**Layer 12: Flatten**\n",
        "1. Input Shape: (4, 4, 96)\n",
        "2. Output Shape: (1, 384)\n",
        "3. Number of Neurons: 1,536\n",
        "4. Number of Parameters: 0\n",
        "#**Layer 13: Dropout (0.4)**\n",
        "1. Input Shape: (1, 384)\n",
        "2. Output Shape: (1, 384)\n",
        "3. Number of Neurons: 921 (60% of 1,536)\n",
        "4. Number of Parameters: 0\n",
        "#**Layer 14: Dense (256)**\n",
        "1. Input Shape: (1, 384)\n",
        "2. Output Shape: (256)\n",
        "3. Number of Neurons: 256\n",
        "4. Number of Parameters: 393,216 (256 neurons x 384 input neurons + 256 biases)\n",
        "#**Layer 15: Dropout (0.4)**\n",
        "1. Input Shape: (256)\n",
        "2. Output Shape: (256)\n",
        "3. Number of Neurons: 153 (60% of 256)\n",
        "4. Number of Parameters: 0\n",
        "#**Layer 16: Dense (128)**\n",
        "1. Input Shape: (256)\n",
        "2. Output Shape: (128)\n",
        "3. Number of Neurons: 128\n",
        "4. Number of Parameters: 32,896 (128 neurons x 256 input neurons + 128 biases)\n",
        "#**Layer 17: Dropout (0.4)**\n",
        "1. Input Shape: (128)\n",
        "2. Output Shape: (128)\n",
        "3. Number of Neurons: 77 (60% of 128)\n",
        "4. Number of Parameters: 0\n",
        "#**Layer 18: Dense (nc)**\n",
        "1. Input Shape: (128)\n",
        "2. Output Shape: (nc)\n",
        "3. Number of Neurons: nc\n",
        "4. Number of Parameters: nc x 128 (nc neurons x 128 input neurons + nc biases)\n",
        "\n",
        "\n",
        "#**Total Parameters: 741,472 + nc x 128**\n",
        "#**Total Neurons: 32,768 + 32,768 + 8,192 + 16,384 + 16,384 + 4,096 + 6,144 + 6,144 + 1,536 + 256 + 128 + nc**\n",
        "#**Input Shape: (32, 32, 3)**\n"
      ],
      "metadata": {
        "id": "uzDDaMjcbsDJ"
      }
    },
    {
      "cell_type": "markdown",
      "source": [
        "###**Using two consecutive Conv2D layers with 32 filters is a common technique in Convolutional Neural Networks (CNNs). Here's why:**\n",
        "###**Reasons for two Conv2D layers:**\n",
        "1. Feature Extraction: The first Conv2D layer extracts low-level features from the input image, such as edges and lines. The second Conv2D layer extracts higher-level features, combining the outputs from the first layer.\n",
        "2. Increased Non-Linearity: Two Conv2D layers allow for more non-linear transformations, enabling the network to learn more complex representations.\n",
        "Improved Feature Representation: By stacking two Conv2D layers, the network can learn a more robust feature representation, which improves performance.\n",
        "Why 32 filters?\n",
        "3. Number of Filters: 32 is a relatively small number of filters, allowing the network to learn a compact representation of the input data.\n",
        "4. Computational Efficiency: Using 32 filters reduces computational requirements compared to using more filters.\n",
        "5. Balancing Complexity and Capacity: 32 filters provide a balance between model complexity and capacity to learn.\n",
        "##**Benefits:**\n",
        "1. Improved Accuracy: Stacking two Conv2D layers can improve model accuracy.\n",
        "2. Robustness to Variations: The network becomes more robust to variations in input data.\n",
        "##**Common Architectures:**\n",
        "1. VGGNet: Uses multiple convolutional layers with small filter sizes.\n",
        "2. ResNet: Employs residual connections between convolutional layers."
      ],
      "metadata": {
        "id": "QX-R6qgqh8BL"
      }
    },
    {
      "cell_type": "markdown",
      "source": [
        "![image.png](data:image/png;base64,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)"
      ],
      "metadata": {
        "id": "cMJbtIQGjIDn"
      }
    },
    {
      "cell_type": "markdown",
      "source": [
        "**Total Parameters: 741,472 + nc x 128**\n",
        "\n",
        "**Total Neurons: 32,768 + 32,768 + 8,192 + 16,384 + 16,384 + 4,096 + 6,144 + 6,144 + 1,536 + 256 + 128 + nc**\n",
        "\n",
        "**Input Shape: (32, 32, 3)**\n",
        "\n",
        "**Output Shape: (nc)**\n",
        "\n",
        "**Number of Classes (nc): depends on the problem (e.g., 10 for CIFAR-10, 100 for CIFAR-100)**"
      ],
      "metadata": {
        "id": "N7LTKniojJsf"
      }
    },
    {
      "cell_type": "code",
      "source": [
        "import numpy as np\n",
        "import pandas as pd\n",
        "import matplotlib.pyplot as plotter\n",
        "\n",
        "# Split the data into training and testing set.\n",
        "from sklearn.model_selection import train_test_split\n",
        "\n",
        "# Libraries used to evaluate our trained model.\n",
        "from sklearn.metrics import classification_report, confusion_matrix\n",
        "import tensorflow as tf  # Import TensorFlow\n",
        "\n",
        "# Loading our dataset.\n",
        "from tensorflow.keras.datasets import cifar10  # Use tensorflow.keras\n",
        "\n",
        "# Used for data augmentation.\n",
        "from tensorflow.keras.preprocessing.image import ImageDataGenerator # Import ImageDataGenerator from tensorflow.keras\n",
        "\n",
        "# Below are some layers used to train convolutional neural network.\n",
        "from tensorflow.keras.models import Sequential\n",
        "from tensorflow.keras.layers import Dense, Dropout, Activation\n",
        "from tensorflow.keras.layers import Conv2D, MaxPooling2D, GlobalMaxPooling2D, Flatten"
      ],
      "metadata": {
        "id": "ba5Np9DnuQaE"
      },
      "execution_count": 3,
      "outputs": []
    },
    {
      "cell_type": "code",
      "source": [
        "# Define class/labels for CIFAR-10 dataset\n",
        "class_labels = {\n",
        "    0: 'airplane',\n",
        "    1: 'automobile',\n",
        "    2: 'bird',\n",
        "    3: 'cat',\n",
        "    4: 'deer',\n",
        "    5: 'dog',\n",
        "    6: 'frog',\n",
        "    7: 'horse',\n",
        "    8: 'ship',\n",
        "    9: 'truck'\n",
        "}"
      ],
      "metadata": {
        "id": "AlvJ-JvApqRC"
      },
      "execution_count": 4,
      "outputs": []
    },
    {
      "cell_type": "markdown",
      "source": [
        "## Loading Dataset"
      ],
      "metadata": {
        "id": "yu1TSDxqD81a"
      }
    },
    {
      "cell_type": "code",
      "source": [
        "# number of classes\n",
        "nc = 10\n",
        "\n",
        "(training_data, training_label), (testing_data, testing_label) = cifar10.load_data()\n",
        "\n",
        "\n",
        "(\n",
        "    (training_data),\n",
        "    (validation_data),\n",
        "    (training_label),\n",
        "    (validation_label),\n",
        ") = train_test_split(training_data, training_label, test_size=0.2, random_state=42)\n",
        "\n",
        "\n",
        "training_data = training_data.astype(\"float32\")\n",
        "testing_data = testing_data.astype(\"float32\")\n",
        "validation_data = validation_data.astype(\"float32\")"
      ],
      "metadata": {
        "colab": {
          "base_uri": "https://localhost:8080/"
        },
        "id": "ZFvLt-wruQ2x",
        "outputId": "6c3dbfba-87be-4e57-b3d8-d5873b67f26b"
      },
      "execution_count": 5,
      "outputs": [
        {
          "output_type": "stream",
          "name": "stdout",
          "text": [
            "Downloading data from https://www.cs.toronto.edu/~kriz/cifar-10-python.tar.gz\n",
            "\u001b[1m170498071/170498071\u001b[0m \u001b[32m━━━━━━━━━━━━━━━━━━━━\u001b[0m\u001b[37m\u001b[0m \u001b[1m13s\u001b[0m 0us/step\n"
          ]
        }
      ]
    },
    {
      "cell_type": "code",
      "source": [
        "import matplotlib.pyplot as plt\n",
        "import numpy as np\n",
        "\n",
        "# Select 10 random indices from training data\n",
        "indices = np.random.choice(len(training_data), size=10, replace=False)\n",
        "\n",
        "# Create a figure with 2 rows and 5 columns\n",
        "fig, axes = plt.subplots(2, 5, figsize=(15, 6))\n",
        "\n",
        "# Iterate over selected indices and axes\n",
        "for i, (index, ax) in enumerate(zip(indices, axes.flat)):\n",
        "    # Display image\n",
        "    ax.imshow(training_data[index])\n",
        "\n",
        "    # Get label\n",
        "    label = class_labels[np.argmax(training_label[index])]\n",
        "\n",
        "    # Set title\n",
        "    ax.set_title(f\"Label: {label}\")\n",
        "\n",
        "    # Remove axis ticks\n",
        "    ax.set_xticks([])\n",
        "    ax.set_yticks([])\n",
        "\n",
        "# Layout so plots do not overlap\n",
        "fig.tight_layout()\n",
        "\n",
        "# Display plot\n",
        "plt.show()"
      ],
      "metadata": {
        "colab": {
          "base_uri": "https://localhost:8080/",
          "height": 762
        },
        "id": "bwuvVsHUp_vk",
        "outputId": "913ec1df-79aa-4621-dd6b-7d348208afb5"
      },
      "execution_count": 6,
      "outputs": [
        {
          "output_type": "stream",
          "name": "stderr",
          "text": [
            "WARNING:matplotlib.image:Clipping input data to the valid range for imshow with RGB data ([0..1] for floats or [0..255] for integers).\n",
            "WARNING:matplotlib.image:Clipping input data to the valid range for imshow with RGB data ([0..1] for floats or [0..255] for integers).\n",
            "WARNING:matplotlib.image:Clipping input data to the valid range for imshow with RGB data ([0..1] for floats or [0..255] for integers).\n",
            "WARNING:matplotlib.image:Clipping input data to the valid range for imshow with RGB data ([0..1] for floats or [0..255] for integers).\n",
            "WARNING:matplotlib.image:Clipping input data to the valid range for imshow with RGB data ([0..1] for floats or [0..255] for integers).\n",
            "WARNING:matplotlib.image:Clipping input data to the valid range for imshow with RGB data ([0..1] for floats or [0..255] for integers).\n",
            "WARNING:matplotlib.image:Clipping input data to the valid range for imshow with RGB data ([0..1] for floats or [0..255] for integers).\n",
            "WARNING:matplotlib.image:Clipping input data to the valid range for imshow with RGB data ([0..1] for floats or [0..255] for integers).\n",
            "WARNING:matplotlib.image:Clipping input data to the valid range for imshow with RGB data ([0..1] for floats or [0..255] for integers).\n",
            "WARNING:matplotlib.image:Clipping input data to the valid range for imshow with RGB data ([0..1] for floats or [0..255] for integers).\n"
          ]
        },
        {
          "output_type": "display_data",
          "data": {
            "text/plain": [
              "<Figure size 1500x600 with 10 Axes>"
            ],
            "image/png": "[encoded data removed]"
          },
          "metadata": {}
        }
      ]
    },
    {
      "cell_type": "markdown",
      "source": [
        "## Data Preprocessing"
      ],
      "metadata": {
        "id": "VSGY8ydLD_c7"
      }
    },
    {
      "cell_type": "code",
      "source": [
        "# Normalization\n",
        "training_data /= 255\n",
        "testing_data /= 255\n",
        "validation_data /= 255\n",
        "\n",
        "# One Hot Encoding\n",
        "training_label = keras.utils.to_categorical(training_label, nc)\n",
        "testing_label = keras.utils.to_categorical(testing_label, nc)\n",
        "validation_label = keras.utils.to_categorical(validation_label, nc)\n",
        "\n",
        "# Printing the dataset\n",
        "print(\"Training: \", training_data.shape, len(training_label))\n",
        "print(\"Validation: \", validation_data.shape, len(validation_label))\n",
        "print(\"Testing: \", testing_data.shape, len(testing_label))"
      ],
      "metadata": {
        "colab": {
          "base_uri": "https://localhost:8080/"
        },
        "id": "Ui7Vy90wuSt5",
        "outputId": "7ca51682-a586-4bfe-a905-495819fbfa39"
      },
      "execution_count": 7,
      "outputs": [
        {
          "output_type": "stream",
          "name": "stdout",
          "text": [
            "Training:  (40000, 32, 32, 3) 40000\n",
            "Validation:  (10000, 32, 32, 3) 10000\n",
            "Testing:  (10000, 32, 32, 3) 10000\n"
          ]
        }
      ]
    },
    {
      "cell_type": "markdown",
      "source": [
        "## Model Building"
      ],
      "metadata": {
        "id": "T0iKHpd1EDfx"
      }
    },
    {
      "cell_type": "code",
      "source": [
        "model = Sequential()\n",
        "\n",
        "model.add(Conv2D(32, (3, 3), padding=\"same\", activation=\"relu\", input_shape=(32, 32, 3)))\n",
        "model.add(Conv2D(32, (3, 3), padding=\"same\", activation=\"relu\"))\n",
        "model.add(MaxPooling2D((2, 2)))\n",
        "model.add(Dropout(0.25))\n",
        "\n",
        "model.add(Conv2D(64, (3, 3), padding=\"same\", activation=\"relu\"))\n",
        "model.add(Conv2D(64, (3, 3), padding=\"same\", activation=\"relu\"))\n",
        "model.add(MaxPooling2D((2, 2)))\n",
        "model.add(Dropout(0.25))\n",
        "\n",
        "model.add(Conv2D(96, (3, 3), padding=\"same\", activation=\"relu\"))\n",
        "model.add(Conv2D(96, (3, 3), padding=\"same\", activation=\"relu\"))\n",
        "model.add(MaxPooling2D((2, 2)))\n",
        "\n",
        "model.add(Flatten())\n",
        "model.add(Dropout(0.4))\n",
        "model.add(Dense(256, activation=\"relu\"))\n",
        "model.add(Dropout(0.4))\n",
        "model.add(Dense(128, activation=\"relu\"))\n",
        "model.add(Dropout(0.4))\n",
        "model.add(Dense(nc, activation=\"softmax\"))"
      ],
      "metadata": {
        "id": "heR9jmbsuUko",
        "colab": {
          "base_uri": "https://localhost:8080/"
        },
        "outputId": "0e60fa39-eab4-4019-a28e-f908e1b4828c"
      },
      "execution_count": 8,
      "outputs": [
        {
          "output_type": "stream",
          "name": "stderr",
          "text": [
            "/usr/local/lib/python3.10/dist-packages/keras/src/layers/convolutional/base_conv.py:107: UserWarning: Do not pass an `input_shape`/`input_dim` argument to a layer. When using Sequential models, prefer using an `Input(shape)` object as the first layer in the model instead.\n",
            "  super().__init__(activity_regularizer=activity_regularizer, **kwargs)\n"
          ]
        }
      ]
    },
    {
      "cell_type": "code",
      "source": [
        "# initiate Adam optimizer\n",
        "opt = keras.optimizers.Adam(learning_rate=0.0001)\n",
        "\n",
        "model.compile(loss=\"categorical_crossentropy\", optimizer=opt, metrics=[\"accuracy\"])\n",
        "# obtaining the summary of the model\n",
        "model.summary()"
      ],
      "metadata": {
        "colab": {
          "base_uri": "https://localhost:8080/",
          "height": 705
        },
        "id": "35Md76uouXln",
        "outputId": "815835a4-0367-4e31-dda1-8e2ff5168c61"
      },
      "execution_count": 10,
      "outputs": [
        {
          "output_type": "display_data",
          "data": {
            "text/plain": [
              "\u001b[1mModel: \"sequential\"\u001b[0m\n"
            ],
            "text/html": [
              "<pre style=\"white-space:pre;overflow-x:auto;line-height:normal;font-family:Menlo,'DejaVu Sans Mono',consolas,'Courier New',monospace\"><span style=\"font-weight: bold\">Model: \"sequential\"</span>\n",
              "</pre>\n"
            ]
          },
          "metadata": {}
        },
        {
          "output_type": "display_data",
          "data": {
            "text/plain": [
              "┏━━━━━━━━━━━━━━━━━━━━━━━━━━━━━━━━━━━━━━┳━━━━━━━━━━━━━━━━━━━━━━━━━━━━━┳━━━━━━━━━━━━━━━━━┓\n",
              "┃\u001b[1m \u001b[0m\u001b[1mLayer (type)                        \u001b[0m\u001b[1m \u001b[0m┃\u001b[1m \u001b[0m\u001b[1mOutput Shape               \u001b[0m\u001b[1m \u001b[0m┃\u001b[1m \u001b[0m\u001b[1m        Param #\u001b[0m\u001b[1m \u001b[0m┃\n",
              "┡━━━━━━━━━━━━━━━━━━━━━━━━━━━━━━━━━━━━━━╇━━━━━━━━━━━━━━━━━━━━━━━━━━━━━╇━━━━━━━━━━━━━━━━━┩\n",
              "│ conv2d (\u001b[38;5;33mConv2D\u001b[0m)                      │ (\u001b[38;5;45mNone\u001b[0m, \u001b[38;5;34m32\u001b[0m, \u001b[38;5;34m32\u001b[0m, \u001b[38;5;34m32\u001b[0m)          │             \u001b[38;5;34m896\u001b[0m │\n",
              "├──────────────────────────────────────┼─────────────────────────────┼─────────────────┤\n",
              "│ conv2d_1 (\u001b[38;5;33mConv2D\u001b[0m)                    │ (\u001b[38;5;45mNone\u001b[0m, \u001b[38;5;34m32\u001b[0m, \u001b[38;5;34m32\u001b[0m, \u001b[38;5;34m32\u001b[0m)          │           \u001b[38;5;34m9,248\u001b[0m │\n",
              "├──────────────────────────────────────┼─────────────────────────────┼─────────────────┤\n",
              "│ max_pooling2d (\u001b[38;5;33mMaxPooling2D\u001b[0m)         │ (\u001b[38;5;45mNone\u001b[0m, \u001b[38;5;34m16\u001b[0m, \u001b[38;5;34m16\u001b[0m, \u001b[38;5;34m32\u001b[0m)          │               \u001b[38;5;34m0\u001b[0m │\n",
              "├──────────────────────────────────────┼─────────────────────────────┼─────────────────┤\n",
              "│ dropout (\u001b[38;5;33mDropout\u001b[0m)                    │ (\u001b[38;5;45mNone\u001b[0m, \u001b[38;5;34m16\u001b[0m, \u001b[38;5;34m16\u001b[0m, \u001b[38;5;34m32\u001b[0m)          │               \u001b[38;5;34m0\u001b[0m │\n",
              "├──────────────────────────────────────┼─────────────────────────────┼─────────────────┤\n",
              "│ conv2d_2 (\u001b[38;5;33mConv2D\u001b[0m)                    │ (\u001b[38;5;45mNone\u001b[0m, \u001b[38;5;34m16\u001b[0m, \u001b[38;5;34m16\u001b[0m, \u001b[38;5;34m64\u001b[0m)          │          \u001b[38;5;34m18,496\u001b[0m │\n",
              "├──────────────────────────────────────┼─────────────────────────────┼─────────────────┤\n",
              "│ conv2d_3 (\u001b[38;5;33mConv2D\u001b[0m)                    │ (\u001b[38;5;45mNone\u001b[0m, \u001b[38;5;34m16\u001b[0m, \u001b[38;5;34m16\u001b[0m, \u001b[38;5;34m64\u001b[0m)          │          \u001b[38;5;34m36,928\u001b[0m │\n",
              "├──────────────────────────────────────┼─────────────────────────────┼─────────────────┤\n",
              "│ max_pooling2d_1 (\u001b[38;5;33mMaxPooling2D\u001b[0m)       │ (\u001b[38;5;45mNone\u001b[0m, \u001b[38;5;34m8\u001b[0m, \u001b[38;5;34m8\u001b[0m, \u001b[38;5;34m64\u001b[0m)            │               \u001b[38;5;34m0\u001b[0m │\n",
              "├──────────────────────────────────────┼─────────────────────────────┼─────────────────┤\n",
              "│ dropout_1 (\u001b[38;5;33mDropout\u001b[0m)                  │ (\u001b[38;5;45mNone\u001b[0m, \u001b[38;5;34m8\u001b[0m, \u001b[38;5;34m8\u001b[0m, \u001b[38;5;34m64\u001b[0m)            │               \u001b[38;5;34m0\u001b[0m │\n",
              "├──────────────────────────────────────┼─────────────────────────────┼─────────────────┤\n",
              "│ conv2d_4 (\u001b[38;5;33mConv2D\u001b[0m)                    │ (\u001b[38;5;45mNone\u001b[0m, \u001b[38;5;34m8\u001b[0m, \u001b[38;5;34m8\u001b[0m, \u001b[38;5;34m96\u001b[0m)            │          \u001b[38;5;34m55,392\u001b[0m │\n",
              "├──────────────────────────────────────┼─────────────────────────────┼─────────────────┤\n",
              "│ conv2d_5 (\u001b[38;5;33mConv2D\u001b[0m)                    │ (\u001b[38;5;45mNone\u001b[0m, \u001b[38;5;34m8\u001b[0m, \u001b[38;5;34m8\u001b[0m, \u001b[38;5;34m96\u001b[0m)            │          \u001b[38;5;34m83,040\u001b[0m │\n",
              "├──────────────────────────────────────┼─────────────────────────────┼─────────────────┤\n",
              "│ max_pooling2d_2 (\u001b[38;5;33mMaxPooling2D\u001b[0m)       │ (\u001b[38;5;45mNone\u001b[0m, \u001b[38;5;34m4\u001b[0m, \u001b[38;5;34m4\u001b[0m, \u001b[38;5;34m96\u001b[0m)            │               \u001b[38;5;34m0\u001b[0m │\n",
              "├──────────────────────────────────────┼─────────────────────────────┼─────────────────┤\n",
              "│ flatten (\u001b[38;5;33mFlatten\u001b[0m)                    │ (\u001b[38;5;45mNone\u001b[0m, \u001b[38;5;34m1536\u001b[0m)                │               \u001b[38;5;34m0\u001b[0m │\n",
              "├──────────────────────────────────────┼─────────────────────────────┼─────────────────┤\n",
              "│ dropout_2 (\u001b[38;5;33mDropout\u001b[0m)                  │ (\u001b[38;5;45mNone\u001b[0m, \u001b[38;5;34m1536\u001b[0m)                │               \u001b[38;5;34m0\u001b[0m │\n",
              "├──────────────────────────────────────┼─────────────────────────────┼─────────────────┤\n",
              "│ dense (\u001b[38;5;33mDense\u001b[0m)                        │ (\u001b[38;5;45mNone\u001b[0m, \u001b[38;5;34m256\u001b[0m)                 │         \u001b[38;5;34m393,472\u001b[0m │\n",
              "├──────────────────────────────────────┼─────────────────────────────┼─────────────────┤\n",
              "│ dropout_3 (\u001b[38;5;33mDropout\u001b[0m)                  │ (\u001b[38;5;45mNone\u001b[0m, \u001b[38;5;34m256\u001b[0m)                 │               \u001b[38;5;34m0\u001b[0m │\n",
              "├──────────────────────────────────────┼─────────────────────────────┼─────────────────┤\n",
              "│ dense_1 (\u001b[38;5;33mDense\u001b[0m)                      │ (\u001b[38;5;45mNone\u001b[0m, \u001b[38;5;34m128\u001b[0m)                 │          \u001b[38;5;34m32,896\u001b[0m │\n",
              "├──────────────────────────────────────┼─────────────────────────────┼─────────────────┤\n",
              "│ dropout_4 (\u001b[38;5;33mDropout\u001b[0m)                  │ (\u001b[38;5;45mNone\u001b[0m, \u001b[38;5;34m128\u001b[0m)                 │               \u001b[38;5;34m0\u001b[0m │\n",
              "├──────────────────────────────────────┼─────────────────────────────┼─────────────────┤\n",
              "│ dense_2 (\u001b[38;5;33mDense\u001b[0m)                      │ (\u001b[38;5;45mNone\u001b[0m, \u001b[38;5;34m10\u001b[0m)                  │           \u001b[38;5;34m1,290\u001b[0m │\n",
              "└──────────────────────────────────────┴─────────────────────────────┴─────────────────┘\n"
            ],
            "text/html": [
              "<pre style=\"white-space:pre;overflow-x:auto;line-height:normal;font-family:Menlo,'DejaVu Sans Mono',consolas,'Courier New',monospace\">┏━━━━━━━━━━━━━━━━━━━━━━━━━━━━━━━━━━━━━━┳━━━━━━━━━━━━━━━━━━━━━━━━━━━━━┳━━━━━━━━━━━━━━━━━┓\n",
              "┃<span style=\"font-weight: bold\"> Layer (type)                         </span>┃<span style=\"font-weight: bold\"> Output Shape                </span>┃<span style=\"font-weight: bold\">         Param # </span>┃\n",
              "┡━━━━━━━━━━━━━━━━━━━━━━━━━━━━━━━━━━━━━━╇━━━━━━━━━━━━━━━━━━━━━━━━━━━━━╇━━━━━━━━━━━━━━━━━┩\n",
              "│ conv2d (<span style=\"color: #0087ff; text-decoration-color: #0087ff\">Conv2D</span>)                      │ (<span style=\"color: #00d7ff; text-decoration-color: #00d7ff\">None</span>, <span style=\"color: #00af00; text-decoration-color: #00af00\">32</span>, <span style=\"color: #00af00; text-decoration-color: #00af00\">32</span>, <span style=\"color: #00af00; text-decoration-color: #00af00\">32</span>)          │             <span style=\"color: #00af00; text-decoration-color: #00af00\">896</span> │\n",
              "├──────────────────────────────────────┼─────────────────────────────┼─────────────────┤\n",
              "│ conv2d_1 (<span style=\"color: #0087ff; text-decoration-color: #0087ff\">Conv2D</span>)                    │ (<span style=\"color: #00d7ff; text-decoration-color: #00d7ff\">None</span>, <span style=\"color: #00af00; text-decoration-color: #00af00\">32</span>, <span style=\"color: #00af00; text-decoration-color: #00af00\">32</span>, <span style=\"color: #00af00; text-decoration-color: #00af00\">32</span>)          │           <span style=\"color: #00af00; text-decoration-color: #00af00\">9,248</span> │\n",
              "├──────────────────────────────────────┼─────────────────────────────┼─────────────────┤\n",
              "│ max_pooling2d (<span style=\"color: #0087ff; text-decoration-color: #0087ff\">MaxPooling2D</span>)         │ (<span style=\"color: #00d7ff; text-decoration-color: #00d7ff\">None</span>, <span style=\"color: #00af00; text-decoration-color: #00af00\">16</span>, <span style=\"color: #00af00; text-decoration-color: #00af00\">16</span>, <span style=\"color: #00af00; text-decoration-color: #00af00\">32</span>)          │               <span style=\"color: #00af00; text-decoration-color: #00af00\">0</span> │\n",
              "├──────────────────────────────────────┼─────────────────────────────┼─────────────────┤\n",
              "│ dropout (<span style=\"color: #0087ff; text-decoration-color: #0087ff\">Dropout</span>)                    │ (<span style=\"color: #00d7ff; text-decoration-color: #00d7ff\">None</span>, <span style=\"color: #00af00; text-decoration-color: #00af00\">16</span>, <span style=\"color: #00af00; text-decoration-color: #00af00\">16</span>, <span style=\"color: #00af00; text-decoration-color: #00af00\">32</span>)          │               <span style=\"color: #00af00; text-decoration-color: #00af00\">0</span> │\n",
              "├──────────────────────────────────────┼─────────────────────────────┼─────────────────┤\n",
              "│ conv2d_2 (<span style=\"color: #0087ff; text-decoration-color: #0087ff\">Conv2D</span>)                    │ (<span style=\"color: #00d7ff; text-decoration-color: #00d7ff\">None</span>, <span style=\"color: #00af00; text-decoration-color: #00af00\">16</span>, <span style=\"color: #00af00; text-decoration-color: #00af00\">16</span>, <span style=\"color: #00af00; text-decoration-color: #00af00\">64</span>)          │          <span style=\"color: #00af00; text-decoration-color: #00af00\">18,496</span> │\n",
              "├──────────────────────────────────────┼─────────────────────────────┼─────────────────┤\n",
              "│ conv2d_3 (<span style=\"color: #0087ff; text-decoration-color: #0087ff\">Conv2D</span>)                    │ (<span style=\"color: #00d7ff; text-decoration-color: #00d7ff\">None</span>, <span style=\"color: #00af00; text-decoration-color: #00af00\">16</span>, <span style=\"color: #00af00; text-decoration-color: #00af00\">16</span>, <span style=\"color: #00af00; text-decoration-color: #00af00\">64</span>)          │          <span style=\"color: #00af00; text-decoration-color: #00af00\">36,928</span> │\n",
              "├──────────────────────────────────────┼─────────────────────────────┼─────────────────┤\n",
              "│ max_pooling2d_1 (<span style=\"color: #0087ff; text-decoration-color: #0087ff\">MaxPooling2D</span>)       │ (<span style=\"color: #00d7ff; text-decoration-color: #00d7ff\">None</span>, <span style=\"color: #00af00; text-decoration-color: #00af00\">8</span>, <span style=\"color: #00af00; text-decoration-color: #00af00\">8</span>, <span style=\"color: #00af00; text-decoration-color: #00af00\">64</span>)            │               <span style=\"color: #00af00; text-decoration-color: #00af00\">0</span> │\n",
              "├──────────────────────────────────────┼─────────────────────────────┼─────────────────┤\n",
              "│ dropout_1 (<span style=\"color: #0087ff; text-decoration-color: #0087ff\">Dropout</span>)                  │ (<span style=\"color: #00d7ff; text-decoration-color: #00d7ff\">None</span>, <span style=\"color: #00af00; text-decoration-color: #00af00\">8</span>, <span style=\"color: #00af00; text-decoration-color: #00af00\">8</span>, <span style=\"color: #00af00; text-decoration-color: #00af00\">64</span>)            │               <span style=\"color: #00af00; text-decoration-color: #00af00\">0</span> │\n",
              "├──────────────────────────────────────┼─────────────────────────────┼─────────────────┤\n",
              "│ conv2d_4 (<span style=\"color: #0087ff; text-decoration-color: #0087ff\">Conv2D</span>)                    │ (<span style=\"color: #00d7ff; text-decoration-color: #00d7ff\">None</span>, <span style=\"color: #00af00; text-decoration-color: #00af00\">8</span>, <span style=\"color: #00af00; text-decoration-color: #00af00\">8</span>, <span style=\"color: #00af00; text-decoration-color: #00af00\">96</span>)            │          <span style=\"color: #00af00; text-decoration-color: #00af00\">55,392</span> │\n",
              "├──────────────────────────────────────┼─────────────────────────────┼─────────────────┤\n",
              "│ conv2d_5 (<span style=\"color: #0087ff; text-decoration-color: #0087ff\">Conv2D</span>)                    │ (<span style=\"color: #00d7ff; text-decoration-color: #00d7ff\">None</span>, <span style=\"color: #00af00; text-decoration-color: #00af00\">8</span>, <span style=\"color: #00af00; text-decoration-color: #00af00\">8</span>, <span style=\"color: #00af00; text-decoration-color: #00af00\">96</span>)            │          <span style=\"color: #00af00; text-decoration-color: #00af00\">83,040</span> │\n",
              "├──────────────────────────────────────┼─────────────────────────────┼─────────────────┤\n",
              "│ max_pooling2d_2 (<span style=\"color: #0087ff; text-decoration-color: #0087ff\">MaxPooling2D</span>)       │ (<span style=\"color: #00d7ff; text-decoration-color: #00d7ff\">None</span>, <span style=\"color: #00af00; text-decoration-color: #00af00\">4</span>, <span style=\"color: #00af00; text-decoration-color: #00af00\">4</span>, <span style=\"color: #00af00; text-decoration-color: #00af00\">96</span>)            │               <span style=\"color: #00af00; text-decoration-color: #00af00\">0</span> │\n",
              "├──────────────────────────────────────┼─────────────────────────────┼─────────────────┤\n",
              "│ flatten (<span style=\"color: #0087ff; text-decoration-color: #0087ff\">Flatten</span>)                    │ (<span style=\"color: #00d7ff; text-decoration-color: #00d7ff\">None</span>, <span style=\"color: #00af00; text-decoration-color: #00af00\">1536</span>)                │               <span style=\"color: #00af00; text-decoration-color: #00af00\">0</span> │\n",
              "├──────────────────────────────────────┼─────────────────────────────┼─────────────────┤\n",
              "│ dropout_2 (<span style=\"color: #0087ff; text-decoration-color: #0087ff\">Dropout</span>)                  │ (<span style=\"color: #00d7ff; text-decoration-color: #00d7ff\">None</span>, <span style=\"color: #00af00; text-decoration-color: #00af00\">1536</span>)                │               <span style=\"color: #00af00; text-decoration-color: #00af00\">0</span> │\n",
              "├──────────────────────────────────────┼─────────────────────────────┼─────────────────┤\n",
              "│ dense (<span style=\"color: #0087ff; text-decoration-color: #0087ff\">Dense</span>)                        │ (<span style=\"color: #00d7ff; text-decoration-color: #00d7ff\">None</span>, <span style=\"color: #00af00; text-decoration-color: #00af00\">256</span>)                 │         <span style=\"color: #00af00; text-decoration-color: #00af00\">393,472</span> │\n",
              "├──────────────────────────────────────┼─────────────────────────────┼─────────────────┤\n",
              "│ dropout_3 (<span style=\"color: #0087ff; text-decoration-color: #0087ff\">Dropout</span>)                  │ (<span style=\"color: #00d7ff; text-decoration-color: #00d7ff\">None</span>, <span style=\"color: #00af00; text-decoration-color: #00af00\">256</span>)                 │               <span style=\"color: #00af00; text-decoration-color: #00af00\">0</span> │\n",
              "├──────────────────────────────────────┼─────────────────────────────┼─────────────────┤\n",
              "│ dense_1 (<span style=\"color: #0087ff; text-decoration-color: #0087ff\">Dense</span>)                      │ (<span style=\"color: #00d7ff; text-decoration-color: #00d7ff\">None</span>, <span style=\"color: #00af00; text-decoration-color: #00af00\">128</span>)                 │          <span style=\"color: #00af00; text-decoration-color: #00af00\">32,896</span> │\n",
              "├──────────────────────────────────────┼─────────────────────────────┼─────────────────┤\n",
              "│ dropout_4 (<span style=\"color: #0087ff; text-decoration-color: #0087ff\">Dropout</span>)                  │ (<span style=\"color: #00d7ff; text-decoration-color: #00d7ff\">None</span>, <span style=\"color: #00af00; text-decoration-color: #00af00\">128</span>)                 │               <span style=\"color: #00af00; text-decoration-color: #00af00\">0</span> │\n",
              "├──────────────────────────────────────┼─────────────────────────────┼─────────────────┤\n",
              "│ dense_2 (<span style=\"color: #0087ff; text-decoration-color: #0087ff\">Dense</span>)                      │ (<span style=\"color: #00d7ff; text-decoration-color: #00d7ff\">None</span>, <span style=\"color: #00af00; text-decoration-color: #00af00\">10</span>)                  │           <span style=\"color: #00af00; text-decoration-color: #00af00\">1,290</span> │\n",
              "└──────────────────────────────────────┴─────────────────────────────┴─────────────────┘\n",
              "</pre>\n"
            ]
          },
          "metadata": {}
        },
        {
          "output_type": "display_data",
          "data": {
            "text/plain": [
              "\u001b[1m Total params: \u001b[0m\u001b[38;5;34m631,658\u001b[0m (2.41 MB)\n"
            ],
            "text/html": [
              "<pre style=\"white-space:pre;overflow-x:auto;line-height:normal;font-family:Menlo,'DejaVu Sans Mono',consolas,'Courier New',monospace\"><span style=\"font-weight: bold\"> Total params: </span><span style=\"color: #00af00; text-decoration-color: #00af00\">631,658</span> (2.41 MB)\n",
              "</pre>\n"
            ]
          },
          "metadata": {}
        },
        {
          "output_type": "display_data",
          "data": {
            "text/plain": [
              "\u001b[1m Trainable params: \u001b[0m\u001b[38;5;34m631,658\u001b[0m (2.41 MB)\n"
            ],
            "text/html": [
              "<pre style=\"white-space:pre;overflow-x:auto;line-height:normal;font-family:Menlo,'DejaVu Sans Mono',consolas,'Courier New',monospace\"><span style=\"font-weight: bold\"> Trainable params: </span><span style=\"color: #00af00; text-decoration-color: #00af00\">631,658</span> (2.41 MB)\n",
              "</pre>\n"
            ]
          },
          "metadata": {}
        },
        {
          "output_type": "display_data",
          "data": {
            "text/plain": [
              "\u001b[1m Non-trainable params: \u001b[0m\u001b[38;5;34m0\u001b[0m (0.00 B)\n"
            ],
            "text/html": [
              "<pre style=\"white-space:pre;overflow-x:auto;line-height:normal;font-family:Menlo,'DejaVu Sans Mono',consolas,'Courier New',monospace\"><span style=\"font-weight: bold\"> Non-trainable params: </span><span style=\"color: #00af00; text-decoration-color: #00af00\">0</span> (0.00 B)\n",
              "</pre>\n"
            ]
          },
          "metadata": {}
        }
      ]
    },
    {
      "cell_type": "code",
      "source": [
        "augmentor = ImageDataGenerator(\n",
        "    width_shift_range=0.4,\n",
        "    height_shift_range=0.4,\n",
        "    horizontal_flip=False,\n",
        "    vertical_flip=True,\n",
        ")\n",
        "\n",
        "# fitting in augmentor\n",
        "augmentor.fit(training_data)\n",
        "\n",
        "# obtaining the history\n",
        "history = model.fit(\n",
        "    augmentor.flow(training_data, training_label, batch_size=32),\n",
        "    epochs=100,\n",
        "    validation_data=(validation_data, validation_label),\n",
        ")"
      ],
      "metadata": {
        "colab": {
          "base_uri": "https://localhost:8080/"
        },
        "id": "yIQzJG9guZr0",
        "outputId": "d06baed9-c10a-45e5-8268-b2fe4b21767c"
      },
      "execution_count": 11,
      "outputs": [
        {
          "output_type": "stream",
          "name": "stdout",
          "text": [
            "Epoch 1/100\n"
          ]
        },
        {
          "output_type": "stream",
          "name": "stderr",
          "text": [
            "/usr/local/lib/python3.10/dist-packages/keras/src/trainers/data_adapters/py_dataset_adapter.py:121: UserWarning: Your `PyDataset` class should call `super().__init__(**kwargs)` in its constructor. `**kwargs` can include `workers`, `use_multiprocessing`, `max_queue_size`. Do not pass these arguments to `fit()`, as they will be ignored.\n",
            "  self._warn_if_super_not_called()\n"
          ]
        },
        {
          "output_type": "stream",
          "name": "stdout",
          "text": [
            "\u001b[1m1250/1250\u001b[0m \u001b[32m━━━━━━━━━━━━━━━━━━━━\u001b[0m\u001b[37m\u001b[0m \u001b[1m40s\u001b[0m 24ms/step - accuracy: 0.1327 - loss: 2.2353 - val_accuracy: 0.2644 - val_loss: 1.9143\n",
            "Epoch 2/100\n",
            "\u001b[1m1250/1250\u001b[0m \u001b[32m━━━━━━━━━━━━━━━━━━━━\u001b[0m\u001b[37m\u001b[0m \u001b[1m26s\u001b[0m 21ms/step - accuracy: 0.2281 - loss: 1.9998 - val_accuracy: 0.2686 - val_loss: 1.8747\n",
            "Epoch 3/100\n",
            "\u001b[1m1250/1250\u001b[0m \u001b[32m━━━━━━━━━━━━━━━━━━━━\u001b[0m\u001b[37m\u001b[0m \u001b[1m26s\u001b[0m 21ms/step - accuracy: 0.2571 - loss: 1.9185 - val_accuracy: 0.3007 - val_loss: 1.7844\n",
            "Epoch 4/100\n",
            "\u001b[1m1250/1250\u001b[0m \u001b[32m━━━━━━━━━━━━━━━━━━━━\u001b[0m\u001b[37m\u001b[0m \u001b[1m26s\u001b[0m 21ms/step - accuracy: 0.2808 - loss: 1.8620 - val_accuracy: 0.3299 - val_loss: 1.7273\n",
            "Epoch 5/100\n",
            "\u001b[1m1250/1250\u001b[0m \u001b[32m━━━━━━━━━━━━━━━━━━━━\u001b[0m\u001b[37m\u001b[0m \u001b[1m26s\u001b[0m 21ms/step - accuracy: 0.3066 - loss: 1.8127 - val_accuracy: 0.3634 - val_loss: 1.6464\n",
            "Epoch 6/100\n",
            "\u001b[1m1250/1250\u001b[0m \u001b[32m━━━━━━━━━━━━━━━━━━━━\u001b[0m\u001b[37m\u001b[0m \u001b[1m26s\u001b[0m 21ms/step - accuracy: 0.3350 - loss: 1.7505 - val_accuracy: 0.3583 - val_loss: 1.6669\n",
            "Epoch 7/100\n",
            "\u001b[1m1250/1250\u001b[0m \u001b[32m━━━━━━━━━━━━━━━━━━━━\u001b[0m\u001b[37m\u001b[0m \u001b[1m26s\u001b[0m 21ms/step - accuracy: 0.3517 - loss: 1.7081 - val_accuracy: 0.3623 - val_loss: 1.6954\n",
            "Epoch 8/100\n",
            "\u001b[1m1250/1250\u001b[0m \u001b[32m━━━━━━━━━━━━━━━━━━━━\u001b[0m\u001b[37m\u001b[0m \u001b[1m26s\u001b[0m 21ms/step - accuracy: 0.3691 - loss: 1.6844 - val_accuracy: 0.3612 - val_loss: 1.7128\n",
            "Epoch 9/100\n",
            "\u001b[1m1250/1250\u001b[0m \u001b[32m━━━━━━━━━━━━━━━━━━━━\u001b[0m\u001b[37m\u001b[0m \u001b[1m26s\u001b[0m 21ms/step - accuracy: 0.3832 - loss: 1.6564 - val_accuracy: 0.3436 - val_loss: 1.8385\n",
            "Epoch 10/100\n",
            "\u001b[1m1250/1250\u001b[0m \u001b[32m━━━━━━━━━━━━━━━━━━━━\u001b[0m\u001b[37m\u001b[0m \u001b[1m26s\u001b[0m 21ms/step - accuracy: 0.4039 - loss: 1.6087 - val_accuracy: 0.3968 - val_loss: 1.7063\n",
            "Epoch 11/100\n",
            "\u001b[1m1250/1250\u001b[0m \u001b[32m━━━━━━━━━━━━━━━━━━━━\u001b[0m\u001b[37m\u001b[0m \u001b[1m26s\u001b[0m 21ms/step - accuracy: 0.4070 - loss: 1.5859 - val_accuracy: 0.4134 - val_loss: 1.5994\n",
            "Epoch 12/100\n",
            "\u001b[1m1250/1250\u001b[0m \u001b[32m━━━━━━━━━━━━━━━━━━━━\u001b[0m\u001b[37m\u001b[0m \u001b[1m26s\u001b[0m 21ms/step - accuracy: 0.4199 - loss: 1.5636 - val_accuracy: 0.4101 - val_loss: 1.6329\n",
            "Epoch 13/100\n",
            "\u001b[1m1250/1250\u001b[0m \u001b[32m━━━━━━━━━━━━━━━━━━━━\u001b[0m\u001b[37m\u001b[0m \u001b[1m26s\u001b[0m 21ms/step - accuracy: 0.4279 - loss: 1.5465 - val_accuracy: 0.4547 - val_loss: 1.4806\n",
            "Epoch 14/100\n",
            "\u001b[1m1250/1250\u001b[0m \u001b[32m━━━━━━━━━━━━━━━━━━━━\u001b[0m\u001b[37m\u001b[0m \u001b[1m26s\u001b[0m 21ms/step - accuracy: 0.4384 - loss: 1.5225 - val_accuracy: 0.4554 - val_loss: 1.5174\n",
            "Epoch 15/100\n",
            "\u001b[1m1250/1250\u001b[0m \u001b[32m━━━━━━━━━━━━━━━━━━━━\u001b[0m\u001b[37m\u001b[0m \u001b[1m26s\u001b[0m 20ms/step - accuracy: 0.4476 - loss: 1.5018 - val_accuracy: 0.4914 - val_loss: 1.3923\n",
            "Epoch 16/100\n",
            "\u001b[1m1250/1250\u001b[0m \u001b[32m━━━━━━━━━━━━━━━━━━━━\u001b[0m\u001b[37m\u001b[0m \u001b[1m26s\u001b[0m 21ms/step - accuracy: 0.4575 - loss: 1.4772 - val_accuracy: 0.4684 - val_loss: 1.4944\n",
            "Epoch 17/100\n",
            "\u001b[1m1250/1250\u001b[0m \u001b[32m━━━━━━━━━━━━━━━━━━━━\u001b[0m\u001b[37m\u001b[0m \u001b[1m26s\u001b[0m 20ms/step - accuracy: 0.4626 - loss: 1.4701 - val_accuracy: 0.4726 - val_loss: 1.4821\n",
            "Epoch 18/100\n",
            "\u001b[1m1250/1250\u001b[0m \u001b[32m━━━━━━━━━━━━━━━━━━━━\u001b[0m\u001b[37m\u001b[0m \u001b[1m26s\u001b[0m 21ms/step - accuracy: 0.4759 - loss: 1.4421 - val_accuracy: 0.4927 - val_loss: 1.4094\n",
            "Epoch 19/100\n",
            "\u001b[1m1250/1250\u001b[0m \u001b[32m━━━━━━━━━━━━━━━━━━━━\u001b[0m\u001b[37m\u001b[0m \u001b[1m26s\u001b[0m 21ms/step - accuracy: 0.4730 - loss: 1.4412 - val_accuracy: 0.4781 - val_loss: 1.4632\n",
            "Epoch 20/100\n",
            "\u001b[1m1250/1250\u001b[0m \u001b[32m━━━━━━━━━━━━━━━━━━━━\u001b[0m\u001b[37m\u001b[0m \u001b[1m26s\u001b[0m 21ms/step - accuracy: 0.4852 - loss: 1.4237 - val_accuracy: 0.4759 - val_loss: 1.5270\n",
            "Epoch 21/100\n",
            "\u001b[1m1250/1250\u001b[0m \u001b[32m━━━━━━━━━━━━━━━━━━━━\u001b[0m\u001b[37m\u001b[0m \u001b[1m26s\u001b[0m 20ms/step - accuracy: 0.4929 - loss: 1.3965 - val_accuracy: 0.5233 - val_loss: 1.3400\n",
            "Epoch 22/100\n",
            "\u001b[1m1250/1250\u001b[0m \u001b[32m━━━━━━━━━━━━━━━━━━━━\u001b[0m\u001b[37m\u001b[0m \u001b[1m26s\u001b[0m 20ms/step - accuracy: 0.5033 - loss: 1.3821 - val_accuracy: 0.5243 - val_loss: 1.3152\n",
            "Epoch 23/100\n",
            "\u001b[1m1250/1250\u001b[0m \u001b[32m━━━━━━━━━━━━━━━━━━━━\u001b[0m\u001b[37m\u001b[0m \u001b[1m26s\u001b[0m 21ms/step - accuracy: 0.5024 - loss: 1.3750 - val_accuracy: 0.5386 - val_loss: 1.2868\n",
            "Epoch 24/100\n",
            "\u001b[1m1250/1250\u001b[0m \u001b[32m━━━━━━━━━━━━━━━━━━━━\u001b[0m\u001b[37m\u001b[0m \u001b[1m26s\u001b[0m 20ms/step - accuracy: 0.5121 - loss: 1.3603 - val_accuracy: 0.5067 - val_loss: 1.4515\n",
            "Epoch 25/100\n",
            "\u001b[1m1250/1250\u001b[0m \u001b[32m━━━━━━━━━━━━━━━━━━━━\u001b[0m\u001b[37m\u001b[0m \u001b[1m26s\u001b[0m 21ms/step - accuracy: 0.5146 - loss: 1.3421 - val_accuracy: 0.5338 - val_loss: 1.3315\n",
            "Epoch 26/100\n",
            "\u001b[1m1250/1250\u001b[0m \u001b[32m━━━━━━━━━━━━━━━━━━━━\u001b[0m\u001b[37m\u001b[0m \u001b[1m26s\u001b[0m 21ms/step - accuracy: 0.5227 - loss: 1.3347 - val_accuracy: 0.5499 - val_loss: 1.2527\n",
            "Epoch 27/100\n",
            "\u001b[1m1250/1250\u001b[0m \u001b[32m━━━━━━━━━━━━━━━━━━━━\u001b[0m\u001b[37m\u001b[0m \u001b[1m26s\u001b[0m 20ms/step - accuracy: 0.5230 - loss: 1.3209 - val_accuracy: 0.5525 - val_loss: 1.2617\n",
            "Epoch 28/100\n",
            "\u001b[1m1250/1250\u001b[0m \u001b[32m━━━━━━━━━━━━━━━━━━━━\u001b[0m\u001b[37m\u001b[0m \u001b[1m26s\u001b[0m 21ms/step - accuracy: 0.5301 - loss: 1.3022 - val_accuracy: 0.5554 - val_loss: 1.2536\n",
            "Epoch 29/100\n",
            "\u001b[1m1250/1250\u001b[0m \u001b[32m━━━━━━━━━━━━━━━━━━━━\u001b[0m\u001b[37m\u001b[0m \u001b[1m26s\u001b[0m 21ms/step - accuracy: 0.5356 - loss: 1.3006 - val_accuracy: 0.5348 - val_loss: 1.3342\n",
            "Epoch 30/100\n",
            "\u001b[1m1250/1250\u001b[0m \u001b[32m━━━━━━━━━━━━━━━━━━━━\u001b[0m\u001b[37m\u001b[0m \u001b[1m26s\u001b[0m 20ms/step - accuracy: 0.5317 - loss: 1.3004 - val_accuracy: 0.5370 - val_loss: 1.3712\n",
            "Epoch 31/100\n",
            "\u001b[1m1250/1250\u001b[0m \u001b[32m━━━━━━━━━━━━━━━━━━━━\u001b[0m\u001b[37m\u001b[0m \u001b[1m26s\u001b[0m 21ms/step - accuracy: 0.5403 - loss: 1.2823 - val_accuracy: 0.5672 - val_loss: 1.2277\n",
            "Epoch 32/100\n",
            "\u001b[1m1250/1250\u001b[0m \u001b[32m━━━━━━━━━━━━━━━━━━━━\u001b[0m\u001b[37m\u001b[0m \u001b[1m26s\u001b[0m 21ms/step - accuracy: 0.5507 - loss: 1.2563 - val_accuracy: 0.5944 - val_loss: 1.1279\n",
            "Epoch 33/100\n",
            "\u001b[1m1250/1250\u001b[0m \u001b[32m━━━━━━━━━━━━━━━━━━━━\u001b[0m\u001b[37m\u001b[0m \u001b[1m26s\u001b[0m 21ms/step - accuracy: 0.5491 - loss: 1.2590 - val_accuracy: 0.5989 - val_loss: 1.1143\n",
            "Epoch 34/100\n",
            "\u001b[1m1250/1250\u001b[0m \u001b[32m━━━━━━━━━━━━━━━━━━━━\u001b[0m\u001b[37m\u001b[0m \u001b[1m26s\u001b[0m 20ms/step - accuracy: 0.5591 - loss: 1.2395 - val_accuracy: 0.5715 - val_loss: 1.2197\n",
            "Epoch 35/100\n",
            "\u001b[1m1250/1250\u001b[0m \u001b[32m━━━━━━━━━━━━━━━━━━━━\u001b[0m\u001b[37m\u001b[0m \u001b[1m26s\u001b[0m 21ms/step - accuracy: 0.5540 - loss: 1.2350 - val_accuracy: 0.5904 - val_loss: 1.1594\n",
            "Epoch 36/100\n",
            "\u001b[1m1250/1250\u001b[0m \u001b[32m━━━━━━━━━━━━━━━━━━━━\u001b[0m\u001b[37m\u001b[0m \u001b[1m26s\u001b[0m 21ms/step - accuracy: 0.5650 - loss: 1.2236 - val_accuracy: 0.5744 - val_loss: 1.2258\n",
            "Epoch 37/100\n",
            "\u001b[1m1250/1250\u001b[0m \u001b[32m━━━━━━━━━━━━━━━━━━━━\u001b[0m\u001b[37m\u001b[0m \u001b[1m26s\u001b[0m 21ms/step - accuracy: 0.5650 - loss: 1.2236 - val_accuracy: 0.5638 - val_loss: 1.3147\n",
            "Epoch 38/100\n",
            "\u001b[1m1250/1250\u001b[0m \u001b[32m━━━━━━━━━━━━━━━━━━━━\u001b[0m\u001b[37m\u001b[0m \u001b[1m26s\u001b[0m 21ms/step - accuracy: 0.5688 - loss: 1.2143 - val_accuracy: 0.5706 - val_loss: 1.2489\n",
            "Epoch 39/100\n",
            "\u001b[1m1250/1250\u001b[0m \u001b[32m━━━━━━━━━━━━━━━━━━━━\u001b[0m\u001b[37m\u001b[0m \u001b[1m26s\u001b[0m 20ms/step - accuracy: 0.5718 - loss: 1.2028 - val_accuracy: 0.5778 - val_loss: 1.1923\n",
            "Epoch 40/100\n",
            "\u001b[1m1250/1250\u001b[0m \u001b[32m━━━━━━━━━━━━━━━━━━━━\u001b[0m\u001b[37m\u001b[0m \u001b[1m26s\u001b[0m 21ms/step - accuracy: 0.5697 - loss: 1.2008 - val_accuracy: 0.5961 - val_loss: 1.1491\n",
            "Epoch 41/100\n",
            "\u001b[1m1250/1250\u001b[0m \u001b[32m━━━━━━━━━━━━━━━━━━━━\u001b[0m\u001b[37m\u001b[0m \u001b[1m26s\u001b[0m 21ms/step - accuracy: 0.5730 - loss: 1.2021 - val_accuracy: 0.6161 - val_loss: 1.0826\n",
            "Epoch 42/100\n",
            "\u001b[1m1250/1250\u001b[0m \u001b[32m━━━━━━━━━━━━━━━━━━━━\u001b[0m\u001b[37m\u001b[0m \u001b[1m26s\u001b[0m 21ms/step - accuracy: 0.5816 - loss: 1.1823 - val_accuracy: 0.6250 - val_loss: 1.0447\n",
            "Epoch 43/100\n",
            "\u001b[1m1250/1250\u001b[0m \u001b[32m━━━━━━━━━━━━━━━━━━━━\u001b[0m\u001b[37m\u001b[0m \u001b[1m26s\u001b[0m 21ms/step - accuracy: 0.5837 - loss: 1.1806 - val_accuracy: 0.6133 - val_loss: 1.0902\n",
            "Epoch 44/100\n",
            "\u001b[1m1250/1250\u001b[0m \u001b[32m━━━━━━━━━━━━━━━━━━━━\u001b[0m\u001b[37m\u001b[0m \u001b[1m26s\u001b[0m 20ms/step - accuracy: 0.5809 - loss: 1.1826 - val_accuracy: 0.6219 - val_loss: 1.0835\n",
            "Epoch 45/100\n",
            "\u001b[1m1250/1250\u001b[0m \u001b[32m━━━━━━━━━━━━━━━━━━━━\u001b[0m\u001b[37m\u001b[0m \u001b[1m26s\u001b[0m 21ms/step - accuracy: 0.5904 - loss: 1.1517 - val_accuracy: 0.5970 - val_loss: 1.1495\n",
            "Epoch 46/100\n",
            "\u001b[1m1250/1250\u001b[0m \u001b[32m━━━━━━━━━━━━━━━━━━━━\u001b[0m\u001b[37m\u001b[0m \u001b[1m26s\u001b[0m 21ms/step - accuracy: 0.5869 - loss: 1.1613 - val_accuracy: 0.6267 - val_loss: 1.0560\n",
            "Epoch 47/100\n",
            "\u001b[1m1250/1250\u001b[0m \u001b[32m━━━━━━━━━━━━━━━━━━━━\u001b[0m\u001b[37m\u001b[0m \u001b[1m26s\u001b[0m 20ms/step - accuracy: 0.5918 - loss: 1.1578 - val_accuracy: 0.6073 - val_loss: 1.1579\n",
            "Epoch 48/100\n",
            "\u001b[1m1250/1250\u001b[0m \u001b[32m━━━━━━━━━━━━━━━━━━━━\u001b[0m\u001b[37m\u001b[0m \u001b[1m26s\u001b[0m 20ms/step - accuracy: 0.5874 - loss: 1.1605 - val_accuracy: 0.6373 - val_loss: 1.0150\n",
            "Epoch 49/100\n",
            "\u001b[1m1250/1250\u001b[0m \u001b[32m━━━━━━━━━━━━━━━━━━━━\u001b[0m\u001b[37m\u001b[0m \u001b[1m26s\u001b[0m 21ms/step - accuracy: 0.5959 - loss: 1.1401 - val_accuracy: 0.6240 - val_loss: 1.0558\n",
            "Epoch 50/100\n",
            "\u001b[1m1250/1250\u001b[0m \u001b[32m━━━━━━━━━━━━━━━━━━━━\u001b[0m\u001b[37m\u001b[0m \u001b[1m26s\u001b[0m 21ms/step - accuracy: 0.5955 - loss: 1.1478 - val_accuracy: 0.5973 - val_loss: 1.1595\n",
            "Epoch 51/100\n",
            "\u001b[1m1250/1250\u001b[0m \u001b[32m━━━━━━━━━━━━━━━━━━━━\u001b[0m\u001b[37m\u001b[0m \u001b[1m26s\u001b[0m 20ms/step - accuracy: 0.5987 - loss: 1.1262 - val_accuracy: 0.6145 - val_loss: 1.1061\n",
            "Epoch 52/100\n",
            "\u001b[1m1250/1250\u001b[0m \u001b[32m━━━━━━━━━━━━━━━━━━━━\u001b[0m\u001b[37m\u001b[0m \u001b[1m26s\u001b[0m 20ms/step - accuracy: 0.6032 - loss: 1.1296 - val_accuracy: 0.6023 - val_loss: 1.1733\n",
            "Epoch 53/100\n",
            "\u001b[1m1250/1250\u001b[0m \u001b[32m━━━━━━━━━━━━━━━━━━━━\u001b[0m\u001b[37m\u001b[0m \u001b[1m26s\u001b[0m 20ms/step - accuracy: 0.6039 - loss: 1.1219 - val_accuracy: 0.6341 - val_loss: 1.0370\n",
            "Epoch 54/100\n",
            "\u001b[1m1250/1250\u001b[0m \u001b[32m━━━━━━━━━━━━━━━━━━━━\u001b[0m\u001b[37m\u001b[0m \u001b[1m26s\u001b[0m 21ms/step - accuracy: 0.6086 - loss: 1.1109 - val_accuracy: 0.6493 - val_loss: 0.9878\n",
            "Epoch 55/100\n",
            "\u001b[1m1250/1250\u001b[0m \u001b[32m━━━━━━━━━━━━━━━━━━━━\u001b[0m\u001b[37m\u001b[0m \u001b[1m26s\u001b[0m 21ms/step - accuracy: 0.6081 - loss: 1.1118 - val_accuracy: 0.6372 - val_loss: 1.0106\n",
            "Epoch 56/100\n",
            "\u001b[1m1250/1250\u001b[0m \u001b[32m━━━━━━━━━━━━━━━━━━━━\u001b[0m\u001b[37m\u001b[0m \u001b[1m26s\u001b[0m 20ms/step - accuracy: 0.6114 - loss: 1.1009 - val_accuracy: 0.6286 - val_loss: 1.0338\n",
            "Epoch 57/100\n",
            "\u001b[1m1250/1250\u001b[0m \u001b[32m━━━━━━━━━━━━━━━━━━━━\u001b[0m\u001b[37m\u001b[0m \u001b[1m26s\u001b[0m 20ms/step - accuracy: 0.6131 - loss: 1.1006 - val_accuracy: 0.6255 - val_loss: 1.0528\n",
            "Epoch 58/100\n",
            "\u001b[1m1250/1250\u001b[0m \u001b[32m━━━━━━━━━━━━━━━━━━━━\u001b[0m\u001b[37m\u001b[0m \u001b[1m26s\u001b[0m 21ms/step - accuracy: 0.6156 - loss: 1.0921 - val_accuracy: 0.6395 - val_loss: 1.0450\n",
            "Epoch 59/100\n",
            "\u001b[1m1250/1250\u001b[0m \u001b[32m━━━━━━━━━━━━━━━━━━━━\u001b[0m\u001b[37m\u001b[0m \u001b[1m26s\u001b[0m 21ms/step - accuracy: 0.6163 - loss: 1.0839 - val_accuracy: 0.6523 - val_loss: 0.9833\n",
            "Epoch 60/100\n",
            "\u001b[1m1250/1250\u001b[0m \u001b[32m━━━━━━━━━━━━━━━━━━━━\u001b[0m\u001b[37m\u001b[0m \u001b[1m26s\u001b[0m 20ms/step - accuracy: 0.6196 - loss: 1.0775 - val_accuracy: 0.6385 - val_loss: 1.0678\n",
            "Epoch 61/100\n",
            "\u001b[1m1250/1250\u001b[0m \u001b[32m━━━━━━━━━━━━━━━━━━━━\u001b[0m\u001b[37m\u001b[0m \u001b[1m26s\u001b[0m 21ms/step - accuracy: 0.6182 - loss: 1.0773 - val_accuracy: 0.6573 - val_loss: 0.9897\n",
            "Epoch 62/100\n",
            "\u001b[1m1250/1250\u001b[0m \u001b[32m━━━━━━━━━━━━━━━━━━━━\u001b[0m\u001b[37m\u001b[0m \u001b[1m26s\u001b[0m 20ms/step - accuracy: 0.6204 - loss: 1.0801 - val_accuracy: 0.6548 - val_loss: 0.9813\n",
            "Epoch 63/100\n",
            "\u001b[1m1250/1250\u001b[0m \u001b[32m━━━━━━━━━━━━━━━━━━━━\u001b[0m\u001b[37m\u001b[0m \u001b[1m26s\u001b[0m 21ms/step - accuracy: 0.6224 - loss: 1.0714 - val_accuracy: 0.6602 - val_loss: 0.9703\n",
            "Epoch 64/100\n",
            "\u001b[1m1250/1250\u001b[0m \u001b[32m━━━━━━━━━━━━━━━━━━━━\u001b[0m\u001b[37m\u001b[0m \u001b[1m26s\u001b[0m 21ms/step - accuracy: 0.6223 - loss: 1.0600 - val_accuracy: 0.6456 - val_loss: 1.0095\n",
            "Epoch 65/100\n",
            "\u001b[1m1250/1250\u001b[0m \u001b[32m━━━━━━━━━━━━━━━━━━━━\u001b[0m\u001b[37m\u001b[0m \u001b[1m26s\u001b[0m 20ms/step - accuracy: 0.6274 - loss: 1.0489 - val_accuracy: 0.6436 - val_loss: 1.0536\n",
            "Epoch 66/100\n",
            "\u001b[1m1250/1250\u001b[0m \u001b[32m━━━━━━━━━━━━━━━━━━━━\u001b[0m\u001b[37m\u001b[0m \u001b[1m26s\u001b[0m 20ms/step - accuracy: 0.6272 - loss: 1.0542 - val_accuracy: 0.6542 - val_loss: 1.0001\n",
            "Epoch 67/100\n",
            "\u001b[1m1250/1250\u001b[0m \u001b[32m━━━━━━━━━━━━━━━━━━━━\u001b[0m\u001b[37m\u001b[0m \u001b[1m26s\u001b[0m 21ms/step - accuracy: 0.6338 - loss: 1.0449 - val_accuracy: 0.6281 - val_loss: 1.1000\n",
            "Epoch 68/100\n",
            "\u001b[1m1250/1250\u001b[0m \u001b[32m━━━━━━━━━━━━━━━━━━━━\u001b[0m\u001b[37m\u001b[0m \u001b[1m26s\u001b[0m 20ms/step - accuracy: 0.6285 - loss: 1.0417 - val_accuracy: 0.6474 - val_loss: 1.0368\n",
            "Epoch 69/100\n",
            "\u001b[1m1250/1250\u001b[0m \u001b[32m━━━━━━━━━━━━━━━━━━━━\u001b[0m\u001b[37m\u001b[0m \u001b[1m26s\u001b[0m 20ms/step - accuracy: 0.6360 - loss: 1.0334 - val_accuracy: 0.6629 - val_loss: 0.9848\n",
            "Epoch 70/100\n",
            "\u001b[1m1250/1250\u001b[0m \u001b[32m━━━━━━━━━━━━━━━━━━━━\u001b[0m\u001b[37m\u001b[0m \u001b[1m26s\u001b[0m 20ms/step - accuracy: 0.6401 - loss: 1.0230 - val_accuracy: 0.6562 - val_loss: 0.9926\n",
            "Epoch 71/100\n",
            "\u001b[1m1250/1250\u001b[0m \u001b[32m━━━━━━━━━━━━━━━━━━━━\u001b[0m\u001b[37m\u001b[0m \u001b[1m26s\u001b[0m 21ms/step - accuracy: 0.6403 - loss: 1.0277 - val_accuracy: 0.6566 - val_loss: 0.9769\n",
            "Epoch 72/100\n",
            "\u001b[1m1250/1250\u001b[0m \u001b[32m━━━━━━━━━━━━━━━━━━━━\u001b[0m\u001b[37m\u001b[0m \u001b[1m26s\u001b[0m 20ms/step - accuracy: 0.6413 - loss: 1.0237 - val_accuracy: 0.6629 - val_loss: 0.9681\n",
            "Epoch 73/100\n",
            "\u001b[1m1250/1250\u001b[0m \u001b[32m━━━━━━━━━━━━━━━━━━━━\u001b[0m\u001b[37m\u001b[0m \u001b[1m26s\u001b[0m 21ms/step - accuracy: 0.6416 - loss: 1.0179 - val_accuracy: 0.6721 - val_loss: 0.9471\n",
            "Epoch 74/100\n",
            "\u001b[1m1250/1250\u001b[0m \u001b[32m━━━━━━━━━━━━━━━━━━━━\u001b[0m\u001b[37m\u001b[0m \u001b[1m26s\u001b[0m 21ms/step - accuracy: 0.6461 - loss: 1.0137 - val_accuracy: 0.6750 - val_loss: 0.9488\n",
            "Epoch 75/100\n",
            "\u001b[1m1250/1250\u001b[0m \u001b[32m━━━━━━━━━━━━━━━━━━━━\u001b[0m\u001b[37m\u001b[0m \u001b[1m26s\u001b[0m 21ms/step - accuracy: 0.6368 - loss: 1.0296 - val_accuracy: 0.6837 - val_loss: 0.9168\n",
            "Epoch 76/100\n",
            "\u001b[1m1250/1250\u001b[0m \u001b[32m━━━━━━━━━━━━━━━━━━━━\u001b[0m\u001b[37m\u001b[0m \u001b[1m26s\u001b[0m 20ms/step - accuracy: 0.6457 - loss: 1.0102 - val_accuracy: 0.6736 - val_loss: 0.9620\n",
            "Epoch 77/100\n",
            "\u001b[1m1250/1250\u001b[0m \u001b[32m━━━━━━━━━━━━━━━━━━━━\u001b[0m\u001b[37m\u001b[0m \u001b[1m26s\u001b[0m 21ms/step - accuracy: 0.6469 - loss: 1.0120 - val_accuracy: 0.6731 - val_loss: 0.9614\n",
            "Epoch 78/100\n",
            "\u001b[1m1250/1250\u001b[0m \u001b[32m━━━━━━━━━━━━━━━━━━━━\u001b[0m\u001b[37m\u001b[0m \u001b[1m26s\u001b[0m 20ms/step - accuracy: 0.6470 - loss: 1.0020 - val_accuracy: 0.6922 - val_loss: 0.8938\n",
            "Epoch 79/100\n",
            "\u001b[1m1250/1250\u001b[0m \u001b[32m━━━━━━━━━━━━━━━━━━━━\u001b[0m\u001b[37m\u001b[0m \u001b[1m26s\u001b[0m 21ms/step - accuracy: 0.6507 - loss: 1.0037 - val_accuracy: 0.6772 - val_loss: 0.9390\n",
            "Epoch 80/100\n",
            "\u001b[1m1250/1250\u001b[0m \u001b[32m━━━━━━━━━━━━━━━━━━━━\u001b[0m\u001b[37m\u001b[0m \u001b[1m26s\u001b[0m 21ms/step - accuracy: 0.6515 - loss: 0.9956 - val_accuracy: 0.6950 - val_loss: 0.8848\n",
            "Epoch 81/100\n",
            "\u001b[1m1250/1250\u001b[0m \u001b[32m━━━━━━━━━━━━━━━━━━━━\u001b[0m\u001b[37m\u001b[0m \u001b[1m26s\u001b[0m 20ms/step - accuracy: 0.6541 - loss: 0.9946 - val_accuracy: 0.6699 - val_loss: 0.9799\n",
            "Epoch 82/100\n",
            "\u001b[1m1250/1250\u001b[0m \u001b[32m━━━━━━━━━━━━━━━━━━━━\u001b[0m\u001b[37m\u001b[0m \u001b[1m26s\u001b[0m 21ms/step - accuracy: 0.6566 - loss: 0.9823 - val_accuracy: 0.6876 - val_loss: 0.9244\n",
            "Epoch 83/100\n",
            "\u001b[1m1250/1250\u001b[0m \u001b[32m━━━━━━━━━━━━━━━━━━━━\u001b[0m\u001b[37m\u001b[0m \u001b[1m26s\u001b[0m 20ms/step - accuracy: 0.6593 - loss: 0.9783 - val_accuracy: 0.6909 - val_loss: 0.9000\n",
            "Epoch 84/100\n",
            "\u001b[1m1250/1250\u001b[0m \u001b[32m━━━━━━━━━━━━━━━━━━━━\u001b[0m\u001b[37m\u001b[0m \u001b[1m26s\u001b[0m 21ms/step - accuracy: 0.6564 - loss: 0.9844 - val_accuracy: 0.6921 - val_loss: 0.8944\n",
            "Epoch 85/100\n",
            "\u001b[1m1250/1250\u001b[0m \u001b[32m━━━━━━━━━━━━━━━━━━━━\u001b[0m\u001b[37m\u001b[0m \u001b[1m26s\u001b[0m 20ms/step - accuracy: 0.6619 - loss: 0.9789 - val_accuracy: 0.6779 - val_loss: 0.9471\n",
            "Epoch 86/100\n",
            "\u001b[1m1250/1250\u001b[0m \u001b[32m━━━━━━━━━━━━━━━━━━━━\u001b[0m\u001b[37m\u001b[0m \u001b[1m26s\u001b[0m 21ms/step - accuracy: 0.6606 - loss: 0.9700 - val_accuracy: 0.6943 - val_loss: 0.8982\n",
            "Epoch 87/100\n",
            "\u001b[1m1250/1250\u001b[0m \u001b[32m━━━━━━━━━━━━━━━━━━━━\u001b[0m\u001b[37m\u001b[0m \u001b[1m26s\u001b[0m 21ms/step - accuracy: 0.6628 - loss: 0.9756 - val_accuracy: 0.6773 - val_loss: 0.9529\n",
            "Epoch 88/100\n",
            "\u001b[1m1250/1250\u001b[0m \u001b[32m━━━━━━━━━━━━━━━━━━━━\u001b[0m\u001b[37m\u001b[0m \u001b[1m26s\u001b[0m 21ms/step - accuracy: 0.6645 - loss: 0.9700 - val_accuracy: 0.6896 - val_loss: 0.9169\n",
            "Epoch 89/100\n",
            "\u001b[1m1250/1250\u001b[0m \u001b[32m━━━━━━━━━━━━━━━━━━━━\u001b[0m\u001b[37m\u001b[0m \u001b[1m26s\u001b[0m 20ms/step - accuracy: 0.6692 - loss: 0.9532 - val_accuracy: 0.7030 - val_loss: 0.8801\n",
            "Epoch 90/100\n",
            "\u001b[1m1250/1250\u001b[0m \u001b[32m━━━━━━━━━━━━━━━━━━━━\u001b[0m\u001b[37m\u001b[0m \u001b[1m26s\u001b[0m 20ms/step - accuracy: 0.6610 - loss: 0.9733 - val_accuracy: 0.7071 - val_loss: 0.8534\n",
            "Epoch 91/100\n",
            "\u001b[1m1250/1250\u001b[0m \u001b[32m━━━━━━━━━━━━━━━━━━━━\u001b[0m\u001b[37m\u001b[0m \u001b[1m26s\u001b[0m 20ms/step - accuracy: 0.6645 - loss: 0.9585 - val_accuracy: 0.7060 - val_loss: 0.8589\n",
            "Epoch 92/100\n",
            "\u001b[1m1250/1250\u001b[0m \u001b[32m━━━━━━━━━━━━━━━━━━━━\u001b[0m\u001b[37m\u001b[0m \u001b[1m26s\u001b[0m 20ms/step - accuracy: 0.6658 - loss: 0.9573 - val_accuracy: 0.6992 - val_loss: 0.8899\n",
            "Epoch 93/100\n",
            "\u001b[1m1250/1250\u001b[0m \u001b[32m━━━━━━━━━━━━━━━━━━━━\u001b[0m\u001b[37m\u001b[0m \u001b[1m26s\u001b[0m 20ms/step - accuracy: 0.6680 - loss: 0.9501 - val_accuracy: 0.7099 - val_loss: 0.8415\n",
            "Epoch 94/100\n",
            "\u001b[1m1250/1250\u001b[0m \u001b[32m━━━━━━━━━━━━━━━━━━━━\u001b[0m\u001b[37m\u001b[0m \u001b[1m26s\u001b[0m 21ms/step - accuracy: 0.6697 - loss: 0.9460 - val_accuracy: 0.7101 - val_loss: 0.8309\n",
            "Epoch 95/100\n",
            "\u001b[1m1250/1250\u001b[0m \u001b[32m━━━━━━━━━━━━━━━━━━━━\u001b[0m\u001b[37m\u001b[0m \u001b[1m26s\u001b[0m 21ms/step - accuracy: 0.6702 - loss: 0.9501 - val_accuracy: 0.6995 - val_loss: 0.8969\n",
            "Epoch 96/100\n",
            "\u001b[1m1250/1250\u001b[0m \u001b[32m━━━━━━━━━━━━━━━━━━━━\u001b[0m\u001b[37m\u001b[0m \u001b[1m26s\u001b[0m 20ms/step - accuracy: 0.6713 - loss: 0.9438 - val_accuracy: 0.7199 - val_loss: 0.8178\n",
            "Epoch 97/100\n",
            "\u001b[1m1250/1250\u001b[0m \u001b[32m━━━━━━━━━━━━━━━━━━━━\u001b[0m\u001b[37m\u001b[0m \u001b[1m26s\u001b[0m 21ms/step - accuracy: 0.6730 - loss: 0.9333 - val_accuracy: 0.7088 - val_loss: 0.8526\n",
            "Epoch 98/100\n",
            "\u001b[1m1250/1250\u001b[0m \u001b[32m━━━━━━━━━━━━━━━━━━━━\u001b[0m\u001b[37m\u001b[0m \u001b[1m26s\u001b[0m 21ms/step - accuracy: 0.6690 - loss: 0.9418 - val_accuracy: 0.7099 - val_loss: 0.8286\n",
            "Epoch 99/100\n",
            "\u001b[1m1250/1250\u001b[0m \u001b[32m━━━━━━━━━━━━━━━━━━━━\u001b[0m\u001b[37m\u001b[0m \u001b[1m26s\u001b[0m 20ms/step - accuracy: 0.6771 - loss: 0.9378 - val_accuracy: 0.6930 - val_loss: 0.9160\n",
            "Epoch 100/100\n",
            "\u001b[1m1250/1250\u001b[0m \u001b[32m━━━━━━━━━━━━━━━━━━━━\u001b[0m\u001b[37m\u001b[0m \u001b[1m26s\u001b[0m 21ms/step - accuracy: 0.6762 - loss: 0.9246 - val_accuracy: 0.6977 - val_loss: 0.9128\n"
          ]
        }
      ]
    },
    {
      "cell_type": "code",
      "source": [
        "model.evaluate(testing_data, testing_label)"
      ],
      "metadata": {
        "colab": {
          "base_uri": "https://localhost:8080/"
        },
        "id": "8w2N3fDaugsV",
        "outputId": "88f16bc0-9bb9-4392-db84-7838a0c1a3e1"
      },
      "execution_count": 12,
      "outputs": [
        {
          "output_type": "stream",
          "name": "stdout",
          "text": [
            "\u001b[1m313/313\u001b[0m \u001b[32m━━━━━━━━━━━━━━━━━━━━\u001b[0m\u001b[37m\u001b[0m \u001b[1m1s\u001b[0m 2ms/step - accuracy: 0.6938 - loss: 0.9392\n"
          ]
        },
        {
          "output_type": "execute_result",
          "data": {
            "text/plain": [
              "[0.9571531414985657, 0.6858000159263611]"
            ]
          },
          "metadata": {},
          "execution_count": 12
        }
      ]
    },
    {
      "cell_type": "code",
      "source": [
        "def acc_loss_curves(result, epochs):\n",
        "    acc = result.history[\"accuracy\"]\n",
        "    # obtaining loss and accuracy\n",
        "    loss = result.history[\"loss\"]\n",
        "    # declaring values of loss and accuracy\n",
        "    val_acc = result.history[\"val_accuracy\"]\n",
        "    val_loss = result.history[\"val_loss\"]\n",
        "    # plotting the figure\n",
        "    plotter.figure(figsize=(15, 5))\n",
        "    plotter.subplot(121)\n",
        "    plotter.plot(range(1, epochs), acc[1:], label=\"Train_acc\")\n",
        "    plotter.plot(range(1, epochs), val_acc[1:], label=\"Val_acc\")\n",
        "    # giving title to plot\n",
        "    plotter.title(\"Accuracy over \" + str(epochs) + \" Epochs\", size=15)\n",
        "    plotter.legend()\n",
        "    plotter.grid(True)\n",
        "    # passing value 122\n",
        "    plotter.subplot(122)\n",
        "    # using train loss\n",
        "    plotter.plot(range(1, epochs), loss[1:], label=\"Train_loss\")\n",
        "    plotter.plot(range(1, epochs), val_loss[1:], label=\"Val_loss\")\n",
        "    # using epocs\n",
        "    plotter.title(\"Loss over \" + str(epochs) + \" Epochs\", size=15)\n",
        "    plotter.legend()\n",
        "    # passing true vallues\n",
        "    plotter.grid(True)\n",
        "    # printing the grapb\n",
        "    plotter.show()\n",
        "\n",
        "\n",
        "acc_loss_curves(history, 100)"
      ],
      "metadata": {
        "colab": {
          "base_uri": "https://localhost:8080/",
          "height": 470
        },
        "id": "oM4it7qqucC0",
        "outputId": "1e0f843e-fea8-4d7f-bff4-704ca7ac7877"
      },
      "execution_count": 13,
      "outputs": [
        {
          "output_type": "display_data",
          "data": {
            "text/plain": [
              "<Figure size 1500x500 with 2 Axes>"
            ],
            "image/png": "[encoded data removed]"
          },
          "metadata": {}
        }
      ]
    },
    {
      "cell_type": "code",
      "source": [
        "# Save model to file\n",
        "model.save('cifar10_model.h5')\n",
        "\n",
        "# Alternatively, save weights only\n",
        "model.save_weights('cifar10.weights.h5')"
      ],
      "metadata": {
        "colab": {
          "base_uri": "https://localhost:8080/"
        },
        "id": "BLreG32EmEkz",
        "outputId": "b1bc4545-16cf-426c-9f8f-bacab2d58cdf"
      },
      "execution_count": 15,
      "outputs": [
        {
          "output_type": "stream",
          "name": "stderr",
          "text": [
            "WARNING:absl:You are saving your model as an HDF5 file via `model.save()` or `keras.saving.save_model(model)`. This file format is considered legacy. We recommend using instead the native Keras format, e.g. `model.save('my_model.keras')` or `keras.saving.save_model(model, 'my_model.keras')`. \n"
          ]
        }
      ]
    },
    {
      "cell_type": "code",
      "source": [],
      "metadata": {
        "id": "NhfQnPh1mEnx"
      },
      "execution_count": null,
      "outputs": []
    },
    {
      "cell_type": "code",
      "source": [],
      "metadata": {
        "id": "If8rx_NYmEtE"
      },
      "execution_count": null,
      "outputs": []
    },
    {
      "cell_type": "code",
      "source": [
        "from PIL import Image\n",
        "import numpy as np\n",
        "from tensorflow.keras.preprocessing.image import img_to_array\n",
        "\n",
        "# Test/predict unseen images\n",
        "def predict_image(image_path):\n",
        "    # Load image\n",
        "    img = Image.open(image_path)\n",
        "\n",
        "    # Resize image to 32x32\n",
        "    img = img.resize((32, 32))\n",
        "\n",
        "    # Ensure image has 3 color channels (RGB)\n",
        "    if img.mode != 'RGB':\n",
        "        img = img.convert('RGB')\n",
        "\n",
        "    # Convert image to array\n",
        "    img = img_to_array(img)\n",
        "\n",
        "    # Normalize pixel values\n",
        "    img /= 255.0\n",
        "\n",
        "    # Add batch dimension\n",
        "    img = np.expand_dims(img, axis=0)\n",
        "\n",
        "    # Make prediction\n",
        "    prediction = model.predict(img)\n",
        "    predicted_class = np.argmax(prediction)\n",
        "\n",
        "    return class_labels[predicted_class]\n",
        "\n",
        "\n",
        "# Test the function\n",
        "image_path = '/content/aeroplane.jpeg'\n",
        "predicted_label = predict_image(image_path)\n",
        "print(f\"Predicted label: {predicted_label}\")\n",
        "\n",
        "\n",
        "# Evaluate model on test data\n",
        "test_loss, test_acc = model.evaluate(testing_data, testing_label)\n",
        "print(f'Test accuracy: {test_acc:.2f}')\n",
        "\n",
        "\n",
        "# Classification report and confusion matrix\n",
        "predictions = model.predict(testing_data)\n",
        "predicted_classes = np.argmax(predictions, axis=1)\n",
        "test_labels = np.argmax(testing_label, axis=1)\n",
        "\n",
        "print(classification_report(test_labels, predicted_classes))\n",
        "print(confusion_matrix(test_labels, predicted_classes))\n",
        "\n",
        "#This modified function:\n",
        "#Opens the image using PIL.\n",
        "#Resizes the image to 32x32 using img.resize((32, 32)).\n",
        "#Ensures the image has 3 color channels (RGB) using img.convert('RGB').\n",
        "#Converts the image to an array using img_to_array.\n",
        "#Normalizes pixel values by dividing by 255.\n",
        "#Adds a batch dimension using np.expand_dims.\n",
        "#Makes a prediction using the trained model.\n",
        "#Now, you can input images of any shape, and the function will resize them to 32x32x3 before making a prediction."
      ],
      "metadata": {
        "colab": {
          "base_uri": "https://localhost:8080/"
        },
        "id": "ct_xotk6mEwK",
        "outputId": "6a0beea0-9ea6-45a8-f4a4-6c732cea5692"
      },
      "execution_count": 16,
      "outputs": [
        {
          "output_type": "stream",
          "name": "stdout",
          "text": [
            "\u001b[1m1/1\u001b[0m \u001b[32m━━━━━━━━━━━━━━━━━━━━\u001b[0m\u001b[37m\u001b[0m \u001b[1m1s\u001b[0m 626ms/step\n",
            "Predicted label: airplane\n",
            "\u001b[1m313/313\u001b[0m \u001b[32m━━━━━━━━━━━━━━━━━━━━\u001b[0m\u001b[37m\u001b[0m \u001b[1m1s\u001b[0m 2ms/step - accuracy: 0.6938 - loss: 0.9392\n",
            "Test accuracy: 0.69\n",
            "\u001b[1m313/313\u001b[0m \u001b[32m━━━━━━━━━━━━━━━━━━━━\u001b[0m\u001b[37m\u001b[0m \u001b[1m2s\u001b[0m 3ms/step\n",
            "              precision    recall  f1-score   support\n",
            "\n",
            "           0       0.74      0.80      0.76      1000\n",
            "           1       0.84      0.90      0.87      1000\n",
            "           2       0.68      0.45      0.54      1000\n",
            "           3       0.58      0.33      0.42      1000\n",
            "           4       0.72      0.51      0.60      1000\n",
            "           5       0.73      0.52      0.61      1000\n",
            "           6       0.42      0.97      0.58      1000\n",
            "           7       0.75      0.75      0.75      1000\n",
            "           8       0.87      0.80      0.84      1000\n",
            "           9       0.86      0.84      0.85      1000\n",
            "\n",
            "    accuracy                           0.69     10000\n",
            "   macro avg       0.72      0.69      0.68     10000\n",
            "weighted avg       0.72      0.69      0.68     10000\n",
            "\n",
            "[[795  16  50   3  13   0  20  21  62  20]\n",
            " [ 18 895   3   0   1   1  26   4  12  40]\n",
            " [ 81   6 452  34  61  29 304  17  13   3]\n",
            " [ 15  16  61 329  21 115 357  49  13  24]\n",
            " [ 16   1  33  10 512   8 345  70   3   2]\n",
            " [  6   9  23 154  29 516 183  70   1   9]\n",
            " [  7   3  15   5   1   1 966   1   1   0]\n",
            " [ 22   4  15  23  64  33  76 754   1   8]\n",
            " [ 95  31   7   3   8   2  21   2 801  30]\n",
            " [ 24  82   2   3   2   0  25  14  10 838]]\n"
          ]
        }
      ]
    },
    {
      "cell_type": "code",
      "source": [
        "from PIL import Image\n",
        "import numpy as np\n",
        "from tensorflow.keras.preprocessing.image import img_to_array\n",
        "\n",
        "# Test/predict unseen images\n",
        "def predict_image(image_path):\n",
        "    # Load image\n",
        "    img = Image.open(image_path)\n",
        "\n",
        "    # Resize image to 32x32\n",
        "    img = img.resize((32, 32))\n",
        "\n",
        "    # Ensure image has 3 color channels (RGB)\n",
        "    if img.mode != 'RGB':\n",
        "        img = img.convert('RGB')\n",
        "\n",
        "    # Convert image to array\n",
        "    img = img_to_array(img)\n",
        "\n",
        "    # Normalize pixel values\n",
        "    img /= 255.0\n",
        "\n",
        "    # Add batch dimension\n",
        "    img = np.expand_dims(img, axis=0)\n",
        "\n",
        "    # Make prediction\n",
        "    prediction = model.predict(img)\n",
        "    predicted_class = np.argmax(prediction)\n",
        "\n",
        "    return class_labels[predicted_class]\n",
        "\n",
        "\n",
        "# Test the function\n",
        "image_path = '/content/truck.jpeg'\n",
        "predicted_label = predict_image(image_path)\n",
        "print(f\"Predicted label: {predicted_label}\")\n",
        "\n",
        "\n",
        "# Evaluate model on test data\n",
        "test_loss, test_acc = model.evaluate(testing_data, testing_label)\n",
        "print(f'Test accuracy: {test_acc:.2f}')\n",
        "\n",
        "\n",
        "# Classification report and confusion matrix\n",
        "predictions = model.predict(testing_data)\n",
        "predicted_classes = np.argmax(predictions, axis=1)\n",
        "test_labels = np.argmax(testing_label, axis=1)\n",
        "\n",
        "print(classification_report(test_labels, predicted_classes))\n",
        "print(confusion_matrix(test_labels, predicted_classes))\n",
        "\n",
        "#This modified function:\n",
        "#Opens the image using PIL.\n",
        "#Resizes the image to 32x32 using img.resize((32, 32)).\n",
        "#Ensures the image has 3 color channels (RGB) using img.convert('RGB').\n",
        "#Converts the image to an array using img_to_array.\n",
        "#Normalizes pixel values by dividing by 255.\n",
        "#Adds a batch dimension using np.expand_dims.\n",
        "#Makes a prediction using the trained model.\n",
        "#Now, you can input images of any shape, and the function will resize them to 32x32x3 before making a prediction."
      ],
      "metadata": {
        "colab": {
          "base_uri": "https://localhost:8080/"
        },
        "id": "FRPbHdXP1TZK",
        "outputId": "dff939cd-1fbd-4b19-a4c8-95883a2153ef"
      },
      "execution_count": 17,
      "outputs": [
        {
          "output_type": "stream",
          "name": "stdout",
          "text": [
            "\u001b[1m1/1\u001b[0m \u001b[32m━━━━━━━━━━━━━━━━━━━━\u001b[0m\u001b[37m\u001b[0m \u001b[1m0s\u001b[0m 21ms/step\n",
            "Predicted label: truck\n",
            "\u001b[1m313/313\u001b[0m \u001b[32m━━━━━━━━━━━━━━━━━━━━\u001b[0m\u001b[37m\u001b[0m \u001b[1m0s\u001b[0m 2ms/step - accuracy: 0.6938 - loss: 0.9392\n",
            "Test accuracy: 0.69\n",
            "\u001b[1m313/313\u001b[0m \u001b[32m━━━━━━━━━━━━━━━━━━━━\u001b[0m\u001b[37m\u001b[0m \u001b[1m0s\u001b[0m 1ms/step\n",
            "              precision    recall  f1-score   support\n",
            "\n",
            "           0       0.74      0.80      0.76      1000\n",
            "           1       0.84      0.90      0.87      1000\n",
            "           2       0.68      0.45      0.54      1000\n",
            "           3       0.58      0.33      0.42      1000\n",
            "           4       0.72      0.51      0.60      1000\n",
            "           5       0.73      0.52      0.61      1000\n",
            "           6       0.42      0.97      0.58      1000\n",
            "           7       0.75      0.75      0.75      1000\n",
            "           8       0.87      0.80      0.84      1000\n",
            "           9       0.86      0.84      0.85      1000\n",
            "\n",
            "    accuracy                           0.69     10000\n",
            "   macro avg       0.72      0.69      0.68     10000\n",
            "weighted avg       0.72      0.69      0.68     10000\n",
            "\n",
            "[[795  16  50   3  13   0  20  21  62  20]\n",
            " [ 18 895   3   0   1   1  26   4  12  40]\n",
            " [ 81   6 452  34  61  29 304  17  13   3]\n",
            " [ 15  16  61 329  21 115 357  49  13  24]\n",
            " [ 16   1  33  10 512   8 345  70   3   2]\n",
            " [  6   9  23 154  29 516 183  70   1   9]\n",
            " [  7   3  15   5   1   1 966   1   1   0]\n",
            " [ 22   4  15  23  64  33  76 754   1   8]\n",
            " [ 95  31   7   3   8   2  21   2 801  30]\n",
            " [ 24  82   2   3   2   0  25  14  10 838]]\n"
          ]
        }
      ]
    },
    {
      "cell_type": "code",
      "source": [
        "#OR"
      ],
      "metadata": {
        "id": "gR3NVOgHmE3i"
      },
      "execution_count": null,
      "outputs": []
    },
    {
      "cell_type": "code",
      "source": [
        "import cv2\n",
        "import numpy as np\n",
        "from tensorflow.keras.models import load_model\n",
        "# Import cv2_imshow from google.colab.patches for displaying images in Colab\n",
        "from google.colab.patches import cv2_imshow\n",
        "\n",
        "\n",
        "# Load trained model\n",
        "model = load_model('cifar10_model.h5')\n",
        "\n",
        "# Define image path and label dictionary\n",
        "image_path = '/content/truck.jpeg'\n",
        "label_dict = {i: label for i, label in enumerate(class_labels)}\n",
        "\n",
        "# Load and preprocess image\n",
        "img = cv2.imread(image_path)\n",
        "img = cv2.resize(img, (32, 32))\n",
        "img = img / 255.0\n",
        "\n",
        "# Add batch dimension\n",
        "img = np.expand_dims(img, axis=0)\n",
        "\n",
        "# Make prediction\n",
        "prediction = model.predict(img)\n",
        "predicted_class = np.argmax(prediction)\n",
        "\n",
        "# Get predicted label\n",
        "predicted_label = label_dict[predicted_class]\n",
        "\n",
        "print(f\"Predicted Class: {predicted_class}\")\n",
        "print(f\"Predicted Label: {predicted_label}\")\n",
        "\n",
        "# Display image with predicted label using cv2_imshow\n",
        "# Replace cv2.imshow with cv2_imshow\n",
        "cv2_imshow(img.squeeze())\n",
        "cv2.waitKey(0)\n",
        "cv2.destroyAllWindows()"
      ],
      "metadata": {
        "colab": {
          "base_uri": "https://localhost:8080/",
          "height": 118
        },
        "id": "m8S_-yCxmE5-",
        "outputId": "6e3529ed-c30a-42d5-dfdc-09d6dad526b2"
      },
      "execution_count": 20,
      "outputs": [
        {
          "output_type": "stream",
          "name": "stderr",
          "text": [
            "WARNING:absl:Compiled the loaded model, but the compiled metrics have yet to be built. `model.compile_metrics` will be empty until you train or evaluate the model.\n"
          ]
        },
        {
          "output_type": "stream",
          "name": "stdout",
          "text": [
            "\u001b[1m1/1\u001b[0m \u001b[32m━━━━━━━━━━━━━━━━━━━━\u001b[0m\u001b[37m\u001b[0m \u001b[1m0s\u001b[0m 276ms/step\n",
            "Predicted Class: 9\n",
            "Predicted Label: 9\n"
          ]
        },
        {
          "output_type": "display_data",
          "data": {
            "text/plain": [
              "<PIL.Image.Image image mode=RGB size=32x32>"
            ],
            "image/png": "[encoded data removed]",
            "image/jpeg": "[encoded data removed]"
          },
          "metadata": {}
        }
      ]
    }
  ],
  "metadata": {
    "accelerator": "GPU",
    "colab": {
      "provenance": [],
      "gpuType": "L4"
    },
    "kernelspec": {
      "display_name": "Python 3",
      "name": "python3"
    },
    "language_info": {
      "name": "python"
    }
  },
  "nbformat": 4,
  "nbformat_minor": 0
}